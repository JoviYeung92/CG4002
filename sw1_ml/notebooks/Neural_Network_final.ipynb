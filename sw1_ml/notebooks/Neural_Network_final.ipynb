{
 "metadata": {
  "language_info": {
   "codemirror_mode": {
    "name": "ipython",
    "version": 3
   },
   "file_extension": ".py",
   "mimetype": "text/x-python",
   "name": "python",
   "nbconvert_exporter": "python",
   "pygments_lexer": "ipython3",
   "version": "3.6.2-final"
  },
  "orig_nbformat": 2,
  "kernelspec": {
   "name": "python3",
   "display_name": "Python 3.6.2 64-bit",
   "metadata": {
    "interpreter": {
     "hash": "e6adf29cef8b061b341cb433c300a676913b4f582f04207333fdbe5b7280c514"
    }
   }
  }
 },
 "nbformat": 4,
 "nbformat_minor": 2,
 "cells": [
  {
   "cell_type": "code",
   "execution_count": 1,
   "metadata": {
    "tags": []
   },
   "outputs": [],
   "source": [
    "import sys\n",
    "import torch\n",
    "from torch import nn\n",
    "import torch.nn.functional as F\n",
    "import numpy as np\n",
    "import seaborn as sn\n",
    "import matplotlib.pyplot as plt\n",
    "from sklearn.utils import shuffle\n",
    "\n",
    "from ignite.engine import Events, create_supervised_trainer, create_supervised_evaluator\n",
    "from ignite.metrics import Accuracy, Loss\n",
    "from ignite.handlers import EarlyStopping\n",
    "\n",
    "sys.path.insert(1, 'C:\\\\Users\\\\shrey\\\\Desktop\\\\NUS- Everything\\\\Semester 7\\\\CG4002\\\\CG4002_B18\\\\sw1_ml\\\\src\\\\data\\\\')\n",
    "sys.path.insert(2, 'C:\\\\Users\\\\shrey\\\\Desktop\\\\NUS- Everything\\\\Semester 7\\\\CG4002\\\\CG4002_B18\\\\sw1_ml\\\\src\\\\model\\\\')\n",
    "sys.path.insert(3, 'C:\\\\Users\\\\shrey\\\\Desktop\\\\NUS- Everything\\\\Semester 7\\\\CG4002\\\\CG4002_B18\\\\sw1_ml\\\\src\\\\feature_extraction\\\\')\n",
    "\n",
    "from load_nn_data import load_neural_network_data\n",
    "from load_data import load_dance_data, load_position_data, load_position_data_w11\n",
    "from load_data import one_hot_encoder\n",
    "from combine_data import combine_dance_data, pre_process_dance_data, combine_all_dancer_data, pre_process_position_data, combine_all_position_data\n",
    "from neural_network_model import neural_network_model_fpga"
   ]
  },
  {
   "source": [
    "Run below when new data is added"
   ],
   "cell_type": "markdown",
   "metadata": {}
  },
  {
   "cell_type": "code",
   "execution_count": 14,
   "metadata": {},
   "outputs": [
    {
     "output_type": "stream",
     "name": "stdout",
     "text": [
      "Files read from  shre_err_13\n"
     ]
    }
   ],
   "source": [
    "# dataset = 'C:\\\\Users\\\\shrey\\\\Desktop\\\\NUS- Everything\\\\Semester 7\\\\CG4002\\\\CG4002_B18\\\\DataSets\\\\dance13_test\\\\'\n",
    "dataset = 'C:\\\\Users\\\\shrey\\\\Desktop\\\\NUS- Everything\\\\Semester 7\\\\CG4002\\\\CG4002_B18\\\\DataSets\\\\dance13_test1\\\\'\n",
    "combine_dance_data(dataset)\n",
    "pre_process_dance_data(dataset)"
   ]
  },
  {
   "cell_type": "code",
   "execution_count": 15,
   "metadata": {},
   "outputs": [],
   "source": [
    "dataset = 'C:\\\\Users\\\\shrey\\\\Desktop\\\\NUS- Everything\\\\Semester 7\\\\CG4002\\\\CG4002_B18\\\\DataSets\\\\'\n",
    "combine_all_dancer_data(dataset, 'dance13_test1', 'combined13_test')"
   ]
  },
  {
   "cell_type": "code",
   "execution_count": 13,
   "metadata": {
    "tags": []
   },
   "outputs": [
    {
     "output_type": "stream",
     "name": "stdout",
     "text": [
      "Files read from elbow.txt\n",
      "Files read from hair.txt\n",
      "Files read from logout.txt\n",
      "Files read from pushback.txt\n",
      "Files read from rocket.txt\n",
      "Files read from scarecrow.txt\n",
      "Files read from shoulder.txt\n",
      "Files read from window.txt\n",
      "Files read from zigzag.txt\n"
     ]
    }
   ],
   "source": [
    "dataset = 'C:\\\\Users\\\\shrey\\\\Desktop\\\\NUS- Everything\\\\Semester 7\\\\CG4002\\\\CG4002_B18\\\\DataSets\\\\combined13_test\\\\'\n",
    "# dataset = 'C:\\\\Users\\\\shrey\\\\Desktop\\\\NUS- Everything\\\\Semester 7\\\\CG4002\\\\CG4002_B18\\\\DataSets\\\\combined13\\\\'\n",
    "\n",
    "sampling_rate = 5\n",
    "window_size = 2.56\n",
    "\n",
    "X, y = load_dance_data(dataset, sampling_rate, window_size)"
   ]
  },
  {
   "source": [
    "### NEURAL NETWORK IMPLEMENTATION\n",
    "\n",
    "Ignite is a High-level library to help with training neural networks in PyTorch. It comes with an Engine to setup a training loop, various metrics, handlers and a helpful contrib section!\n",
    "\n",
    "Below we import the following:\n",
    "\n",
    "* **Engine**: Runs a given process_function over each batch of a dataset, emitting events as it goes.\n",
    "* **Events**: Allows users to attach functions to an Engine to fire functions at a specific event. Eg: EPOCH_COMPLETED, ITERATION_STARTED, etc.\n",
    "* **Accuracy**: Metric to calculate accuracy over a dataset, for binary, multiclass, multilabel cases.\n",
    "* **Loss**: General metric that takes a loss function as a parameter, calculate loss over a dataset.\n",
    "* **RunningAverage**: General metric to attach to Engine during training.\n",
    "* **EarlyStopping**: Handler to stop training based on a score function."
   ],
   "cell_type": "markdown",
   "metadata": {}
  },
  {
   "cell_type": "code",
   "execution_count": 19,
   "metadata": {},
   "outputs": [],
   "source": [
    "X, y = shuffle(X, y)\n",
    "X_train, X_test = X[:int(len(X)*0.8), :], X[int(len(X)*0.8):, :]\n",
    "y_train, y_test = y[:int(len(X)*0.8), :], y[int(len(X)*0.8):, :]\n",
    "\n",
    "X_train = torch.from_numpy(X_train).float()\n",
    "y_train = torch.from_numpy(y_train).float()\n",
    "y_train = y_train.reshape(y_train.shape[0]).long()\n",
    "\n",
    "X_test = torch.from_numpy(X_test).float()\n",
    "y_test = torch.from_numpy(y_test).float()\n",
    "y_test = y_test.reshape(y_test.shape[0]).long()\n",
    "\n",
    "in_size = X.shape[1]\n",
    "out_size = one_hot_encoder(y).shape[1]"
   ]
  },
  {
   "cell_type": "code",
   "execution_count": 16,
   "metadata": {},
   "outputs": [],
   "source": [
    "nn_model = neural_network_model_fpga(input_size=in_size, hidden_states= [256,128], output_size=out_size)\n",
    "loss = nn.CrossEntropyLoss()\n",
    "optimizer = torch.optim.Adam(nn_model.parameters(), lr=0.001)\n",
    "\n",
    "device = torch.device(\"cuda:0\" if torch.cuda.is_available() else \"cpu\")"
   ]
  },
  {
   "cell_type": "code",
   "execution_count": 20,
   "metadata": {},
   "outputs": [],
   "source": [
    "trainloader, testloader = load_neural_network_data(X_train, y_train, X_test, y_test)"
   ]
  },
  {
   "cell_type": "code",
   "execution_count": 21,
   "metadata": {
    "tags": []
   },
   "outputs": [
    {
     "output_type": "stream",
     "name": "stdout",
     "text": [
      "Training Results - Epoch: 1  Avg accuracy: 0.92 Avg loss: 0.29\n",
      "Validation Results - Epoch: 1  Avg accuracy: 0.89 Avg loss: 0.34\n",
      "Training Results - Epoch: 2  Avg accuracy: 0.93 Avg loss: 0.25\n",
      "Validation Results - Epoch: 2  Avg accuracy: 0.89 Avg loss: 0.33\n",
      "Training Results - Epoch: 3  Avg accuracy: 0.91 Avg loss: 0.27\n",
      "Validation Results - Epoch: 3  Avg accuracy: 0.81 Avg loss: 0.49\n",
      "Training Results - Epoch: 4  Avg accuracy: 0.92 Avg loss: 0.26\n",
      "Validation Results - Epoch: 4  Avg accuracy: 0.87 Avg loss: 0.41\n"
     ]
    },
    {
     "output_type": "execute_result",
     "data": {
      "text/plain": [
       "State:\n",
       "\titeration: 84\n",
       "\tepoch: 4\n",
       "\tepoch_length: 21\n",
       "\tmax_epochs: 25\n",
       "\toutput: 0.10138930380344391\n",
       "\tbatch: <class 'list'>\n",
       "\tmetrics: <class 'dict'>\n",
       "\tdataloader: <class 'torch.utils.data.dataloader.DataLoader'>\n",
       "\tseed: <class 'NoneType'>\n",
       "\ttimes: <class 'dict'>"
      ]
     },
     "metadata": {},
     "execution_count": 21
    }
   ],
   "source": [
    "def score_function(engine):\n",
    "    val_loss = engine.state.metrics['crossentropy']\n",
    "    accuracy = engine.state.metrics['accuracy']\n",
    "    return accuracy\n",
    "\n",
    "trainer = create_supervised_trainer(nn_model, optimizer, loss)\n",
    "evaluator = create_supervised_evaluator(nn_model,\n",
    "                                        metrics={\n",
    "                                            'accuracy': Accuracy(),\n",
    "                                            'crossentropy': Loss(loss)\n",
    "                                            })\n",
    "\n",
    "handler = EarlyStopping(patience=5, score_function=score_function, trainer=trainer)\n",
    "# Note: the handler is attached to an *Evaluator* (runs one epoch on validation dataset).\n",
    "evaluator.add_event_handler(Events.COMPLETED, handler)\n",
    "\n",
    "@trainer.on(Events.EPOCH_COMPLETED)\n",
    "def log_training_results(trainer):\n",
    "    evaluator.run(trainloader)\n",
    "    metrics = evaluator.state.metrics\n",
    "    print(\"Training Results - Epoch: {}  Avg accuracy: {:.2f} Avg loss: {:.2f}\"\n",
    "          .format(trainer.state.epoch, metrics['accuracy'], metrics['crossentropy']))\n",
    "\n",
    "@trainer.on(Events.EPOCH_COMPLETED)\n",
    "def log_validation_results(trainer):\n",
    "    evaluator.run(testloader)\n",
    "    metrics = evaluator.state.metrics\n",
    "    print(\"Validation Results - Epoch: {}  Avg accuracy: {:.2f} Avg loss: {:.2f}\"\n",
    "          .format(trainer.state.epoch, metrics['accuracy'], metrics['crossentropy']))\n",
    "\n",
    "trainer.run(trainloader, max_epochs=25)"
   ]
  },
  {
   "cell_type": "code",
   "execution_count": 22,
   "metadata": {},
   "outputs": [],
   "source": [
    "nb_classes = 9\n",
    "\n",
    "confusion_matrix = np.zeros((nb_classes, nb_classes))\n",
    "correct = total = 0\n",
    "\n",
    "with torch.no_grad():\n",
    "    for inputs, labels in testloader:\n",
    "        outputs = nn_model(inputs)\n",
    "        \n",
    "        # print('Input-')\n",
    "        # print(inputs[0].numpy())\n",
    "        # print('Output-')\n",
    "        # print(labels[0].numpy())\n",
    "        \n",
    "        _, predicted = torch.max(outputs, 1)\n",
    "        # print('Predicted-')\n",
    "        # print(predicted[0].numpy())\n",
    "        total += labels.size(0)\n",
    "        correct += (predicted == labels).sum().item()\n",
    "        for t, p in zip(labels.view(-1), predicted.view(-1)):\n",
    "            confusion_matrix[t.long(), p.long()] += 1\n",
    "\n",
    "#confusion_matrix = np.delete(confusion_matrix, 0, 0)\n",
    "#confusion_matrix = np.delete(confusion_matrix, 0, 1)\n"
   ]
  },
  {
   "cell_type": "code",
   "execution_count": 23,
   "metadata": {
    "tags": []
   },
   "outputs": [
    {
     "output_type": "stream",
     "name": "stdout",
     "text": [
      "Accuracy of the network on the test inputs: 87 %\nConfusion Matrix of Neural Network- \n[[20.  0.  0.  0.  0.  0.  0.  0.  0.]\n [ 0. 20.  0.  0.  0.  0.  0.  0.  1.]\n [ 0.  0.  9.  0.  3.  0.  0.  0.  1.]\n [ 0.  0.  1. 19.  0.  0.  0.  1.  0.]\n [ 0.  0.  3.  1. 15.  0.  0.  0.  0.]\n [ 0.  1.  0.  0.  0. 15.  0.  3.  2.]\n [ 0.  0.  0.  0.  0.  0. 26.  0.  0.]\n [ 0.  0.  0.  0.  0.  0.  0. 13.  0.]\n [ 0.  3.  0.  0.  0.  0.  0.  1.  8.]]\n"
     ]
    }
   ],
   "source": [
    "print('Accuracy of the network on the test inputs: %d %%' % (\n",
    "    100 * correct / total))\n",
    "print('Confusion Matrix of Neural Network- ')\n",
    "print(confusion_matrix)"
   ]
  },
  {
   "cell_type": "code",
   "execution_count": 24,
   "metadata": {},
   "outputs": [
    {
     "output_type": "execute_result",
     "data": {
      "text/plain": [
       "<matplotlib.axes._subplots.AxesSubplot at 0x1efbb674710>"
      ]
     },
     "metadata": {},
     "execution_count": 24
    },
    {
     "output_type": "display_data",
     "data": {
      "text/plain": "<Figure size 1080x864 with 2 Axes>",
      "image/svg+xml": "<?xml version=\"1.0\" encoding=\"utf-8\" standalone=\"no\"?>\r\n<!DOCTYPE svg PUBLIC \"-//W3C//DTD SVG 1.1//EN\"\r\n  \"http://www.w3.org/Graphics/SVG/1.1/DTD/svg11.dtd\">\r\n<!-- Created with matplotlib (https://matplotlib.org/) -->\r\n<svg height=\"688.237188pt\" version=\"1.1\" viewBox=\"0 0 794.869125 688.237188\" width=\"794.869125pt\" xmlns=\"http://www.w3.org/2000/svg\" xmlns:xlink=\"http://www.w3.org/1999/xlink\">\r\n <defs>\r\n  <style type=\"text/css\">\r\n*{stroke-linecap:butt;stroke-linejoin:round;}\r\n  </style>\r\n </defs>\r\n <g id=\"figure_1\">\r\n  <g id=\"patch_1\">\r\n   <path d=\"M 0 688.237188 \r\nL 794.869125 688.237188 \r\nL 794.869125 0 \r\nL 0 0 \r\nz\r\n\" style=\"fill:none;\"/>\r\n  </g>\r\n  <g id=\"axes_1\">\r\n   <g id=\"patch_2\">\r\n    <path d=\"M 23.878125 664.359062 \r\nL 693.478125 664.359062 \r\nL 693.478125 12.039062 \r\nL 23.878125 12.039062 \r\nz\r\n\" style=\"fill:#ffffff;\"/>\r\n   </g>\r\n   <g id=\"QuadMesh_1\">\r\n    <path clip-path=\"url(#pf726854678)\" d=\"M 23.878125 -28.730938 \r\nL 98.278125 -28.730938 \r\nL 98.278125 52.809062 \r\nL 23.878125 52.809062 \r\nL 23.878125 -28.730938 \r\n\" style=\"fill:#f58f66;\"/>\r\n    <path clip-path=\"url(#pf726854678)\" d=\"M 98.278125 -28.730938 \r\nL 172.678125 -28.730938 \r\nL 172.678125 52.809062 \r\nL 98.278125 52.809062 \r\nL 98.278125 -28.730938 \r\n\" style=\"fill:#03051a;\"/>\r\n    <path clip-path=\"url(#pf726854678)\" d=\"M 172.678125 -28.730938 \r\nL 247.078125 -28.730938 \r\nL 247.078125 52.809062 \r\nL 172.678125 52.809062 \r\nL 172.678125 -28.730938 \r\n\" style=\"fill:#03051a;\"/>\r\n    <path clip-path=\"url(#pf726854678)\" d=\"M 247.078125 -28.730938 \r\nL 321.478125 -28.730938 \r\nL 321.478125 52.809062 \r\nL 247.078125 52.809062 \r\nL 247.078125 -28.730938 \r\n\" style=\"fill:#03051a;\"/>\r\n    <path clip-path=\"url(#pf726854678)\" d=\"M 321.478125 -28.730938 \r\nL 395.878125 -28.730938 \r\nL 395.878125 52.809062 \r\nL 321.478125 52.809062 \r\nL 321.478125 -28.730938 \r\n\" style=\"fill:#03051a;\"/>\r\n    <path clip-path=\"url(#pf726854678)\" d=\"M 395.878125 -28.730938 \r\nL 470.278125 -28.730938 \r\nL 470.278125 52.809062 \r\nL 395.878125 52.809062 \r\nL 395.878125 -28.730938 \r\n\" style=\"fill:#03051a;\"/>\r\n    <path clip-path=\"url(#pf726854678)\" d=\"M 470.278125 -28.730938 \r\nL 544.678125 -28.730938 \r\nL 544.678125 52.809062 \r\nL 470.278125 52.809062 \r\nL 470.278125 -28.730938 \r\n\" style=\"fill:#03051a;\"/>\r\n    <path clip-path=\"url(#pf726854678)\" d=\"M 544.678125 -28.730938 \r\nL 619.078125 -28.730938 \r\nL 619.078125 52.809062 \r\nL 544.678125 52.809062 \r\nL 544.678125 -28.730938 \r\n\" style=\"fill:#03051a;\"/>\r\n    <path clip-path=\"url(#pf726854678)\" d=\"M 619.078125 -28.730938 \r\nL 693.478125 -28.730938 \r\nL 693.478125 52.809062 \r\nL 619.078125 52.809062 \r\nL 619.078125 -28.730938 \r\n\" style=\"fill:#03051a;\"/>\r\n    <path clip-path=\"url(#pf726854678)\" d=\"M 23.878125 52.809062 \r\nL 98.278125 52.809062 \r\nL 98.278125 134.349062 \r\nL 23.878125 134.349062 \r\nL 23.878125 52.809062 \r\n\" style=\"fill:#03051a;\"/>\r\n    <path clip-path=\"url(#pf726854678)\" d=\"M 98.278125 52.809062 \r\nL 172.678125 52.809062 \r\nL 172.678125 134.349062 \r\nL 98.278125 134.349062 \r\nL 98.278125 52.809062 \r\n\" style=\"fill:#f58f66;\"/>\r\n    <path clip-path=\"url(#pf726854678)\" d=\"M 172.678125 52.809062 \r\nL 247.078125 52.809062 \r\nL 247.078125 134.349062 \r\nL 172.678125 134.349062 \r\nL 172.678125 52.809062 \r\n\" style=\"fill:#03051a;\"/>\r\n    <path clip-path=\"url(#pf726854678)\" d=\"M 247.078125 52.809062 \r\nL 321.478125 52.809062 \r\nL 321.478125 134.349062 \r\nL 247.078125 134.349062 \r\nL 247.078125 52.809062 \r\n\" style=\"fill:#03051a;\"/>\r\n    <path clip-path=\"url(#pf726854678)\" d=\"M 321.478125 52.809062 \r\nL 395.878125 52.809062 \r\nL 395.878125 134.349062 \r\nL 321.478125 134.349062 \r\nL 321.478125 52.809062 \r\n\" style=\"fill:#03051a;\"/>\r\n    <path clip-path=\"url(#pf726854678)\" d=\"M 395.878125 52.809062 \r\nL 470.278125 52.809062 \r\nL 470.278125 134.349062 \r\nL 395.878125 134.349062 \r\nL 395.878125 52.809062 \r\n\" style=\"fill:#03051a;\"/>\r\n    <path clip-path=\"url(#pf726854678)\" d=\"M 470.278125 52.809062 \r\nL 544.678125 52.809062 \r\nL 544.678125 134.349062 \r\nL 470.278125 134.349062 \r\nL 470.278125 52.809062 \r\n\" style=\"fill:#03051a;\"/>\r\n    <path clip-path=\"url(#pf726854678)\" d=\"M 544.678125 52.809062 \r\nL 619.078125 52.809062 \r\nL 619.078125 134.349062 \r\nL 544.678125 134.349062 \r\nL 544.678125 52.809062 \r\n\" style=\"fill:#03051a;\"/>\r\n    <path clip-path=\"url(#pf726854678)\" d=\"M 619.078125 52.809062 \r\nL 693.478125 52.809062 \r\nL 693.478125 134.349062 \r\nL 619.078125 134.349062 \r\nL 619.078125 52.809062 \r\n\" style=\"fill:#0e0b22;\"/>\r\n    <path clip-path=\"url(#pf726854678)\" d=\"M 23.878125 134.349062 \r\nL 98.278125 134.349062 \r\nL 98.278125 215.889062 \r\nL 23.878125 215.889062 \r\nL 23.878125 134.349062 \r\n\" style=\"fill:#03051a;\"/>\r\n    <path clip-path=\"url(#pf726854678)\" d=\"M 98.278125 134.349062 \r\nL 172.678125 134.349062 \r\nL 172.678125 215.889062 \r\nL 98.278125 215.889062 \r\nL 98.278125 134.349062 \r\n\" style=\"fill:#03051a;\"/>\r\n    <path clip-path=\"url(#pf726854678)\" d=\"M 172.678125 134.349062 \r\nL 247.078125 134.349062 \r\nL 247.078125 215.889062 \r\nL 172.678125 215.889062 \r\nL 172.678125 134.349062 \r\n\" style=\"fill:#891e5b;\"/>\r\n    <path clip-path=\"url(#pf726854678)\" d=\"M 247.078125 134.349062 \r\nL 321.478125 134.349062 \r\nL 321.478125 215.889062 \r\nL 247.078125 215.889062 \r\nL 247.078125 134.349062 \r\n\" style=\"fill:#03051a;\"/>\r\n    <path clip-path=\"url(#pf726854678)\" d=\"M 321.478125 134.349062 \r\nL 395.878125 134.349062 \r\nL 395.878125 215.889062 \r\nL 321.478125 215.889062 \r\nL 321.478125 134.349062 \r\n\" style=\"fill:#2b1637;\"/>\r\n    <path clip-path=\"url(#pf726854678)\" d=\"M 395.878125 134.349062 \r\nL 470.278125 134.349062 \r\nL 470.278125 215.889062 \r\nL 395.878125 215.889062 \r\nL 395.878125 134.349062 \r\n\" style=\"fill:#03051a;\"/>\r\n    <path clip-path=\"url(#pf726854678)\" d=\"M 470.278125 134.349062 \r\nL 544.678125 134.349062 \r\nL 544.678125 215.889062 \r\nL 470.278125 215.889062 \r\nL 470.278125 134.349062 \r\n\" style=\"fill:#03051a;\"/>\r\n    <path clip-path=\"url(#pf726854678)\" d=\"M 544.678125 134.349062 \r\nL 619.078125 134.349062 \r\nL 619.078125 215.889062 \r\nL 544.678125 215.889062 \r\nL 544.678125 134.349062 \r\n\" style=\"fill:#03051a;\"/>\r\n    <path clip-path=\"url(#pf726854678)\" d=\"M 619.078125 134.349062 \r\nL 693.478125 134.349062 \r\nL 693.478125 215.889062 \r\nL 619.078125 215.889062 \r\nL 619.078125 134.349062 \r\n\" style=\"fill:#0e0b22;\"/>\r\n    <path clip-path=\"url(#pf726854678)\" d=\"M 23.878125 215.889062 \r\nL 98.278125 215.889062 \r\nL 98.278125 297.429062 \r\nL 23.878125 297.429062 \r\nL 23.878125 215.889062 \r\n\" style=\"fill:#03051a;\"/>\r\n    <path clip-path=\"url(#pf726854678)\" d=\"M 98.278125 215.889062 \r\nL 172.678125 215.889062 \r\nL 172.678125 297.429062 \r\nL 98.278125 297.429062 \r\nL 98.278125 215.889062 \r\n\" style=\"fill:#03051a;\"/>\r\n    <path clip-path=\"url(#pf726854678)\" d=\"M 172.678125 215.889062 \r\nL 247.078125 215.889062 \r\nL 247.078125 297.429062 \r\nL 172.678125 297.429062 \r\nL 172.678125 215.889062 \r\n\" style=\"fill:#0e0b22;\"/>\r\n    <path clip-path=\"url(#pf726854678)\" d=\"M 247.078125 215.889062 \r\nL 321.478125 215.889062 \r\nL 321.478125 297.429062 \r\nL 247.078125 297.429062 \r\nL 247.078125 215.889062 \r\n\" style=\"fill:#f47f58;\"/>\r\n    <path clip-path=\"url(#pf726854678)\" d=\"M 321.478125 215.889062 \r\nL 395.878125 215.889062 \r\nL 395.878125 297.429062 \r\nL 321.478125 297.429062 \r\nL 321.478125 215.889062 \r\n\" style=\"fill:#03051a;\"/>\r\n    <path clip-path=\"url(#pf726854678)\" d=\"M 395.878125 215.889062 \r\nL 470.278125 215.889062 \r\nL 470.278125 297.429062 \r\nL 395.878125 297.429062 \r\nL 395.878125 215.889062 \r\n\" style=\"fill:#03051a;\"/>\r\n    <path clip-path=\"url(#pf726854678)\" d=\"M 470.278125 215.889062 \r\nL 544.678125 215.889062 \r\nL 544.678125 297.429062 \r\nL 470.278125 297.429062 \r\nL 470.278125 215.889062 \r\n\" style=\"fill:#03051a;\"/>\r\n    <path clip-path=\"url(#pf726854678)\" d=\"M 544.678125 215.889062 \r\nL 619.078125 215.889062 \r\nL 619.078125 297.429062 \r\nL 544.678125 297.429062 \r\nL 544.678125 215.889062 \r\n\" style=\"fill:#0e0b22;\"/>\r\n    <path clip-path=\"url(#pf726854678)\" d=\"M 619.078125 215.889062 \r\nL 693.478125 215.889062 \r\nL 693.478125 297.429062 \r\nL 619.078125 297.429062 \r\nL 619.078125 215.889062 \r\n\" style=\"fill:#03051a;\"/>\r\n    <path clip-path=\"url(#pf726854678)\" d=\"M 23.878125 297.429062 \r\nL 98.278125 297.429062 \r\nL 98.278125 378.969063 \r\nL 23.878125 378.969063 \r\nL 23.878125 297.429062 \r\n\" style=\"fill:#03051a;\"/>\r\n    <path clip-path=\"url(#pf726854678)\" d=\"M 98.278125 297.429062 \r\nL 172.678125 297.429062 \r\nL 172.678125 378.969063 \r\nL 98.278125 378.969063 \r\nL 98.278125 297.429062 \r\n\" style=\"fill:#03051a;\"/>\r\n    <path clip-path=\"url(#pf726854678)\" d=\"M 172.678125 297.429062 \r\nL 247.078125 297.429062 \r\nL 247.078125 378.969063 \r\nL 172.678125 378.969063 \r\nL 172.678125 297.429062 \r\n\" style=\"fill:#2b1637;\"/>\r\n    <path clip-path=\"url(#pf726854678)\" d=\"M 247.078125 297.429062 \r\nL 321.478125 297.429062 \r\nL 321.478125 378.969063 \r\nL 247.078125 378.969063 \r\nL 247.078125 297.429062 \r\n\" style=\"fill:#0e0b22;\"/>\r\n    <path clip-path=\"url(#pf726854678)\" d=\"M 321.478125 297.429062 \r\nL 395.878125 297.429062 \r\nL 395.878125 378.969063 \r\nL 321.478125 378.969063 \r\nL 321.478125 297.429062 \r\n\" style=\"fill:#e23442;\"/>\r\n    <path clip-path=\"url(#pf726854678)\" d=\"M 395.878125 297.429062 \r\nL 470.278125 297.429062 \r\nL 470.278125 378.969063 \r\nL 395.878125 378.969063 \r\nL 395.878125 297.429062 \r\n\" style=\"fill:#03051a;\"/>\r\n    <path clip-path=\"url(#pf726854678)\" d=\"M 470.278125 297.429062 \r\nL 544.678125 297.429062 \r\nL 544.678125 378.969063 \r\nL 470.278125 378.969063 \r\nL 470.278125 297.429062 \r\n\" style=\"fill:#03051a;\"/>\r\n    <path clip-path=\"url(#pf726854678)\" d=\"M 544.678125 297.429062 \r\nL 619.078125 297.429062 \r\nL 619.078125 378.969063 \r\nL 544.678125 378.969063 \r\nL 544.678125 297.429062 \r\n\" style=\"fill:#03051a;\"/>\r\n    <path clip-path=\"url(#pf726854678)\" d=\"M 619.078125 297.429062 \r\nL 693.478125 297.429062 \r\nL 693.478125 378.969063 \r\nL 619.078125 378.969063 \r\nL 619.078125 297.429062 \r\n\" style=\"fill:#03051a;\"/>\r\n    <path clip-path=\"url(#pf726854678)\" d=\"M 23.878125 378.969063 \r\nL 98.278125 378.969063 \r\nL 98.278125 460.509063 \r\nL 23.878125 460.509063 \r\nL 23.878125 378.969063 \r\n\" style=\"fill:#03051a;\"/>\r\n    <path clip-path=\"url(#pf726854678)\" d=\"M 98.278125 378.969063 \r\nL 172.678125 378.969063 \r\nL 172.678125 460.509063 \r\nL 98.278125 460.509063 \r\nL 98.278125 378.969063 \r\n\" style=\"fill:#0e0b22;\"/>\r\n    <path clip-path=\"url(#pf726854678)\" d=\"M 172.678125 378.969063 \r\nL 247.078125 378.969063 \r\nL 247.078125 460.509063 \r\nL 172.678125 460.509063 \r\nL 172.678125 378.969063 \r\n\" style=\"fill:#03051a;\"/>\r\n    <path clip-path=\"url(#pf726854678)\" d=\"M 247.078125 378.969063 \r\nL 321.478125 378.969063 \r\nL 321.478125 460.509063 \r\nL 247.078125 460.509063 \r\nL 247.078125 378.969063 \r\n\" style=\"fill:#03051a;\"/>\r\n    <path clip-path=\"url(#pf726854678)\" d=\"M 321.478125 378.969063 \r\nL 395.878125 378.969063 \r\nL 395.878125 460.509063 \r\nL 321.478125 460.509063 \r\nL 321.478125 378.969063 \r\n\" style=\"fill:#03051a;\"/>\r\n    <path clip-path=\"url(#pf726854678)\" d=\"M 395.878125 378.969063 \r\nL 470.278125 378.969063 \r\nL 470.278125 460.509063 \r\nL 395.878125 460.509063 \r\nL 395.878125 378.969063 \r\n\" style=\"fill:#e23442;\"/>\r\n    <path clip-path=\"url(#pf726854678)\" d=\"M 470.278125 378.969063 \r\nL 544.678125 378.969063 \r\nL 544.678125 460.509063 \r\nL 470.278125 460.509063 \r\nL 470.278125 378.969063 \r\n\" style=\"fill:#03051a;\"/>\r\n    <path clip-path=\"url(#pf726854678)\" d=\"M 544.678125 378.969063 \r\nL 619.078125 378.969063 \r\nL 619.078125 460.509063 \r\nL 544.678125 460.509063 \r\nL 544.678125 378.969063 \r\n\" style=\"fill:#2b1637;\"/>\r\n    <path clip-path=\"url(#pf726854678)\" d=\"M 619.078125 378.969063 \r\nL 693.478125 378.969063 \r\nL 693.478125 460.509063 \r\nL 619.078125 460.509063 \r\nL 619.078125 378.969063 \r\n\" style=\"fill:#1d112c;\"/>\r\n    <path clip-path=\"url(#pf726854678)\" d=\"M 23.878125 460.509063 \r\nL 98.278125 460.509063 \r\nL 98.278125 542.049063 \r\nL 23.878125 542.049063 \r\nL 23.878125 460.509063 \r\n\" style=\"fill:#03051a;\"/>\r\n    <path clip-path=\"url(#pf726854678)\" d=\"M 98.278125 460.509063 \r\nL 172.678125 460.509063 \r\nL 172.678125 542.049063 \r\nL 98.278125 542.049063 \r\nL 98.278125 460.509063 \r\n\" style=\"fill:#03051a;\"/>\r\n    <path clip-path=\"url(#pf726854678)\" d=\"M 172.678125 460.509063 \r\nL 247.078125 460.509063 \r\nL 247.078125 542.049063 \r\nL 172.678125 542.049063 \r\nL 172.678125 460.509063 \r\n\" style=\"fill:#03051a;\"/>\r\n    <path clip-path=\"url(#pf726854678)\" d=\"M 247.078125 460.509063 \r\nL 321.478125 460.509063 \r\nL 321.478125 542.049063 \r\nL 247.078125 542.049063 \r\nL 247.078125 460.509063 \r\n\" style=\"fill:#03051a;\"/>\r\n    <path clip-path=\"url(#pf726854678)\" d=\"M 321.478125 460.509063 \r\nL 395.878125 460.509063 \r\nL 395.878125 542.049063 \r\nL 321.478125 542.049063 \r\nL 321.478125 460.509063 \r\n\" style=\"fill:#03051a;\"/>\r\n    <path clip-path=\"url(#pf726854678)\" d=\"M 395.878125 460.509063 \r\nL 470.278125 460.509063 \r\nL 470.278125 542.049063 \r\nL 395.878125 542.049063 \r\nL 395.878125 460.509063 \r\n\" style=\"fill:#03051a;\"/>\r\n    <path clip-path=\"url(#pf726854678)\" d=\"M 470.278125 460.509063 \r\nL 544.678125 460.509063 \r\nL 544.678125 542.049063 \r\nL 470.278125 542.049063 \r\nL 470.278125 460.509063 \r\n\" style=\"fill:#faebdd;\"/>\r\n    <path clip-path=\"url(#pf726854678)\" d=\"M 544.678125 460.509063 \r\nL 619.078125 460.509063 \r\nL 619.078125 542.049063 \r\nL 544.678125 542.049063 \r\nL 544.678125 460.509063 \r\n\" style=\"fill:#03051a;\"/>\r\n    <path clip-path=\"url(#pf726854678)\" d=\"M 619.078125 460.509063 \r\nL 693.478125 460.509063 \r\nL 693.478125 542.049063 \r\nL 619.078125 542.049063 \r\nL 619.078125 460.509063 \r\n\" style=\"fill:#03051a;\"/>\r\n    <path clip-path=\"url(#pf726854678)\" d=\"M 23.878125 542.049063 \r\nL 98.278125 542.049063 \r\nL 98.278125 623.589063 \r\nL 23.878125 623.589063 \r\nL 23.878125 542.049063 \r\n\" style=\"fill:#03051a;\"/>\r\n    <path clip-path=\"url(#pf726854678)\" d=\"M 98.278125 542.049063 \r\nL 172.678125 542.049063 \r\nL 172.678125 623.589063 \r\nL 98.278125 623.589063 \r\nL 98.278125 542.049063 \r\n\" style=\"fill:#03051a;\"/>\r\n    <path clip-path=\"url(#pf726854678)\" d=\"M 172.678125 542.049063 \r\nL 247.078125 542.049063 \r\nL 247.078125 623.589063 \r\nL 172.678125 623.589063 \r\nL 172.678125 542.049063 \r\n\" style=\"fill:#03051a;\"/>\r\n    <path clip-path=\"url(#pf726854678)\" d=\"M 247.078125 542.049063 \r\nL 321.478125 542.049063 \r\nL 321.478125 623.589063 \r\nL 247.078125 623.589063 \r\nL 247.078125 542.049063 \r\n\" style=\"fill:#03051a;\"/>\r\n    <path clip-path=\"url(#pf726854678)\" d=\"M 321.478125 542.049063 \r\nL 395.878125 542.049063 \r\nL 395.878125 623.589063 \r\nL 321.478125 623.589063 \r\nL 321.478125 542.049063 \r\n\" style=\"fill:#03051a;\"/>\r\n    <path clip-path=\"url(#pf726854678)\" d=\"M 395.878125 542.049063 \r\nL 470.278125 542.049063 \r\nL 470.278125 623.589063 \r\nL 395.878125 623.589063 \r\nL 395.878125 542.049063 \r\n\" style=\"fill:#03051a;\"/>\r\n    <path clip-path=\"url(#pf726854678)\" d=\"M 470.278125 542.049063 \r\nL 544.678125 542.049063 \r\nL 544.678125 623.589063 \r\nL 470.278125 623.589063 \r\nL 470.278125 542.049063 \r\n\" style=\"fill:#03051a;\"/>\r\n    <path clip-path=\"url(#pf726854678)\" d=\"M 544.678125 542.049063 \r\nL 619.078125 542.049063 \r\nL 619.078125 623.589063 \r\nL 544.678125 623.589063 \r\nL 544.678125 542.049063 \r\n\" style=\"fill:#cb1b4f;\"/>\r\n    <path clip-path=\"url(#pf726854678)\" d=\"M 619.078125 542.049063 \r\nL 693.478125 542.049063 \r\nL 693.478125 623.589063 \r\nL 619.078125 623.589063 \r\nL 619.078125 542.049063 \r\n\" style=\"fill:#03051a;\"/>\r\n    <path clip-path=\"url(#pf726854678)\" d=\"M 23.878125 623.589063 \r\nL 98.278125 623.589063 \r\nL 98.278125 705.129063 \r\nL 23.878125 705.129063 \r\nL 23.878125 623.589063 \r\n\" style=\"fill:#03051a;\"/>\r\n    <path clip-path=\"url(#pf726854678)\" d=\"M 98.278125 623.589063 \r\nL 172.678125 623.589063 \r\nL 172.678125 705.129063 \r\nL 98.278125 705.129063 \r\nL 98.278125 623.589063 \r\n\" style=\"fill:#2b1637;\"/>\r\n    <path clip-path=\"url(#pf726854678)\" d=\"M 172.678125 623.589063 \r\nL 247.078125 623.589063 \r\nL 247.078125 705.129063 \r\nL 172.678125 705.129063 \r\nL 172.678125 623.589063 \r\n\" style=\"fill:#03051a;\"/>\r\n    <path clip-path=\"url(#pf726854678)\" d=\"M 247.078125 623.589063 \r\nL 321.478125 623.589063 \r\nL 321.478125 705.129063 \r\nL 247.078125 705.129063 \r\nL 247.078125 623.589063 \r\n\" style=\"fill:#03051a;\"/>\r\n    <path clip-path=\"url(#pf726854678)\" d=\"M 321.478125 623.589063 \r\nL 395.878125 623.589063 \r\nL 395.878125 705.129063 \r\nL 321.478125 705.129063 \r\nL 321.478125 623.589063 \r\n\" style=\"fill:#03051a;\"/>\r\n    <path clip-path=\"url(#pf726854678)\" d=\"M 395.878125 623.589063 \r\nL 470.278125 623.589063 \r\nL 470.278125 705.129063 \r\nL 395.878125 705.129063 \r\nL 395.878125 623.589063 \r\n\" style=\"fill:#03051a;\"/>\r\n    <path clip-path=\"url(#pf726854678)\" d=\"M 470.278125 623.589063 \r\nL 544.678125 623.589063 \r\nL 544.678125 705.129063 \r\nL 470.278125 705.129063 \r\nL 470.278125 623.589063 \r\n\" style=\"fill:#03051a;\"/>\r\n    <path clip-path=\"url(#pf726854678)\" d=\"M 544.678125 623.589063 \r\nL 619.078125 623.589063 \r\nL 619.078125 705.129063 \r\nL 544.678125 705.129063 \r\nL 544.678125 623.589063 \r\n\" style=\"fill:#0e0b22;\"/>\r\n    <path clip-path=\"url(#pf726854678)\" d=\"M 619.078125 623.589063 \r\nL 693.478125 623.589063 \r\nL 693.478125 705.129063 \r\nL 619.078125 705.129063 \r\nL 619.078125 623.589063 \r\n\" style=\"fill:#781f59;\"/>\r\n   </g>\r\n   <g id=\"matplotlib.axis_1\">\r\n    <g id=\"xtick_1\">\r\n     <g id=\"line2d_1\">\r\n      <defs>\r\n       <path d=\"M 0 0 \r\nL 0 3.5 \r\n\" id=\"m267e8c341f\" style=\"stroke:#000000;stroke-width:0.8;\"/>\r\n      </defs>\r\n      <g>\r\n       <use style=\"stroke:#000000;stroke-width:0.8;\" x=\"61.078125\" xlink:href=\"#m267e8c341f\" y=\"664.359062\"/>\r\n      </g>\r\n     </g>\r\n     <g id=\"text_1\">\r\n      <!-- 0 -->\r\n      <defs>\r\n       <path d=\"M 31.78125 66.40625 \r\nQ 24.171875 66.40625 20.328125 58.90625 \r\nQ 16.5 51.421875 16.5 36.375 \r\nQ 16.5 21.390625 20.328125 13.890625 \r\nQ 24.171875 6.390625 31.78125 6.390625 \r\nQ 39.453125 6.390625 43.28125 13.890625 \r\nQ 47.125 21.390625 47.125 36.375 \r\nQ 47.125 51.421875 43.28125 58.90625 \r\nQ 39.453125 66.40625 31.78125 66.40625 \r\nz\r\nM 31.78125 74.21875 \r\nQ 44.046875 74.21875 50.515625 64.515625 \r\nQ 56.984375 54.828125 56.984375 36.375 \r\nQ 56.984375 17.96875 50.515625 8.265625 \r\nQ 44.046875 -1.421875 31.78125 -1.421875 \r\nQ 19.53125 -1.421875 13.0625 8.265625 \r\nQ 6.59375 17.96875 6.59375 36.375 \r\nQ 6.59375 54.828125 13.0625 64.515625 \r\nQ 19.53125 74.21875 31.78125 74.21875 \r\nz\r\n\" id=\"DejaVuSans-48\"/>\r\n      </defs>\r\n      <g transform=\"translate(57.896875 678.9575)scale(0.1 -0.1)\">\r\n       <use xlink:href=\"#DejaVuSans-48\"/>\r\n      </g>\r\n     </g>\r\n    </g>\r\n    <g id=\"xtick_2\">\r\n     <g id=\"line2d_2\">\r\n      <g>\r\n       <use style=\"stroke:#000000;stroke-width:0.8;\" x=\"135.478125\" xlink:href=\"#m267e8c341f\" y=\"664.359062\"/>\r\n      </g>\r\n     </g>\r\n     <g id=\"text_2\">\r\n      <!-- 1 -->\r\n      <defs>\r\n       <path d=\"M 12.40625 8.296875 \r\nL 28.515625 8.296875 \r\nL 28.515625 63.921875 \r\nL 10.984375 60.40625 \r\nL 10.984375 69.390625 \r\nL 28.421875 72.90625 \r\nL 38.28125 72.90625 \r\nL 38.28125 8.296875 \r\nL 54.390625 8.296875 \r\nL 54.390625 0 \r\nL 12.40625 0 \r\nz\r\n\" id=\"DejaVuSans-49\"/>\r\n      </defs>\r\n      <g transform=\"translate(132.296875 678.9575)scale(0.1 -0.1)\">\r\n       <use xlink:href=\"#DejaVuSans-49\"/>\r\n      </g>\r\n     </g>\r\n    </g>\r\n    <g id=\"xtick_3\">\r\n     <g id=\"line2d_3\">\r\n      <g>\r\n       <use style=\"stroke:#000000;stroke-width:0.8;\" x=\"209.878125\" xlink:href=\"#m267e8c341f\" y=\"664.359062\"/>\r\n      </g>\r\n     </g>\r\n     <g id=\"text_3\">\r\n      <!-- 2 -->\r\n      <defs>\r\n       <path d=\"M 19.1875 8.296875 \r\nL 53.609375 8.296875 \r\nL 53.609375 0 \r\nL 7.328125 0 \r\nL 7.328125 8.296875 \r\nQ 12.9375 14.109375 22.625 23.890625 \r\nQ 32.328125 33.6875 34.8125 36.53125 \r\nQ 39.546875 41.84375 41.421875 45.53125 \r\nQ 43.3125 49.21875 43.3125 52.78125 \r\nQ 43.3125 58.59375 39.234375 62.25 \r\nQ 35.15625 65.921875 28.609375 65.921875 \r\nQ 23.96875 65.921875 18.8125 64.3125 \r\nQ 13.671875 62.703125 7.8125 59.421875 \r\nL 7.8125 69.390625 \r\nQ 13.765625 71.78125 18.9375 73 \r\nQ 24.125 74.21875 28.421875 74.21875 \r\nQ 39.75 74.21875 46.484375 68.546875 \r\nQ 53.21875 62.890625 53.21875 53.421875 \r\nQ 53.21875 48.921875 51.53125 44.890625 \r\nQ 49.859375 40.875 45.40625 35.40625 \r\nQ 44.1875 33.984375 37.640625 27.21875 \r\nQ 31.109375 20.453125 19.1875 8.296875 \r\nz\r\n\" id=\"DejaVuSans-50\"/>\r\n      </defs>\r\n      <g transform=\"translate(206.696875 678.9575)scale(0.1 -0.1)\">\r\n       <use xlink:href=\"#DejaVuSans-50\"/>\r\n      </g>\r\n     </g>\r\n    </g>\r\n    <g id=\"xtick_4\">\r\n     <g id=\"line2d_4\">\r\n      <g>\r\n       <use style=\"stroke:#000000;stroke-width:0.8;\" x=\"284.278125\" xlink:href=\"#m267e8c341f\" y=\"664.359062\"/>\r\n      </g>\r\n     </g>\r\n     <g id=\"text_4\">\r\n      <!-- 3 -->\r\n      <defs>\r\n       <path d=\"M 40.578125 39.3125 \r\nQ 47.65625 37.796875 51.625 33 \r\nQ 55.609375 28.21875 55.609375 21.1875 \r\nQ 55.609375 10.40625 48.1875 4.484375 \r\nQ 40.765625 -1.421875 27.09375 -1.421875 \r\nQ 22.515625 -1.421875 17.65625 -0.515625 \r\nQ 12.796875 0.390625 7.625 2.203125 \r\nL 7.625 11.71875 \r\nQ 11.71875 9.328125 16.59375 8.109375 \r\nQ 21.484375 6.890625 26.8125 6.890625 \r\nQ 36.078125 6.890625 40.9375 10.546875 \r\nQ 45.796875 14.203125 45.796875 21.1875 \r\nQ 45.796875 27.640625 41.28125 31.265625 \r\nQ 36.765625 34.90625 28.71875 34.90625 \r\nL 20.21875 34.90625 \r\nL 20.21875 43.015625 \r\nL 29.109375 43.015625 \r\nQ 36.375 43.015625 40.234375 45.921875 \r\nQ 44.09375 48.828125 44.09375 54.296875 \r\nQ 44.09375 59.90625 40.109375 62.90625 \r\nQ 36.140625 65.921875 28.71875 65.921875 \r\nQ 24.65625 65.921875 20.015625 65.03125 \r\nQ 15.375 64.15625 9.8125 62.3125 \r\nL 9.8125 71.09375 \r\nQ 15.4375 72.65625 20.34375 73.4375 \r\nQ 25.25 74.21875 29.59375 74.21875 \r\nQ 40.828125 74.21875 47.359375 69.109375 \r\nQ 53.90625 64.015625 53.90625 55.328125 \r\nQ 53.90625 49.265625 50.4375 45.09375 \r\nQ 46.96875 40.921875 40.578125 39.3125 \r\nz\r\n\" id=\"DejaVuSans-51\"/>\r\n      </defs>\r\n      <g transform=\"translate(281.096875 678.9575)scale(0.1 -0.1)\">\r\n       <use xlink:href=\"#DejaVuSans-51\"/>\r\n      </g>\r\n     </g>\r\n    </g>\r\n    <g id=\"xtick_5\">\r\n     <g id=\"line2d_5\">\r\n      <g>\r\n       <use style=\"stroke:#000000;stroke-width:0.8;\" x=\"358.678125\" xlink:href=\"#m267e8c341f\" y=\"664.359062\"/>\r\n      </g>\r\n     </g>\r\n     <g id=\"text_5\">\r\n      <!-- 4 -->\r\n      <defs>\r\n       <path d=\"M 37.796875 64.3125 \r\nL 12.890625 25.390625 \r\nL 37.796875 25.390625 \r\nz\r\nM 35.203125 72.90625 \r\nL 47.609375 72.90625 \r\nL 47.609375 25.390625 \r\nL 58.015625 25.390625 \r\nL 58.015625 17.1875 \r\nL 47.609375 17.1875 \r\nL 47.609375 0 \r\nL 37.796875 0 \r\nL 37.796875 17.1875 \r\nL 4.890625 17.1875 \r\nL 4.890625 26.703125 \r\nz\r\n\" id=\"DejaVuSans-52\"/>\r\n      </defs>\r\n      <g transform=\"translate(355.496875 678.9575)scale(0.1 -0.1)\">\r\n       <use xlink:href=\"#DejaVuSans-52\"/>\r\n      </g>\r\n     </g>\r\n    </g>\r\n    <g id=\"xtick_6\">\r\n     <g id=\"line2d_6\">\r\n      <g>\r\n       <use style=\"stroke:#000000;stroke-width:0.8;\" x=\"433.078125\" xlink:href=\"#m267e8c341f\" y=\"664.359062\"/>\r\n      </g>\r\n     </g>\r\n     <g id=\"text_6\">\r\n      <!-- 5 -->\r\n      <defs>\r\n       <path d=\"M 10.796875 72.90625 \r\nL 49.515625 72.90625 \r\nL 49.515625 64.59375 \r\nL 19.828125 64.59375 \r\nL 19.828125 46.734375 \r\nQ 21.96875 47.46875 24.109375 47.828125 \r\nQ 26.265625 48.1875 28.421875 48.1875 \r\nQ 40.625 48.1875 47.75 41.5 \r\nQ 54.890625 34.8125 54.890625 23.390625 \r\nQ 54.890625 11.625 47.5625 5.09375 \r\nQ 40.234375 -1.421875 26.90625 -1.421875 \r\nQ 22.3125 -1.421875 17.546875 -0.640625 \r\nQ 12.796875 0.140625 7.71875 1.703125 \r\nL 7.71875 11.625 \r\nQ 12.109375 9.234375 16.796875 8.0625 \r\nQ 21.484375 6.890625 26.703125 6.890625 \r\nQ 35.15625 6.890625 40.078125 11.328125 \r\nQ 45.015625 15.765625 45.015625 23.390625 \r\nQ 45.015625 31 40.078125 35.4375 \r\nQ 35.15625 39.890625 26.703125 39.890625 \r\nQ 22.75 39.890625 18.8125 39.015625 \r\nQ 14.890625 38.140625 10.796875 36.28125 \r\nz\r\n\" id=\"DejaVuSans-53\"/>\r\n      </defs>\r\n      <g transform=\"translate(429.896875 678.9575)scale(0.1 -0.1)\">\r\n       <use xlink:href=\"#DejaVuSans-53\"/>\r\n      </g>\r\n     </g>\r\n    </g>\r\n    <g id=\"xtick_7\">\r\n     <g id=\"line2d_7\">\r\n      <g>\r\n       <use style=\"stroke:#000000;stroke-width:0.8;\" x=\"507.478125\" xlink:href=\"#m267e8c341f\" y=\"664.359062\"/>\r\n      </g>\r\n     </g>\r\n     <g id=\"text_7\">\r\n      <!-- 6 -->\r\n      <defs>\r\n       <path d=\"M 33.015625 40.375 \r\nQ 26.375 40.375 22.484375 35.828125 \r\nQ 18.609375 31.296875 18.609375 23.390625 \r\nQ 18.609375 15.53125 22.484375 10.953125 \r\nQ 26.375 6.390625 33.015625 6.390625 \r\nQ 39.65625 6.390625 43.53125 10.953125 \r\nQ 47.40625 15.53125 47.40625 23.390625 \r\nQ 47.40625 31.296875 43.53125 35.828125 \r\nQ 39.65625 40.375 33.015625 40.375 \r\nz\r\nM 52.59375 71.296875 \r\nL 52.59375 62.3125 \r\nQ 48.875 64.0625 45.09375 64.984375 \r\nQ 41.3125 65.921875 37.59375 65.921875 \r\nQ 27.828125 65.921875 22.671875 59.328125 \r\nQ 17.53125 52.734375 16.796875 39.40625 \r\nQ 19.671875 43.65625 24.015625 45.921875 \r\nQ 28.375 48.1875 33.59375 48.1875 \r\nQ 44.578125 48.1875 50.953125 41.515625 \r\nQ 57.328125 34.859375 57.328125 23.390625 \r\nQ 57.328125 12.15625 50.6875 5.359375 \r\nQ 44.046875 -1.421875 33.015625 -1.421875 \r\nQ 20.359375 -1.421875 13.671875 8.265625 \r\nQ 6.984375 17.96875 6.984375 36.375 \r\nQ 6.984375 53.65625 15.1875 63.9375 \r\nQ 23.390625 74.21875 37.203125 74.21875 \r\nQ 40.921875 74.21875 44.703125 73.484375 \r\nQ 48.484375 72.75 52.59375 71.296875 \r\nz\r\n\" id=\"DejaVuSans-54\"/>\r\n      </defs>\r\n      <g transform=\"translate(504.296875 678.9575)scale(0.1 -0.1)\">\r\n       <use xlink:href=\"#DejaVuSans-54\"/>\r\n      </g>\r\n     </g>\r\n    </g>\r\n    <g id=\"xtick_8\">\r\n     <g id=\"line2d_8\">\r\n      <g>\r\n       <use style=\"stroke:#000000;stroke-width:0.8;\" x=\"581.878125\" xlink:href=\"#m267e8c341f\" y=\"664.359062\"/>\r\n      </g>\r\n     </g>\r\n     <g id=\"text_8\">\r\n      <!-- 7 -->\r\n      <defs>\r\n       <path d=\"M 8.203125 72.90625 \r\nL 55.078125 72.90625 \r\nL 55.078125 68.703125 \r\nL 28.609375 0 \r\nL 18.3125 0 \r\nL 43.21875 64.59375 \r\nL 8.203125 64.59375 \r\nz\r\n\" id=\"DejaVuSans-55\"/>\r\n      </defs>\r\n      <g transform=\"translate(578.696875 678.9575)scale(0.1 -0.1)\">\r\n       <use xlink:href=\"#DejaVuSans-55\"/>\r\n      </g>\r\n     </g>\r\n    </g>\r\n    <g id=\"xtick_9\">\r\n     <g id=\"line2d_9\">\r\n      <g>\r\n       <use style=\"stroke:#000000;stroke-width:0.8;\" x=\"656.278125\" xlink:href=\"#m267e8c341f\" y=\"664.359062\"/>\r\n      </g>\r\n     </g>\r\n     <g id=\"text_9\">\r\n      <!-- 8 -->\r\n      <defs>\r\n       <path d=\"M 31.78125 34.625 \r\nQ 24.75 34.625 20.71875 30.859375 \r\nQ 16.703125 27.09375 16.703125 20.515625 \r\nQ 16.703125 13.921875 20.71875 10.15625 \r\nQ 24.75 6.390625 31.78125 6.390625 \r\nQ 38.8125 6.390625 42.859375 10.171875 \r\nQ 46.921875 13.96875 46.921875 20.515625 \r\nQ 46.921875 27.09375 42.890625 30.859375 \r\nQ 38.875 34.625 31.78125 34.625 \r\nz\r\nM 21.921875 38.8125 \r\nQ 15.578125 40.375 12.03125 44.71875 \r\nQ 8.5 49.078125 8.5 55.328125 \r\nQ 8.5 64.0625 14.71875 69.140625 \r\nQ 20.953125 74.21875 31.78125 74.21875 \r\nQ 42.671875 74.21875 48.875 69.140625 \r\nQ 55.078125 64.0625 55.078125 55.328125 \r\nQ 55.078125 49.078125 51.53125 44.71875 \r\nQ 48 40.375 41.703125 38.8125 \r\nQ 48.828125 37.15625 52.796875 32.3125 \r\nQ 56.78125 27.484375 56.78125 20.515625 \r\nQ 56.78125 9.90625 50.3125 4.234375 \r\nQ 43.84375 -1.421875 31.78125 -1.421875 \r\nQ 19.734375 -1.421875 13.25 4.234375 \r\nQ 6.78125 9.90625 6.78125 20.515625 \r\nQ 6.78125 27.484375 10.78125 32.3125 \r\nQ 14.796875 37.15625 21.921875 38.8125 \r\nz\r\nM 18.3125 54.390625 \r\nQ 18.3125 48.734375 21.84375 45.5625 \r\nQ 25.390625 42.390625 31.78125 42.390625 \r\nQ 38.140625 42.390625 41.71875 45.5625 \r\nQ 45.3125 48.734375 45.3125 54.390625 \r\nQ 45.3125 60.0625 41.71875 63.234375 \r\nQ 38.140625 66.40625 31.78125 66.40625 \r\nQ 25.390625 66.40625 21.84375 63.234375 \r\nQ 18.3125 60.0625 18.3125 54.390625 \r\nz\r\n\" id=\"DejaVuSans-56\"/>\r\n      </defs>\r\n      <g transform=\"translate(653.096875 678.9575)scale(0.1 -0.1)\">\r\n       <use xlink:href=\"#DejaVuSans-56\"/>\r\n      </g>\r\n     </g>\r\n    </g>\r\n   </g>\r\n   <g id=\"matplotlib.axis_2\">\r\n    <g id=\"ytick_1\">\r\n     <g id=\"line2d_10\">\r\n      <defs>\r\n       <path d=\"M 0 0 \r\nL -3.5 0 \r\n\" id=\"mf3aa78f35f\" style=\"stroke:#000000;stroke-width:0.8;\"/>\r\n      </defs>\r\n      <g>\r\n       <use style=\"stroke:#000000;stroke-width:0.8;\" x=\"23.878125\" xlink:href=\"#mf3aa78f35f\" y=\"12.039062\"/>\r\n      </g>\r\n     </g>\r\n     <g id=\"text_10\">\r\n      <!-- 0 -->\r\n      <g transform=\"translate(14.798438 14.602344)rotate(-90)scale(0.1 -0.1)\">\r\n       <use xlink:href=\"#DejaVuSans-48\"/>\r\n      </g>\r\n     </g>\r\n    </g>\r\n    <g id=\"ytick_2\">\r\n     <g id=\"line2d_11\">\r\n      <g>\r\n       <use style=\"stroke:#000000;stroke-width:0.8;\" x=\"23.878125\" xlink:href=\"#mf3aa78f35f\" y=\"93.579062\"/>\r\n      </g>\r\n     </g>\r\n     <g id=\"text_11\">\r\n      <!-- 1 -->\r\n      <g transform=\"translate(14.798438 96.142344)rotate(-90)scale(0.1 -0.1)\">\r\n       <use xlink:href=\"#DejaVuSans-49\"/>\r\n      </g>\r\n     </g>\r\n    </g>\r\n    <g id=\"ytick_3\">\r\n     <g id=\"line2d_12\">\r\n      <g>\r\n       <use style=\"stroke:#000000;stroke-width:0.8;\" x=\"23.878125\" xlink:href=\"#mf3aa78f35f\" y=\"175.119062\"/>\r\n      </g>\r\n     </g>\r\n     <g id=\"text_12\">\r\n      <!-- 2 -->\r\n      <g transform=\"translate(14.798438 177.682344)rotate(-90)scale(0.1 -0.1)\">\r\n       <use xlink:href=\"#DejaVuSans-50\"/>\r\n      </g>\r\n     </g>\r\n    </g>\r\n    <g id=\"ytick_4\">\r\n     <g id=\"line2d_13\">\r\n      <g>\r\n       <use style=\"stroke:#000000;stroke-width:0.8;\" x=\"23.878125\" xlink:href=\"#mf3aa78f35f\" y=\"256.659063\"/>\r\n      </g>\r\n     </g>\r\n     <g id=\"text_13\">\r\n      <!-- 3 -->\r\n      <g transform=\"translate(14.798438 259.222344)rotate(-90)scale(0.1 -0.1)\">\r\n       <use xlink:href=\"#DejaVuSans-51\"/>\r\n      </g>\r\n     </g>\r\n    </g>\r\n    <g id=\"ytick_5\">\r\n     <g id=\"line2d_14\">\r\n      <g>\r\n       <use style=\"stroke:#000000;stroke-width:0.8;\" x=\"23.878125\" xlink:href=\"#mf3aa78f35f\" y=\"338.199062\"/>\r\n      </g>\r\n     </g>\r\n     <g id=\"text_14\">\r\n      <!-- 4 -->\r\n      <g transform=\"translate(14.798438 340.762344)rotate(-90)scale(0.1 -0.1)\">\r\n       <use xlink:href=\"#DejaVuSans-52\"/>\r\n      </g>\r\n     </g>\r\n    </g>\r\n    <g id=\"ytick_6\">\r\n     <g id=\"line2d_15\">\r\n      <g>\r\n       <use style=\"stroke:#000000;stroke-width:0.8;\" x=\"23.878125\" xlink:href=\"#mf3aa78f35f\" y=\"419.739063\"/>\r\n      </g>\r\n     </g>\r\n     <g id=\"text_15\">\r\n      <!-- 5 -->\r\n      <g transform=\"translate(14.798438 422.302344)rotate(-90)scale(0.1 -0.1)\">\r\n       <use xlink:href=\"#DejaVuSans-53\"/>\r\n      </g>\r\n     </g>\r\n    </g>\r\n    <g id=\"ytick_7\">\r\n     <g id=\"line2d_16\">\r\n      <g>\r\n       <use style=\"stroke:#000000;stroke-width:0.8;\" x=\"23.878125\" xlink:href=\"#mf3aa78f35f\" y=\"501.279063\"/>\r\n      </g>\r\n     </g>\r\n     <g id=\"text_16\">\r\n      <!-- 6 -->\r\n      <g transform=\"translate(14.798438 503.842344)rotate(-90)scale(0.1 -0.1)\">\r\n       <use xlink:href=\"#DejaVuSans-54\"/>\r\n      </g>\r\n     </g>\r\n    </g>\r\n    <g id=\"ytick_8\">\r\n     <g id=\"line2d_17\">\r\n      <g>\r\n       <use style=\"stroke:#000000;stroke-width:0.8;\" x=\"23.878125\" xlink:href=\"#mf3aa78f35f\" y=\"582.819063\"/>\r\n      </g>\r\n     </g>\r\n     <g id=\"text_17\">\r\n      <!-- 7 -->\r\n      <g transform=\"translate(14.798438 585.382344)rotate(-90)scale(0.1 -0.1)\">\r\n       <use xlink:href=\"#DejaVuSans-55\"/>\r\n      </g>\r\n     </g>\r\n    </g>\r\n    <g id=\"ytick_9\">\r\n     <g id=\"line2d_18\">\r\n      <g>\r\n       <use style=\"stroke:#000000;stroke-width:0.8;\" x=\"23.878125\" xlink:href=\"#mf3aa78f35f\" y=\"664.359063\"/>\r\n      </g>\r\n     </g>\r\n     <g id=\"text_18\">\r\n      <!-- 8 -->\r\n      <g transform=\"translate(14.798438 666.922344)rotate(-90)scale(0.1 -0.1)\">\r\n       <use xlink:href=\"#DejaVuSans-56\"/>\r\n      </g>\r\n     </g>\r\n    </g>\r\n   </g>\r\n   <g id=\"text_19\">\r\n    <!-- 20 -->\r\n    <g style=\"fill:#ffffff;\" transform=\"translate(54.715625 14.798437)scale(0.1 -0.1)\">\r\n     <use xlink:href=\"#DejaVuSans-50\"/>\r\n     <use x=\"63.623047\" xlink:href=\"#DejaVuSans-48\"/>\r\n    </g>\r\n   </g>\r\n   <g id=\"text_20\">\r\n    <!-- 0 -->\r\n    <g style=\"fill:#ffffff;\" transform=\"translate(132.296875 14.798437)scale(0.1 -0.1)\">\r\n     <use xlink:href=\"#DejaVuSans-48\"/>\r\n    </g>\r\n   </g>\r\n   <g id=\"text_21\">\r\n    <!-- 0 -->\r\n    <g style=\"fill:#ffffff;\" transform=\"translate(206.696875 14.798437)scale(0.1 -0.1)\">\r\n     <use xlink:href=\"#DejaVuSans-48\"/>\r\n    </g>\r\n   </g>\r\n   <g id=\"text_22\">\r\n    <!-- 0 -->\r\n    <g style=\"fill:#ffffff;\" transform=\"translate(281.096875 14.798437)scale(0.1 -0.1)\">\r\n     <use xlink:href=\"#DejaVuSans-48\"/>\r\n    </g>\r\n   </g>\r\n   <g id=\"text_23\">\r\n    <!-- 0 -->\r\n    <g style=\"fill:#ffffff;\" transform=\"translate(355.496875 14.798437)scale(0.1 -0.1)\">\r\n     <use xlink:href=\"#DejaVuSans-48\"/>\r\n    </g>\r\n   </g>\r\n   <g id=\"text_24\">\r\n    <!-- 0 -->\r\n    <g style=\"fill:#ffffff;\" transform=\"translate(429.896875 14.798437)scale(0.1 -0.1)\">\r\n     <use xlink:href=\"#DejaVuSans-48\"/>\r\n    </g>\r\n   </g>\r\n   <g id=\"text_25\">\r\n    <!-- 0 -->\r\n    <g style=\"fill:#ffffff;\" transform=\"translate(504.296875 14.798437)scale(0.1 -0.1)\">\r\n     <use xlink:href=\"#DejaVuSans-48\"/>\r\n    </g>\r\n   </g>\r\n   <g id=\"text_26\">\r\n    <!-- 0 -->\r\n    <g style=\"fill:#ffffff;\" transform=\"translate(578.696875 14.798437)scale(0.1 -0.1)\">\r\n     <use xlink:href=\"#DejaVuSans-48\"/>\r\n    </g>\r\n   </g>\r\n   <g id=\"text_27\">\r\n    <!-- 0 -->\r\n    <g style=\"fill:#ffffff;\" transform=\"translate(653.096875 14.798437)scale(0.1 -0.1)\">\r\n     <use xlink:href=\"#DejaVuSans-48\"/>\r\n    </g>\r\n   </g>\r\n   <g id=\"text_28\">\r\n    <!-- 0 -->\r\n    <g style=\"fill:#ffffff;\" transform=\"translate(57.896875 96.338437)scale(0.1 -0.1)\">\r\n     <use xlink:href=\"#DejaVuSans-48\"/>\r\n    </g>\r\n   </g>\r\n   <g id=\"text_29\">\r\n    <!-- 20 -->\r\n    <g style=\"fill:#ffffff;\" transform=\"translate(129.115625 96.338437)scale(0.1 -0.1)\">\r\n     <use xlink:href=\"#DejaVuSans-50\"/>\r\n     <use x=\"63.623047\" xlink:href=\"#DejaVuSans-48\"/>\r\n    </g>\r\n   </g>\r\n   <g id=\"text_30\">\r\n    <!-- 0 -->\r\n    <g style=\"fill:#ffffff;\" transform=\"translate(206.696875 96.338437)scale(0.1 -0.1)\">\r\n     <use xlink:href=\"#DejaVuSans-48\"/>\r\n    </g>\r\n   </g>\r\n   <g id=\"text_31\">\r\n    <!-- 0 -->\r\n    <g style=\"fill:#ffffff;\" transform=\"translate(281.096875 96.338437)scale(0.1 -0.1)\">\r\n     <use xlink:href=\"#DejaVuSans-48\"/>\r\n    </g>\r\n   </g>\r\n   <g id=\"text_32\">\r\n    <!-- 0 -->\r\n    <g style=\"fill:#ffffff;\" transform=\"translate(355.496875 96.338437)scale(0.1 -0.1)\">\r\n     <use xlink:href=\"#DejaVuSans-48\"/>\r\n    </g>\r\n   </g>\r\n   <g id=\"text_33\">\r\n    <!-- 0 -->\r\n    <g style=\"fill:#ffffff;\" transform=\"translate(429.896875 96.338437)scale(0.1 -0.1)\">\r\n     <use xlink:href=\"#DejaVuSans-48\"/>\r\n    </g>\r\n   </g>\r\n   <g id=\"text_34\">\r\n    <!-- 0 -->\r\n    <g style=\"fill:#ffffff;\" transform=\"translate(504.296875 96.338437)scale(0.1 -0.1)\">\r\n     <use xlink:href=\"#DejaVuSans-48\"/>\r\n    </g>\r\n   </g>\r\n   <g id=\"text_35\">\r\n    <!-- 0 -->\r\n    <g style=\"fill:#ffffff;\" transform=\"translate(578.696875 96.338437)scale(0.1 -0.1)\">\r\n     <use xlink:href=\"#DejaVuSans-48\"/>\r\n    </g>\r\n   </g>\r\n   <g id=\"text_36\">\r\n    <!-- 1 -->\r\n    <g style=\"fill:#ffffff;\" transform=\"translate(653.096875 96.338437)scale(0.1 -0.1)\">\r\n     <use xlink:href=\"#DejaVuSans-49\"/>\r\n    </g>\r\n   </g>\r\n   <g id=\"text_37\">\r\n    <!-- 0 -->\r\n    <g style=\"fill:#ffffff;\" transform=\"translate(57.896875 177.878437)scale(0.1 -0.1)\">\r\n     <use xlink:href=\"#DejaVuSans-48\"/>\r\n    </g>\r\n   </g>\r\n   <g id=\"text_38\">\r\n    <!-- 0 -->\r\n    <g style=\"fill:#ffffff;\" transform=\"translate(132.296875 177.878437)scale(0.1 -0.1)\">\r\n     <use xlink:href=\"#DejaVuSans-48\"/>\r\n    </g>\r\n   </g>\r\n   <g id=\"text_39\">\r\n    <!-- 9 -->\r\n    <defs>\r\n     <path d=\"M 10.984375 1.515625 \r\nL 10.984375 10.5 \r\nQ 14.703125 8.734375 18.5 7.8125 \r\nQ 22.3125 6.890625 25.984375 6.890625 \r\nQ 35.75 6.890625 40.890625 13.453125 \r\nQ 46.046875 20.015625 46.78125 33.40625 \r\nQ 43.953125 29.203125 39.59375 26.953125 \r\nQ 35.25 24.703125 29.984375 24.703125 \r\nQ 19.046875 24.703125 12.671875 31.3125 \r\nQ 6.296875 37.9375 6.296875 49.421875 \r\nQ 6.296875 60.640625 12.9375 67.421875 \r\nQ 19.578125 74.21875 30.609375 74.21875 \r\nQ 43.265625 74.21875 49.921875 64.515625 \r\nQ 56.59375 54.828125 56.59375 36.375 \r\nQ 56.59375 19.140625 48.40625 8.859375 \r\nQ 40.234375 -1.421875 26.421875 -1.421875 \r\nQ 22.703125 -1.421875 18.890625 -0.6875 \r\nQ 15.09375 0.046875 10.984375 1.515625 \r\nz\r\nM 30.609375 32.421875 \r\nQ 37.25 32.421875 41.125 36.953125 \r\nQ 45.015625 41.5 45.015625 49.421875 \r\nQ 45.015625 57.28125 41.125 61.84375 \r\nQ 37.25 66.40625 30.609375 66.40625 \r\nQ 23.96875 66.40625 20.09375 61.84375 \r\nQ 16.21875 57.28125 16.21875 49.421875 \r\nQ 16.21875 41.5 20.09375 36.953125 \r\nQ 23.96875 32.421875 30.609375 32.421875 \r\nz\r\n\" id=\"DejaVuSans-57\"/>\r\n    </defs>\r\n    <g style=\"fill:#ffffff;\" transform=\"translate(206.696875 177.878437)scale(0.1 -0.1)\">\r\n     <use xlink:href=\"#DejaVuSans-57\"/>\r\n    </g>\r\n   </g>\r\n   <g id=\"text_40\">\r\n    <!-- 0 -->\r\n    <g style=\"fill:#ffffff;\" transform=\"translate(281.096875 177.878437)scale(0.1 -0.1)\">\r\n     <use xlink:href=\"#DejaVuSans-48\"/>\r\n    </g>\r\n   </g>\r\n   <g id=\"text_41\">\r\n    <!-- 3 -->\r\n    <g style=\"fill:#ffffff;\" transform=\"translate(355.496875 177.878437)scale(0.1 -0.1)\">\r\n     <use xlink:href=\"#DejaVuSans-51\"/>\r\n    </g>\r\n   </g>\r\n   <g id=\"text_42\">\r\n    <!-- 0 -->\r\n    <g style=\"fill:#ffffff;\" transform=\"translate(429.896875 177.878437)scale(0.1 -0.1)\">\r\n     <use xlink:href=\"#DejaVuSans-48\"/>\r\n    </g>\r\n   </g>\r\n   <g id=\"text_43\">\r\n    <!-- 0 -->\r\n    <g style=\"fill:#ffffff;\" transform=\"translate(504.296875 177.878437)scale(0.1 -0.1)\">\r\n     <use xlink:href=\"#DejaVuSans-48\"/>\r\n    </g>\r\n   </g>\r\n   <g id=\"text_44\">\r\n    <!-- 0 -->\r\n    <g style=\"fill:#ffffff;\" transform=\"translate(578.696875 177.878437)scale(0.1 -0.1)\">\r\n     <use xlink:href=\"#DejaVuSans-48\"/>\r\n    </g>\r\n   </g>\r\n   <g id=\"text_45\">\r\n    <!-- 1 -->\r\n    <g style=\"fill:#ffffff;\" transform=\"translate(653.096875 177.878437)scale(0.1 -0.1)\">\r\n     <use xlink:href=\"#DejaVuSans-49\"/>\r\n    </g>\r\n   </g>\r\n   <g id=\"text_46\">\r\n    <!-- 0 -->\r\n    <g style=\"fill:#ffffff;\" transform=\"translate(57.896875 259.418437)scale(0.1 -0.1)\">\r\n     <use xlink:href=\"#DejaVuSans-48\"/>\r\n    </g>\r\n   </g>\r\n   <g id=\"text_47\">\r\n    <!-- 0 -->\r\n    <g style=\"fill:#ffffff;\" transform=\"translate(132.296875 259.418437)scale(0.1 -0.1)\">\r\n     <use xlink:href=\"#DejaVuSans-48\"/>\r\n    </g>\r\n   </g>\r\n   <g id=\"text_48\">\r\n    <!-- 1 -->\r\n    <g style=\"fill:#ffffff;\" transform=\"translate(206.696875 259.418437)scale(0.1 -0.1)\">\r\n     <use xlink:href=\"#DejaVuSans-49\"/>\r\n    </g>\r\n   </g>\r\n   <g id=\"text_49\">\r\n    <!-- 19 -->\r\n    <g style=\"fill:#ffffff;\" transform=\"translate(277.915625 259.418437)scale(0.1 -0.1)\">\r\n     <use xlink:href=\"#DejaVuSans-49\"/>\r\n     <use x=\"63.623047\" xlink:href=\"#DejaVuSans-57\"/>\r\n    </g>\r\n   </g>\r\n   <g id=\"text_50\">\r\n    <!-- 0 -->\r\n    <g style=\"fill:#ffffff;\" transform=\"translate(355.496875 259.418437)scale(0.1 -0.1)\">\r\n     <use xlink:href=\"#DejaVuSans-48\"/>\r\n    </g>\r\n   </g>\r\n   <g id=\"text_51\">\r\n    <!-- 0 -->\r\n    <g style=\"fill:#ffffff;\" transform=\"translate(429.896875 259.418437)scale(0.1 -0.1)\">\r\n     <use xlink:href=\"#DejaVuSans-48\"/>\r\n    </g>\r\n   </g>\r\n   <g id=\"text_52\">\r\n    <!-- 0 -->\r\n    <g style=\"fill:#ffffff;\" transform=\"translate(504.296875 259.418437)scale(0.1 -0.1)\">\r\n     <use xlink:href=\"#DejaVuSans-48\"/>\r\n    </g>\r\n   </g>\r\n   <g id=\"text_53\">\r\n    <!-- 1 -->\r\n    <g style=\"fill:#ffffff;\" transform=\"translate(578.696875 259.418437)scale(0.1 -0.1)\">\r\n     <use xlink:href=\"#DejaVuSans-49\"/>\r\n    </g>\r\n   </g>\r\n   <g id=\"text_54\">\r\n    <!-- 0 -->\r\n    <g style=\"fill:#ffffff;\" transform=\"translate(653.096875 259.418437)scale(0.1 -0.1)\">\r\n     <use xlink:href=\"#DejaVuSans-48\"/>\r\n    </g>\r\n   </g>\r\n   <g id=\"text_55\">\r\n    <!-- 0 -->\r\n    <g style=\"fill:#ffffff;\" transform=\"translate(57.896875 340.958437)scale(0.1 -0.1)\">\r\n     <use xlink:href=\"#DejaVuSans-48\"/>\r\n    </g>\r\n   </g>\r\n   <g id=\"text_56\">\r\n    <!-- 0 -->\r\n    <g style=\"fill:#ffffff;\" transform=\"translate(132.296875 340.958437)scale(0.1 -0.1)\">\r\n     <use xlink:href=\"#DejaVuSans-48\"/>\r\n    </g>\r\n   </g>\r\n   <g id=\"text_57\">\r\n    <!-- 3 -->\r\n    <g style=\"fill:#ffffff;\" transform=\"translate(206.696875 340.958437)scale(0.1 -0.1)\">\r\n     <use xlink:href=\"#DejaVuSans-51\"/>\r\n    </g>\r\n   </g>\r\n   <g id=\"text_58\">\r\n    <!-- 1 -->\r\n    <g style=\"fill:#ffffff;\" transform=\"translate(281.096875 340.958437)scale(0.1 -0.1)\">\r\n     <use xlink:href=\"#DejaVuSans-49\"/>\r\n    </g>\r\n   </g>\r\n   <g id=\"text_59\">\r\n    <!-- 15 -->\r\n    <g style=\"fill:#ffffff;\" transform=\"translate(352.315625 340.958437)scale(0.1 -0.1)\">\r\n     <use xlink:href=\"#DejaVuSans-49\"/>\r\n     <use x=\"63.623047\" xlink:href=\"#DejaVuSans-53\"/>\r\n    </g>\r\n   </g>\r\n   <g id=\"text_60\">\r\n    <!-- 0 -->\r\n    <g style=\"fill:#ffffff;\" transform=\"translate(429.896875 340.958437)scale(0.1 -0.1)\">\r\n     <use xlink:href=\"#DejaVuSans-48\"/>\r\n    </g>\r\n   </g>\r\n   <g id=\"text_61\">\r\n    <!-- 0 -->\r\n    <g style=\"fill:#ffffff;\" transform=\"translate(504.296875 340.958437)scale(0.1 -0.1)\">\r\n     <use xlink:href=\"#DejaVuSans-48\"/>\r\n    </g>\r\n   </g>\r\n   <g id=\"text_62\">\r\n    <!-- 0 -->\r\n    <g style=\"fill:#ffffff;\" transform=\"translate(578.696875 340.958437)scale(0.1 -0.1)\">\r\n     <use xlink:href=\"#DejaVuSans-48\"/>\r\n    </g>\r\n   </g>\r\n   <g id=\"text_63\">\r\n    <!-- 0 -->\r\n    <g style=\"fill:#ffffff;\" transform=\"translate(653.096875 340.958437)scale(0.1 -0.1)\">\r\n     <use xlink:href=\"#DejaVuSans-48\"/>\r\n    </g>\r\n   </g>\r\n   <g id=\"text_64\">\r\n    <!-- 0 -->\r\n    <g style=\"fill:#ffffff;\" transform=\"translate(57.896875 422.498438)scale(0.1 -0.1)\">\r\n     <use xlink:href=\"#DejaVuSans-48\"/>\r\n    </g>\r\n   </g>\r\n   <g id=\"text_65\">\r\n    <!-- 1 -->\r\n    <g style=\"fill:#ffffff;\" transform=\"translate(132.296875 422.498438)scale(0.1 -0.1)\">\r\n     <use xlink:href=\"#DejaVuSans-49\"/>\r\n    </g>\r\n   </g>\r\n   <g id=\"text_66\">\r\n    <!-- 0 -->\r\n    <g style=\"fill:#ffffff;\" transform=\"translate(206.696875 422.498438)scale(0.1 -0.1)\">\r\n     <use xlink:href=\"#DejaVuSans-48\"/>\r\n    </g>\r\n   </g>\r\n   <g id=\"text_67\">\r\n    <!-- 0 -->\r\n    <g style=\"fill:#ffffff;\" transform=\"translate(281.096875 422.498438)scale(0.1 -0.1)\">\r\n     <use xlink:href=\"#DejaVuSans-48\"/>\r\n    </g>\r\n   </g>\r\n   <g id=\"text_68\">\r\n    <!-- 0 -->\r\n    <g style=\"fill:#ffffff;\" transform=\"translate(355.496875 422.498438)scale(0.1 -0.1)\">\r\n     <use xlink:href=\"#DejaVuSans-48\"/>\r\n    </g>\r\n   </g>\r\n   <g id=\"text_69\">\r\n    <!-- 15 -->\r\n    <g style=\"fill:#ffffff;\" transform=\"translate(426.715625 422.498438)scale(0.1 -0.1)\">\r\n     <use xlink:href=\"#DejaVuSans-49\"/>\r\n     <use x=\"63.623047\" xlink:href=\"#DejaVuSans-53\"/>\r\n    </g>\r\n   </g>\r\n   <g id=\"text_70\">\r\n    <!-- 0 -->\r\n    <g style=\"fill:#ffffff;\" transform=\"translate(504.296875 422.498438)scale(0.1 -0.1)\">\r\n     <use xlink:href=\"#DejaVuSans-48\"/>\r\n    </g>\r\n   </g>\r\n   <g id=\"text_71\">\r\n    <!-- 3 -->\r\n    <g style=\"fill:#ffffff;\" transform=\"translate(578.696875 422.498438)scale(0.1 -0.1)\">\r\n     <use xlink:href=\"#DejaVuSans-51\"/>\r\n    </g>\r\n   </g>\r\n   <g id=\"text_72\">\r\n    <!-- 2 -->\r\n    <g style=\"fill:#ffffff;\" transform=\"translate(653.096875 422.498438)scale(0.1 -0.1)\">\r\n     <use xlink:href=\"#DejaVuSans-50\"/>\r\n    </g>\r\n   </g>\r\n   <g id=\"text_73\">\r\n    <!-- 0 -->\r\n    <g style=\"fill:#ffffff;\" transform=\"translate(57.896875 504.038437)scale(0.1 -0.1)\">\r\n     <use xlink:href=\"#DejaVuSans-48\"/>\r\n    </g>\r\n   </g>\r\n   <g id=\"text_74\">\r\n    <!-- 0 -->\r\n    <g style=\"fill:#ffffff;\" transform=\"translate(132.296875 504.038437)scale(0.1 -0.1)\">\r\n     <use xlink:href=\"#DejaVuSans-48\"/>\r\n    </g>\r\n   </g>\r\n   <g id=\"text_75\">\r\n    <!-- 0 -->\r\n    <g style=\"fill:#ffffff;\" transform=\"translate(206.696875 504.038437)scale(0.1 -0.1)\">\r\n     <use xlink:href=\"#DejaVuSans-48\"/>\r\n    </g>\r\n   </g>\r\n   <g id=\"text_76\">\r\n    <!-- 0 -->\r\n    <g style=\"fill:#ffffff;\" transform=\"translate(281.096875 504.038437)scale(0.1 -0.1)\">\r\n     <use xlink:href=\"#DejaVuSans-48\"/>\r\n    </g>\r\n   </g>\r\n   <g id=\"text_77\">\r\n    <!-- 0 -->\r\n    <g style=\"fill:#ffffff;\" transform=\"translate(355.496875 504.038437)scale(0.1 -0.1)\">\r\n     <use xlink:href=\"#DejaVuSans-48\"/>\r\n    </g>\r\n   </g>\r\n   <g id=\"text_78\">\r\n    <!-- 0 -->\r\n    <g style=\"fill:#ffffff;\" transform=\"translate(429.896875 504.038437)scale(0.1 -0.1)\">\r\n     <use xlink:href=\"#DejaVuSans-48\"/>\r\n    </g>\r\n   </g>\r\n   <g id=\"text_79\">\r\n    <!-- 26 -->\r\n    <g style=\"fill:#262626;\" transform=\"translate(501.115625 504.038437)scale(0.1 -0.1)\">\r\n     <use xlink:href=\"#DejaVuSans-50\"/>\r\n     <use x=\"63.623047\" xlink:href=\"#DejaVuSans-54\"/>\r\n    </g>\r\n   </g>\r\n   <g id=\"text_80\">\r\n    <!-- 0 -->\r\n    <g style=\"fill:#ffffff;\" transform=\"translate(578.696875 504.038437)scale(0.1 -0.1)\">\r\n     <use xlink:href=\"#DejaVuSans-48\"/>\r\n    </g>\r\n   </g>\r\n   <g id=\"text_81\">\r\n    <!-- 0 -->\r\n    <g style=\"fill:#ffffff;\" transform=\"translate(653.096875 504.038437)scale(0.1 -0.1)\">\r\n     <use xlink:href=\"#DejaVuSans-48\"/>\r\n    </g>\r\n   </g>\r\n   <g id=\"text_82\">\r\n    <!-- 0 -->\r\n    <g style=\"fill:#ffffff;\" transform=\"translate(57.896875 585.578438)scale(0.1 -0.1)\">\r\n     <use xlink:href=\"#DejaVuSans-48\"/>\r\n    </g>\r\n   </g>\r\n   <g id=\"text_83\">\r\n    <!-- 0 -->\r\n    <g style=\"fill:#ffffff;\" transform=\"translate(132.296875 585.578438)scale(0.1 -0.1)\">\r\n     <use xlink:href=\"#DejaVuSans-48\"/>\r\n    </g>\r\n   </g>\r\n   <g id=\"text_84\">\r\n    <!-- 0 -->\r\n    <g style=\"fill:#ffffff;\" transform=\"translate(206.696875 585.578438)scale(0.1 -0.1)\">\r\n     <use xlink:href=\"#DejaVuSans-48\"/>\r\n    </g>\r\n   </g>\r\n   <g id=\"text_85\">\r\n    <!-- 0 -->\r\n    <g style=\"fill:#ffffff;\" transform=\"translate(281.096875 585.578438)scale(0.1 -0.1)\">\r\n     <use xlink:href=\"#DejaVuSans-48\"/>\r\n    </g>\r\n   </g>\r\n   <g id=\"text_86\">\r\n    <!-- 0 -->\r\n    <g style=\"fill:#ffffff;\" transform=\"translate(355.496875 585.578438)scale(0.1 -0.1)\">\r\n     <use xlink:href=\"#DejaVuSans-48\"/>\r\n    </g>\r\n   </g>\r\n   <g id=\"text_87\">\r\n    <!-- 0 -->\r\n    <g style=\"fill:#ffffff;\" transform=\"translate(429.896875 585.578438)scale(0.1 -0.1)\">\r\n     <use xlink:href=\"#DejaVuSans-48\"/>\r\n    </g>\r\n   </g>\r\n   <g id=\"text_88\">\r\n    <!-- 0 -->\r\n    <g style=\"fill:#ffffff;\" transform=\"translate(504.296875 585.578438)scale(0.1 -0.1)\">\r\n     <use xlink:href=\"#DejaVuSans-48\"/>\r\n    </g>\r\n   </g>\r\n   <g id=\"text_89\">\r\n    <!-- 13 -->\r\n    <g style=\"fill:#ffffff;\" transform=\"translate(575.515625 585.578438)scale(0.1 -0.1)\">\r\n     <use xlink:href=\"#DejaVuSans-49\"/>\r\n     <use x=\"63.623047\" xlink:href=\"#DejaVuSans-51\"/>\r\n    </g>\r\n   </g>\r\n   <g id=\"text_90\">\r\n    <!-- 0 -->\r\n    <g style=\"fill:#ffffff;\" transform=\"translate(653.096875 585.578438)scale(0.1 -0.1)\">\r\n     <use xlink:href=\"#DejaVuSans-48\"/>\r\n    </g>\r\n   </g>\r\n   <g id=\"text_91\">\r\n    <!-- 0 -->\r\n    <g style=\"fill:#ffffff;\" transform=\"translate(57.896875 667.118438)scale(0.1 -0.1)\">\r\n     <use xlink:href=\"#DejaVuSans-48\"/>\r\n    </g>\r\n   </g>\r\n   <g id=\"text_92\">\r\n    <!-- 3 -->\r\n    <g style=\"fill:#ffffff;\" transform=\"translate(132.296875 667.118438)scale(0.1 -0.1)\">\r\n     <use xlink:href=\"#DejaVuSans-51\"/>\r\n    </g>\r\n   </g>\r\n   <g id=\"text_93\">\r\n    <!-- 0 -->\r\n    <g style=\"fill:#ffffff;\" transform=\"translate(206.696875 667.118438)scale(0.1 -0.1)\">\r\n     <use xlink:href=\"#DejaVuSans-48\"/>\r\n    </g>\r\n   </g>\r\n   <g id=\"text_94\">\r\n    <!-- 0 -->\r\n    <g style=\"fill:#ffffff;\" transform=\"translate(281.096875 667.118438)scale(0.1 -0.1)\">\r\n     <use xlink:href=\"#DejaVuSans-48\"/>\r\n    </g>\r\n   </g>\r\n   <g id=\"text_95\">\r\n    <!-- 0 -->\r\n    <g style=\"fill:#ffffff;\" transform=\"translate(355.496875 667.118438)scale(0.1 -0.1)\">\r\n     <use xlink:href=\"#DejaVuSans-48\"/>\r\n    </g>\r\n   </g>\r\n   <g id=\"text_96\">\r\n    <!-- 0 -->\r\n    <g style=\"fill:#ffffff;\" transform=\"translate(429.896875 667.118438)scale(0.1 -0.1)\">\r\n     <use xlink:href=\"#DejaVuSans-48\"/>\r\n    </g>\r\n   </g>\r\n   <g id=\"text_97\">\r\n    <!-- 0 -->\r\n    <g style=\"fill:#ffffff;\" transform=\"translate(504.296875 667.118438)scale(0.1 -0.1)\">\r\n     <use xlink:href=\"#DejaVuSans-48\"/>\r\n    </g>\r\n   </g>\r\n   <g id=\"text_98\">\r\n    <!-- 1 -->\r\n    <g style=\"fill:#ffffff;\" transform=\"translate(578.696875 667.118438)scale(0.1 -0.1)\">\r\n     <use xlink:href=\"#DejaVuSans-49\"/>\r\n    </g>\r\n   </g>\r\n   <g id=\"text_99\">\r\n    <!-- 8 -->\r\n    <g style=\"fill:#ffffff;\" transform=\"translate(653.096875 667.118438)scale(0.1 -0.1)\">\r\n     <use xlink:href=\"#DejaVuSans-56\"/>\r\n    </g>\r\n   </g>\r\n  </g>\r\n  <g id=\"axes_2\">\r\n   <g id=\"patch_3\">\r\n    <path clip-path=\"url(#pd0970782ac)\" d=\"M 735.328125 664.359062 \r\nL 735.328125 661.810937 \r\nL 735.328125 14.587187 \r\nL 735.328125 12.039062 \r\nL 767.944125 12.039062 \r\nL 767.944125 14.587187 \r\nL 767.944125 661.810937 \r\nL 767.944125 664.359062 \r\nz\r\n\" style=\"fill:#ffffff;stroke:#ffffff;stroke-linejoin:miter;stroke-width:0.01;\"/>\r\n   </g>\r\n   <image height=\"652\" id=\"image6dd7a59edd\" transform=\"scale(1 -1)translate(0 -652)\" width=\"33\" x=\"735\" xlink:href=\"data:image/png;base64,\r\niVBORw0KGgoAAAANSUhEUgAAACEAAAKMCAYAAABl+dF2AAAABHNCSVQICAgIfAhkiAAAA+tJREFUeJztncF1HDEMxagx00T679M+jOEtQTgAFeBJn59ar52cr3//v+cyz22BmZk9tw1GcxLn/lkoTkIh0XWAQmLPdB0zUzA/KCT26TpeGlFQSBRMqDFBIbFPPfFSMEEhUWOCQqLpgBoTFBIFE3ryg0KiBQaNKCgkWmBQMEEhUTBhz7nvcd9gJBK9rEAh0csKCiYoJAomFExQSBRMKJigkCiYUDBBIdFnUeiHJKCQKJigkGg6oAUGCol6AhpRUEgUTOgkQCHRXz9Bn8pBIdHLCmpMUEj0sgKFRNMBNSYoJNZgYXCoMf9QSNSYUGOCQqLGhEYUFBItMFBI1BPQAgOFRLUNjSgoJOoJaERBIdHXT9DXT6CQaIFBuwMUEgUTFBJNBxRMUEj00IXemKCQKJhQY4JColUOBRMUEi0waHeAQqKeAIVEPQH1BCgk6gloREEhUU/APtf/NzDJSSgkakyoMUEhUTBBIdECg3oCFBL1BPSyAoVEPQGNKCgkug6oMUEhUWNCIwoKia4DFBJ7qu2XggkKia4DelmBQqKXFTSioJCoJ6ARBYXEPnM/mZKTuH8QjpNQSLTAQCFRbcM+3/eLQnESCol6AhpRUEj0soJeVqCQ2FMwX9odoJDoOkAhUU9AwQSFRMGE3pigkNhH8BHMcRKN6C8KiRYY7BH8Uo3iJBQS+3QdL/30DhQSBRMUEtU2FExQSKzgH5nWnETBnBmJRD0BjSgoJOoJaERBIbFH8D215CRqzBeFRMEEhUQLDFpgoJDYI9AQKDSiHxQSLTDoZQUKiYIJnQQoJOoJUEg0HdAbExQSPXShYIJCosaEggkKiZ0a86VggkKi64BOAhQSa9AQKEgkmg4omKCQKJhQMEEhsUfwd3mOkzBoCBQkEgUTCiYoJHYK5ksjCgqJegIUEvUE1BOgkCiY0EmAQmKP4Dd7HCdRMH9RSHQdsPPc97hvMBKJggm9MUEhUTBBIbEj+P7pvsEUzA8Kia4D9vSyelFIFExod4BComBCn0VBIVEwQSFRbUPBBIVED10omKCQqDGhYIJCoocu7PQN8YtComBCJwEKiRYYKCR6WUE9AQqJfmsAGlFQSNQT0EmAQqJPYFAwQSHRAoOCCQqJrgMUEi0wKJigkOg6oFUOComCCQUTFBIFEwomKCQKJigkug6oJ0AhUTChYIJComBCwQSFRMGEPefrtoPjJBQSBRM6CVBItMBAIdF0QMEEhcTO03tiZgrmB4VEjQkFExQSfQKDRhQUEvUEFExQSBRMUEj05IeCCQqJahv2FMwXhUTBhBoTFBKtciiYoJCoMUEh0XsCCiYoJKptaJWDQuIHk78w11veWgMAAAAASUVORK5CYII=\" y=\"-12\"/>\r\n   <g id=\"matplotlib.axis_3\"/>\r\n   <g id=\"matplotlib.axis_4\">\r\n    <g id=\"ytick_10\">\r\n     <g id=\"line2d_19\">\r\n      <defs>\r\n       <path d=\"M 0 0 \r\nL 3.5 0 \r\n\" id=\"md80e9f034a\" style=\"stroke:#000000;stroke-width:0.8;\"/>\r\n      </defs>\r\n      <g>\r\n       <use style=\"stroke:#000000;stroke-width:0.8;\" x=\"767.944125\" xlink:href=\"#md80e9f034a\" y=\"664.359062\"/>\r\n      </g>\r\n     </g>\r\n     <g id=\"text_100\">\r\n      <!-- 0 -->\r\n      <g transform=\"translate(774.944125 668.158281)scale(0.1 -0.1)\">\r\n       <use xlink:href=\"#DejaVuSans-48\"/>\r\n      </g>\r\n     </g>\r\n    </g>\r\n    <g id=\"ytick_11\">\r\n     <g id=\"line2d_20\">\r\n      <g>\r\n       <use style=\"stroke:#000000;stroke-width:0.8;\" x=\"767.944125\" xlink:href=\"#md80e9f034a\" y=\"538.912909\"/>\r\n      </g>\r\n     </g>\r\n     <g id=\"text_101\">\r\n      <!-- 5 -->\r\n      <g transform=\"translate(774.944125 542.712127)scale(0.1 -0.1)\">\r\n       <use xlink:href=\"#DejaVuSans-53\"/>\r\n      </g>\r\n     </g>\r\n    </g>\r\n    <g id=\"ytick_12\">\r\n     <g id=\"line2d_21\">\r\n      <g>\r\n       <use style=\"stroke:#000000;stroke-width:0.8;\" x=\"767.944125\" xlink:href=\"#md80e9f034a\" y=\"413.466755\"/>\r\n      </g>\r\n     </g>\r\n     <g id=\"text_102\">\r\n      <!-- 10 -->\r\n      <g transform=\"translate(774.944125 417.265974)scale(0.1 -0.1)\">\r\n       <use xlink:href=\"#DejaVuSans-49\"/>\r\n       <use x=\"63.623047\" xlink:href=\"#DejaVuSans-48\"/>\r\n      </g>\r\n     </g>\r\n    </g>\r\n    <g id=\"ytick_13\">\r\n     <g id=\"line2d_22\">\r\n      <g>\r\n       <use style=\"stroke:#000000;stroke-width:0.8;\" x=\"767.944125\" xlink:href=\"#md80e9f034a\" y=\"288.020601\"/>\r\n      </g>\r\n     </g>\r\n     <g id=\"text_103\">\r\n      <!-- 15 -->\r\n      <g transform=\"translate(774.944125 291.81982)scale(0.1 -0.1)\">\r\n       <use xlink:href=\"#DejaVuSans-49\"/>\r\n       <use x=\"63.623047\" xlink:href=\"#DejaVuSans-53\"/>\r\n      </g>\r\n     </g>\r\n    </g>\r\n    <g id=\"ytick_14\">\r\n     <g id=\"line2d_23\">\r\n      <g>\r\n       <use style=\"stroke:#000000;stroke-width:0.8;\" x=\"767.944125\" xlink:href=\"#md80e9f034a\" y=\"162.574447\"/>\r\n      </g>\r\n     </g>\r\n     <g id=\"text_104\">\r\n      <!-- 20 -->\r\n      <g transform=\"translate(774.944125 166.373666)scale(0.1 -0.1)\">\r\n       <use xlink:href=\"#DejaVuSans-50\"/>\r\n       <use x=\"63.623047\" xlink:href=\"#DejaVuSans-48\"/>\r\n      </g>\r\n     </g>\r\n    </g>\r\n    <g id=\"ytick_15\">\r\n     <g id=\"line2d_24\">\r\n      <g>\r\n       <use style=\"stroke:#000000;stroke-width:0.8;\" x=\"767.944125\" xlink:href=\"#md80e9f034a\" y=\"37.128293\"/>\r\n      </g>\r\n     </g>\r\n     <g id=\"text_105\">\r\n      <!-- 25 -->\r\n      <g transform=\"translate(774.944125 40.927512)scale(0.1 -0.1)\">\r\n       <use xlink:href=\"#DejaVuSans-50\"/>\r\n       <use x=\"63.623047\" xlink:href=\"#DejaVuSans-53\"/>\r\n      </g>\r\n     </g>\r\n    </g>\r\n   </g>\r\n   <g id=\"patch_4\">\r\n    <path d=\"M 735.328125 664.359062 \r\nL 735.328125 661.810937 \r\nL 735.328125 14.587187 \r\nL 735.328125 12.039062 \r\nL 767.944125 12.039062 \r\nL 767.944125 14.587187 \r\nL 767.944125 661.810937 \r\nL 767.944125 664.359062 \r\nz\r\n\" style=\"fill:none;\"/>\r\n   </g>\r\n  </g>\r\n </g>\r\n <defs>\r\n  <clipPath id=\"pf726854678\">\r\n   <rect height=\"652.32\" width=\"669.6\" x=\"23.878125\" y=\"12.039062\"/>\r\n  </clipPath>\r\n  <clipPath id=\"pd0970782ac\">\r\n   <rect height=\"652.32\" width=\"32.616\" x=\"735.328125\" y=\"12.039062\"/>\r\n  </clipPath>\r\n </defs>\r\n</svg>\r\n",
      "image/png": "[encoded data removed]"
     },
     "metadata": {
      "needs_background": "light"
     }
    }
   ],
   "source": [
    "plt.figure(figsize = (15, 12))\n",
    "sn.heatmap(confusion_matrix, annot=True)"
   ]
  },
  {
   "source": [
    "The lines below can be used to save the model weights and state_dict and also retrieve the model"
   ],
   "cell_type": "markdown",
   "metadata": {}
  },
  {
   "cell_type": "code",
   "execution_count": 35,
   "metadata": {},
   "outputs": [],
   "source": [
    "torch.save(nn_model.state_dict(), \"NN_9moves_WY_85.pt\")"
   ]
  },
  {
   "cell_type": "code",
   "execution_count": 8,
   "metadata": {},
   "outputs": [
    {
     "output_type": "execute_result",
     "data": {
      "text/plain": [
       "Sequential(\n",
       "  (0): QuantStub()\n",
       "  (1): Linear(in_features=86, out_features=256, bias=True)\n",
       "  (2): ReLU()\n",
       "  (3): Linear(in_features=256, out_features=128, bias=True)\n",
       "  (4): ReLU()\n",
       "  (5): Linear(in_features=128, out_features=6, bias=True)\n",
       "  (6): LogSoftmax()\n",
       "  (7): DeQuantStub()\n",
       ")"
      ]
     },
     "metadata": {},
     "execution_count": 8
    }
   ],
   "source": [
    "nn_model = neural_network_model_fpga(input_size=in_size, hidden_states= [256,128], output_size=out_size)\n",
    "nn_model.load_state_dict(torch.load(\"NN_3moves_3posnew_90_best.pt\"))\n",
    "nn_model.eval()"
   ]
  },
  {
   "source": [
    "## Extra Trees Classifier"
   ],
   "cell_type": "markdown",
   "metadata": {}
  },
  {
   "cell_type": "code",
   "execution_count": 5,
   "metadata": {},
   "outputs": [],
   "source": [
    "from sklearn.ensemble import ExtraTreesClassifier\n",
    "from sklearn.datasets import make_classification"
   ]
  },
  {
   "cell_type": "code",
   "execution_count": 12,
   "metadata": {},
   "outputs": [
    {
     "output_type": "execute_result",
     "data": {
      "text/plain": [
       "ExtraTreesClassifier(random_state=0)"
      ]
     },
     "metadata": {},
     "execution_count": 12
    }
   ],
   "source": [
    "clf = ExtraTreesClassifier(n_estimators=100, random_state=0)\n",
    "clf.fit(X_train, y_train)"
   ]
  },
  {
   "cell_type": "code",
   "execution_count": 14,
   "metadata": {},
   "outputs": [
    {
     "output_type": "stream",
     "name": "stdout",
     "text": [
      "Accuracy of Extra trees on Test set-  0.8730350665054414\n"
     ]
    }
   ],
   "source": [
    "ExtraTreesClassifier(random_state=0)\n",
    "res = clf.predict(X)\n",
    "cor = 0\n",
    "total = len(res)\n",
    "for i in range(total):\n",
    "    if res[i] == y[i]:\n",
    "        cor += 1\n",
    "print('Accuracy of Extra trees on Test set- ', cor/total)"
   ]
  },
  {
   "source": [
    "## ML Model for position detection\n",
    "\n",
    "Run below when new data is added"
   ],
   "cell_type": "markdown",
   "metadata": {}
  },
  {
   "cell_type": "code",
   "execution_count": 2,
   "metadata": {},
   "outputs": [],
   "source": [
    "pre_process_position_data('C:\\\\Users\\\\shrey\\\\Desktop\\\\NUS- Everything\\\\Semester 7\\\\CG4002\\\\CG4002_B18\\\\DataSets\\\\position\\\\Shre_5_11')"
   ]
  },
  {
   "cell_type": "code",
   "execution_count": 5,
   "metadata": {},
   "outputs": [],
   "source": [
    "dataset = 'C:\\\\Users\\\\shrey\\\\Desktop\\\\NUS- Everything\\\\Semester 7\\\\CG4002\\\\CG4002_B18\\\\DataSets\\\\'\n",
    "combine_all_position_data(dataset)"
   ]
  },
  {
   "cell_type": "code",
   "execution_count": 15,
   "metadata": {},
   "outputs": [
    {
     "output_type": "stream",
     "name": "stdout",
     "text": [
      "Files read from left.txt\n",
      "Files read from none.txt\n",
      "Files read from right.txt\n"
     ]
    }
   ],
   "source": [
    "dataset_position = 'C:\\\\Users\\\\shrey\\\\Desktop\\\\NUS- Everything\\\\Semester 7\\\\CG4002\\\\CG4002_B18\\\\DataSets\\\\position\\\\Shre_5_11\\\\'\n",
    "\n",
    "sampling_rate_position = 5\n",
    "window_size_position = 2.56\n",
    "\n",
    "X_position, y_position = load_position_data_w11(dataset_position, sampling_rate_position, window_size_position)\n",
    "\n",
    "X_position, y_position = shuffle(X_position, y_position)\n",
    "X_position_train, X_position_test = X_position[:int(len(X_position)*0.8), :], X_position[int(len(X_position)*0.8):, :]\n",
    "y_position_train, y_position_test = y_position[:int(len(X_position)*0.8), :], y_position[int(len(X_position)*0.8):, :]\n",
    "\n",
    "X_position_train = torch.from_numpy(X_position_train).float()\n",
    "y_position_train = torch.from_numpy(y_position_train).float()\n",
    "y_position_train = y_position_train.reshape(y_position_train.shape[0]).long()\n",
    "\n",
    "X_position_test = torch.from_numpy(X_position_test).float()\n",
    "y_position_test = torch.from_numpy(y_position_test).float()\n",
    "y_position_test = y_position_test.reshape(y_position_test.shape[0]).long()\n",
    "\n",
    "in_size_position = X_position.shape[1]\n",
    "out_size_position = one_hot_encoder(y_position).shape[1]\n",
    "\n",
    "position_model = neural_network_model_fpga(input_size=in_size_position, hidden_states= [256,128], output_size=out_size_position)\n",
    "loss = nn.CrossEntropyLoss()\n",
    "optimizer = torch.optim.Adam(position_model.parameters(), lr=0.001)\n",
    "\n",
    "device = torch.device(\"cuda:0\" if torch.cuda.is_available() else \"cpu\")\n",
    "\n",
    "trainloader_position, testloader_position = load_neural_network_data(X_position_train, y_position_train, X_position_test, y_position_test)\n"
   ]
  },
  {
   "cell_type": "code",
   "execution_count": 16,
   "metadata": {},
   "outputs": [
    {
     "output_type": "execute_result",
     "data": {
      "text/plain": [
       "(113, 86)"
      ]
     },
     "metadata": {},
     "execution_count": 16
    }
   ],
   "source": [
    "X_position.shape"
   ]
  },
  {
   "cell_type": "code",
   "execution_count": 17,
   "metadata": {},
   "outputs": [
    {
     "output_type": "stream",
     "name": "stdout",
     "text": [
      "Training Results - Epoch: 1  Avg accuracy: 0.62 Avg loss: 2.59\n",
      "Validation Results - Epoch: 1  Avg accuracy: 0.70 Avg loss: 1.36\n",
      "Training Results - Epoch: 2  Avg accuracy: 0.77 Avg loss: 0.65\n",
      "Validation Results - Epoch: 2  Avg accuracy: 0.83 Avg loss: 0.65\n",
      "Training Results - Epoch: 3  Avg accuracy: 0.90 Avg loss: 0.36\n",
      "Validation Results - Epoch: 3  Avg accuracy: 0.87 Avg loss: 0.43\n",
      "Training Results - Epoch: 4  Avg accuracy: 0.86 Avg loss: 0.60\n",
      "Validation Results - Epoch: 4  Avg accuracy: 0.91 Avg loss: 0.16\n",
      "Training Results - Epoch: 5  Avg accuracy: 0.82 Avg loss: 0.32\n",
      "Validation Results - Epoch: 5  Avg accuracy: 0.96 Avg loss: 0.14\n",
      "Training Results - Epoch: 6  Avg accuracy: 0.87 Avg loss: 0.31\n",
      "Validation Results - Epoch: 6  Avg accuracy: 0.74 Avg loss: 0.33\n",
      "Training Results - Epoch: 7  Avg accuracy: 0.90 Avg loss: 0.24\n",
      "Validation Results - Epoch: 7  Avg accuracy: 0.87 Avg loss: 0.22\n",
      "Training Results - Epoch: 8  Avg accuracy: 0.96 Avg loss: 0.15\n",
      "Validation Results - Epoch: 8  Avg accuracy: 1.00 Avg loss: 0.05\n",
      "Accuracy of the network on the test inputs: 100 %\n",
      "Confusion Matrix of position detection- \n",
      "[[ 7.  0.  0.]\n",
      " [ 0.  6.  0.]\n",
      " [ 0.  0. 10.]]\n"
     ]
    }
   ],
   "source": [
    "def score_function(engine):\n",
    "    val_loss = engine.state.metrics['crossentropy']\n",
    "    accuracy = engine.state.metrics['accuracy']\n",
    "    return accuracy\n",
    "\n",
    "trainer = create_supervised_trainer(position_model, optimizer, loss)\n",
    "evaluator = create_supervised_evaluator(position_model,\n",
    "                                        metrics={\n",
    "                                            'accuracy': Accuracy(),\n",
    "                                            'crossentropy': Loss(loss)\n",
    "                                            })\n",
    "\n",
    "handler = EarlyStopping(patience=5, score_function=score_function, trainer=trainer)\n",
    "# Note: the handler is attached to an *Evaluator* (runs one epoch on validation dataset).\n",
    "evaluator.add_event_handler(Events.COMPLETED, handler)\n",
    "\n",
    "@trainer.on(Events.EPOCH_COMPLETED)\n",
    "def log_training_results(trainer):\n",
    "    evaluator.run(trainloader_position)\n",
    "    metrics = evaluator.state.metrics\n",
    "    print(\"Training Results - Epoch: {}  Avg accuracy: {:.2f} Avg loss: {:.2f}\"\n",
    "          .format(trainer.state.epoch, metrics['accuracy'], metrics['crossentropy']))\n",
    "\n",
    "@trainer.on(Events.EPOCH_COMPLETED)\n",
    "def log_validation_results(trainer):\n",
    "    evaluator.run(testloader_position)\n",
    "    metrics = evaluator.state.metrics\n",
    "    print(\"Validation Results - Epoch: {}  Avg accuracy: {:.2f} Avg loss: {:.2f}\"\n",
    "          .format(trainer.state.epoch, metrics['accuracy'], metrics['crossentropy']))\n",
    "\n",
    "trainer.run(trainloader_position, max_epochs=35)\n",
    "\n",
    "nb_classes_position = 3\n",
    "\n",
    "confusion_matrix_position = np.zeros((nb_classes_position, nb_classes_position))\n",
    "correct_position = total_position = 0\n",
    "\n",
    "with torch.no_grad():\n",
    "    for inputs, labels in testloader_position:\n",
    "        outputs = position_model(inputs)\n",
    "        \n",
    "        _, predicted = torch.max(outputs, 1)\n",
    "        total_position += labels.size(0)\n",
    "        correct_position += (predicted == labels).sum().item()\n",
    "        for t, p in zip(labels.view(-1), predicted.view(-1)):\n",
    "            confusion_matrix_position[t.long(), p.long()] += 1\n",
    "\n",
    "print('Accuracy of the network on the test inputs: %d %%' % (\n",
    "    100 * correct_position / total_position))\n",
    "print('Confusion Matrix of position detection- ')\n",
    "print(confusion_matrix_position)"
   ]
  },
  {
   "cell_type": "code",
   "execution_count": 18,
   "metadata": {},
   "outputs": [],
   "source": [
    "torch.save(position_model.state_dict(), \"Position_Shre.pt\")"
   ]
  },
  {
   "cell_type": "code",
   "execution_count": null,
   "metadata": {},
   "outputs": [],
   "source": []
  }
 ]
}