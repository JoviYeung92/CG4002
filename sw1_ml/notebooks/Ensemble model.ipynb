{
 "metadata": {
  "language_info": {
   "codemirror_mode": {
    "name": "ipython",
    "version": 3
   },
   "file_extension": ".py",
   "mimetype": "text/x-python",
   "name": "python",
   "nbconvert_exporter": "python",
   "pygments_lexer": "ipython3",
   "version": "3.6.2-final"
  },
  "orig_nbformat": 2,
  "kernelspec": {
   "name": "Python 3.6.2 64-bit",
   "display_name": "Python 3.6.2 64-bit",
   "metadata": {
    "interpreter": {
     "hash": "e6adf29cef8b061b341cb433c300a676913b4f582f04207333fdbe5b7280c514"
    }
   }
  }
 },
 "nbformat": 4,
 "nbformat_minor": 2,
 "cells": [
  {
   "cell_type": "code",
   "execution_count": 1,
   "metadata": {
    "tags": []
   },
   "outputs": [],
   "source": [
    "import sys\n",
    "import torch\n",
    "from torch import nn\n",
    "import torch.nn.functional as F\n",
    "import numpy as np\n",
    "import seaborn as sn\n",
    "import matplotlib.pyplot as plt\n",
    "from sklearn.utils import shuffle\n",
    "from sklearn.ensemble import ExtraTreesClassifier\n",
    "from sklearn.datasets import make_classification\n",
    "\n",
    "sys.path.insert(1, 'C:\\\\Users\\\\shrey\\\\Desktop\\\\NUS- Everything\\\\Semester 7\\\\CG4002\\\\CG4002_B18\\\\sw1_ml\\\\src\\\\data\\\\')\n",
    "sys.path.insert(2, 'C:\\\\Users\\\\shrey\\\\Desktop\\\\NUS- Everything\\\\Semester 7\\\\CG4002\\\\CG4002_B18\\\\sw1_ml\\\\src\\\\model\\\\')\n",
    "sys.path.insert(3, 'C:\\\\Users\\\\shrey\\\\Desktop\\\\NUS- Everything\\\\Semester 7\\\\CG4002\\\\CG4002_B18\\\\sw1_ml\\\\src\\\\feature_extraction\\\\')\n",
    "\n",
    "from load_nn_data import load_neural_network_data\n",
    "from load_data import load_dance_data, load_position_data, load_position_data_w11\n",
    "from load_data import one_hot_encoder\n",
    "from combine_data import combine_dance_data, pre_process_dance_data, combine_all_dancer_data, pre_process_position_data, combine_all_position_data\n",
    "from neural_network_model import neural_network_model_fpga"
   ]
  },
  {
   "source": [
    "Run below when new data is added"
   ],
   "cell_type": "markdown",
   "metadata": {}
  },
  {
   "cell_type": "code",
   "execution_count": 4,
   "metadata": {},
   "outputs": [
    {
     "output_type": "stream",
     "name": "stdout",
     "text": [
      "Files read from  wy_err_13\n"
     ]
    }
   ],
   "source": [
    "# dataset = 'C:\\\\Users\\\\shrey\\\\Desktop\\\\NUS- Everything\\\\Semester 7\\\\CG4002\\\\CG4002_B18\\\\DataSets\\\\dance13_test\\\\'\n",
    "dataset = 'C:\\\\Users\\\\shrey\\\\Desktop\\\\NUS- Everything\\\\Semester 7\\\\CG4002\\\\CG4002_B18\\\\DataSets\\\\dance13_test1\\\\'\n",
    "combine_dance_data(dataset)\n",
    "pre_process_dance_data(dataset)"
   ]
  },
  {
   "cell_type": "code",
   "execution_count": 5,
   "metadata": {},
   "outputs": [],
   "source": [
    "dataset = 'C:\\\\Users\\\\shrey\\\\Desktop\\\\NUS- Everything\\\\Semester 7\\\\CG4002\\\\CG4002_B18\\\\DataSets\\\\'\n",
    "combine_all_dancer_data(dataset, 'dance13_test1', 'combined13_test')"
   ]
  },
  {
   "cell_type": "code",
   "execution_count": 6,
   "metadata": {
    "tags": []
   },
   "outputs": [
    {
     "output_type": "stream",
     "name": "stdout",
     "text": [
      "Files read from elbow.txt\n",
      "Files read from hair.txt\n",
      "Files read from logout.txt\n",
      "Files read from pushback.txt\n",
      "Files read from rocket.txt\n",
      "Files read from scarecrow.txt\n",
      "Files read from shoulder.txt\n",
      "Files read from window.txt\n",
      "Files read from zigzag.txt\n"
     ]
    }
   ],
   "source": [
    "# dataset = 'C:\\\\Users\\\\shrey\\\\Desktop\\\\NUS- Everything\\\\Semester 7\\\\CG4002\\\\CG4002_B18\\\\DataSets\\\\combined13_test\\\\'\n",
    "dataset = 'C:\\\\Users\\\\shrey\\\\Desktop\\\\NUS- Everything\\\\Semester 7\\\\CG4002\\\\CG4002_B18\\\\DataSets\\\\combined13\\\\'\n",
    "\n",
    "sampling_rate = 5\n",
    "window_size = 2.56\n",
    "\n",
    "X, y = load_dance_data(dataset, sampling_rate, window_size)"
   ]
  },
  {
   "cell_type": "code",
   "execution_count": 7,
   "metadata": {},
   "outputs": [],
   "source": [
    "X, y = shuffle(X, y)\n",
    "X_train, X_test = X[:int(len(X)*0.8), :], X[int(len(X)*0.8):, :]\n",
    "y_train, y_test = y[:int(len(X)*0.8), :], y[int(len(X)*0.8):, :]\n",
    "\n",
    "X_train = torch.from_numpy(X_train).float()\n",
    "y_train = torch.from_numpy(y_train).float()\n",
    "y_train = y_train.reshape(y_train.shape[0]).long()\n",
    "\n",
    "X_test = torch.from_numpy(X_test).float()\n",
    "y_test = torch.from_numpy(y_test).float()\n",
    "y_test = y_test.reshape(y_test.shape[0]).long()\n",
    "\n",
    "in_size = X.shape[1]\n",
    "out_size = one_hot_encoder(y).shape[1]"
   ]
  },
  {
   "cell_type": "code",
   "execution_count": 8,
   "metadata": {},
   "outputs": [
    {
     "output_type": "execute_result",
     "data": {
      "text/plain": [
       "(779, 86)"
      ]
     },
     "metadata": {},
     "execution_count": 8
    }
   ],
   "source": [
    "X.shape"
   ]
  },
  {
   "cell_type": "code",
   "execution_count": 9,
   "metadata": {},
   "outputs": [
    {
     "output_type": "execute_result",
     "data": {
      "text/plain": [
       "ExtraTreesClassifier(random_state=0)"
      ]
     },
     "metadata": {},
     "execution_count": 9
    }
   ],
   "source": [
    "clf = ExtraTreesClassifier(n_estimators=100, random_state=0)\n",
    "clf.fit(X_train, y_train)"
   ]
  },
  {
   "cell_type": "code",
   "execution_count": 10,
   "metadata": {},
   "outputs": [
    {
     "output_type": "stream",
     "name": "stdout",
     "text": [
      "Accuracy-  1.0\n"
     ]
    }
   ],
   "source": [
    "inputs, labels = X_test, y_test\n",
    "ExtraTreesClassifier(random_state=0)\n",
    "res = clf.predict(inputs)\n",
    "cor = 0\n",
    "total = len(res)\n",
    "for i in range(total):\n",
    "    if res[i] == labels[i]:\n",
    "        cor += 1\n",
    "print('Accuracy- ', cor/total)"
   ]
  },
  {
   "cell_type": "code",
   "execution_count": 11,
   "metadata": {},
   "outputs": [
    {
     "output_type": "stream",
     "name": "stdout",
     "text": [
      "Files read from elbow.txt\n",
      "Files read from hair.txt\n",
      "Files read from logout.txt\n",
      "Files read from pushback.txt\n",
      "Files read from rocket.txt\n",
      "Files read from scarecrow.txt\n",
      "Files read from shoulder.txt\n",
      "Files read from window.txt\n",
      "Files read from zigzag.txt\n"
     ]
    }
   ],
   "source": [
    "dataset = 'C:\\\\Users\\\\shrey\\\\Desktop\\\\NUS- Everything\\\\Semester 7\\\\CG4002\\\\CG4002_B18\\\\DataSets\\\\combined13_test\\\\'\n",
    "# dataset = 'C:\\\\Users\\\\shrey\\\\Desktop\\\\NUS- Everything\\\\Semester 7\\\\CG4002\\\\CG4002_B18\\\\DataSets\\\\combined13\\\\'\n",
    "\n",
    "sampling_rate = 5\n",
    "window_size = 2.56\n",
    "\n",
    "X_test_new, y_test_new = load_dance_data(dataset, sampling_rate, window_size)"
   ]
  },
  {
   "cell_type": "code",
   "execution_count": 12,
   "metadata": {},
   "outputs": [
    {
     "output_type": "stream",
     "name": "stdout",
     "text": [
      "Accuracy-  0.8464328899637243\n"
     ]
    }
   ],
   "source": [
    "inputs, labels = X_test_new, y_test_new\n",
    "ExtraTreesClassifier(random_state=0)\n",
    "res = clf.predict(inputs)\n",
    "cor = 0\n",
    "total = len(res)\n",
    "for i in range(total):\n",
    "    if res[i] == labels[i]:\n",
    "        cor += 1\n",
    "print('Accuracy- ', cor/total)"
   ]
  },
  {
   "cell_type": "code",
   "execution_count": 13,
   "metadata": {},
   "outputs": [],
   "source": [
    "import pickle\n",
    "with open('clf_ensemble_Shre_v2.pkl', 'wb') as f:\n",
    "    pickle.dump(clf, f)"
   ]
  },
  {
   "cell_type": "code",
   "execution_count": 18,
   "metadata": {},
   "outputs": [
    {
     "output_type": "stream",
     "name": "stdout",
     "text": [
      "(156, 86)\n[8]\n"
     ]
    }
   ],
   "source": [
    "clf_frequency_ensemble = pickle.load(open('clf_ensemble_Shre_v2.pkl', 'rb'))\n",
    "\n",
    "clf_frequency_ensemble.n_jobs = 1\n",
    "# p = clf_frequency_ensemble.predict(X_test)\n",
    "val = X_test.numpy()\n",
    "print(val.shape)\n",
    "# val.append(X_test[0])\n",
    "p = clf_frequency_ensemble.predict([val[20]])\n",
    "print(p)\n",
    "# print(y_test)"
   ]
  },
  {
   "cell_type": "code",
   "execution_count": 42,
   "metadata": {},
   "outputs": [],
   "source": [
    "nb_classes = 9\n",
    "\n",
    "confusion_matrix = np.zeros((nb_classes, nb_classes))\n",
    "correct = total = 0\n",
    "\n",
    "with torch.no_grad():\n",
    "    for inputs, labels in testloader:\n",
    "        outputs = nn_model(inputs)\n",
    "        \n",
    "        # print('Input-')\n",
    "        # print(inputs[0].numpy())\n",
    "        # print('Output-')\n",
    "        # print(labels[0].numpy())\n",
    "        \n",
    "        _, predicted = torch.max(outputs, 1)\n",
    "        # print('Predicted-')\n",
    "        # print(predicted[0].numpy())\n",
    "        total += labels.size(0)\n",
    "        correct += (predicted == labels).sum().item()\n",
    "        for t, p in zip(labels.view(-1), predicted.view(-1)):\n",
    "            confusion_matrix[t.long(), p.long()] += 1\n",
    "\n",
    "#confusion_matrix = np.delete(confusion_matrix, 0, 0)\n",
    "#confusion_matrix = np.delete(confusion_matrix, 0, 1)\n"
   ]
  },
  {
   "cell_type": "code",
   "execution_count": 43,
   "metadata": {
    "tags": []
   },
   "outputs": [
    {
     "output_type": "stream",
     "name": "stdout",
     "text": [
      "Accuracy of the network on the test inputs: 58 %\nConfusion Matrix of Neural Network- \n[[16.  0.  3.  1.  0.  1.  2.  1.  0.]\n [ 0. 14.  0.  0.  0.  0.  4.  0.  0.]\n [ 2.  0.  7.  5.  0.  2.  0.  0.  0.]\n [ 0.  3.  1. 10.  1.  1.  3.  0.  0.]\n [ 0.  0.  1.  5.  1.  2.  0.  0.  0.]\n [ 1.  2.  3.  2.  0.  6.  1.  2.  0.]\n [ 0.  0.  0.  0.  0.  0. 18.  0.  0.]\n [ 0.  0.  0.  0.  0.  1.  1. 16.  0.]\n [ 0.  1.  0.  1.  0.  0. 11.  0.  4.]]\n"
     ]
    }
   ],
   "source": [
    "print('Accuracy of the network on the test inputs: %d %%' % (\n",
    "    100 * correct / total))\n",
    "print('Confusion Matrix of Neural Network- ')\n",
    "print(confusion_matrix)"
   ]
  },
  {
   "cell_type": "code",
   "execution_count": 34,
   "metadata": {},
   "outputs": [
    {
     "output_type": "execute_result",
     "data": {
      "text/plain": [
       "<matplotlib.axes._subplots.AxesSubplot at 0x20a03557780>"
      ]
     },
     "metadata": {},
     "execution_count": 34
    },
    {
     "output_type": "display_data",
     "data": {
      "text/plain": "<Figure size 864x720 with 2 Axes>",
      "image/svg+xml": "<?xml version=\"1.0\" encoding=\"utf-8\" standalone=\"no\"?>\r\n<!DOCTYPE svg PUBLIC \"-//W3C//DTD SVG 1.1//EN\"\r\n  \"http://www.w3.org/Graphics/SVG/1.1/DTD/svg11.dtd\">\r\n<!-- Created with matplotlib (https://matplotlib.org/) -->\r\n<svg height=\"579.517187pt\" version=\"1.1\" viewBox=\"0 0 647.143125 579.517187\" width=\"647.143125pt\" xmlns=\"http://www.w3.org/2000/svg\" xmlns:xlink=\"http://www.w3.org/1999/xlink\">\r\n <defs>\r\n  <style type=\"text/css\">\r\n*{stroke-linecap:butt;stroke-linejoin:round;}\r\n  </style>\r\n </defs>\r\n <g id=\"figure_1\">\r\n  <g id=\"patch_1\">\r\n   <path d=\"M 0 579.517187 \r\nL 647.143125 579.517187 \r\nL 647.143125 0 \r\nL 0 0 \r\nz\r\n\" style=\"fill:none;\"/>\r\n  </g>\r\n  <g id=\"axes_1\">\r\n   <g id=\"patch_2\">\r\n    <path d=\"M 23.878125 555.639063 \r\nL 559.558125 555.639063 \r\nL 559.558125 12.039062 \r\nL 23.878125 12.039062 \r\nz\r\n\" style=\"fill:#ffffff;\"/>\r\n   </g>\r\n   <g id=\"QuadMesh_1\">\r\n    <path clip-path=\"url(#p2a1018361d)\" d=\"M 23.878125 -21.935938 \r\nL 83.398125 -21.935938 \r\nL 83.398125 46.014062 \r\nL 23.878125 46.014062 \r\nL 23.878125 -21.935938 \r\n\" style=\"fill:#f6b995;\"/>\r\n    <path clip-path=\"url(#p2a1018361d)\" d=\"M 83.398125 -21.935938 \r\nL 142.918125 -21.935938 \r\nL 142.918125 46.014062 \r\nL 83.398125 46.014062 \r\nL 83.398125 -21.935938 \r\n\" style=\"fill:#03051a;\"/>\r\n    <path clip-path=\"url(#p2a1018361d)\" d=\"M 142.918125 -21.935938 \r\nL 202.438125 -21.935938 \r\nL 202.438125 46.014062 \r\nL 142.918125 46.014062 \r\nL 142.918125 -21.935938 \r\n\" style=\"fill:#03051a;\"/>\r\n    <path clip-path=\"url(#p2a1018361d)\" d=\"M 202.438125 -21.935938 \r\nL 261.958125 -21.935938 \r\nL 261.958125 46.014062 \r\nL 202.438125 46.014062 \r\nL 202.438125 -21.935938 \r\n\" style=\"fill:#03051a;\"/>\r\n    <path clip-path=\"url(#p2a1018361d)\" d=\"M 261.958125 -21.935938 \r\nL 321.478125 -21.935938 \r\nL 321.478125 46.014062 \r\nL 261.958125 46.014062 \r\nL 261.958125 -21.935938 \r\n\" style=\"fill:#03051a;\"/>\r\n    <path clip-path=\"url(#p2a1018361d)\" d=\"M 321.478125 -21.935938 \r\nL 380.998125 -21.935938 \r\nL 380.998125 46.014062 \r\nL 321.478125 46.014062 \r\nL 321.478125 -21.935938 \r\n\" style=\"fill:#03051a;\"/>\r\n    <path clip-path=\"url(#p2a1018361d)\" d=\"M 380.998125 -21.935938 \r\nL 440.518125 -21.935938 \r\nL 440.518125 46.014062 \r\nL 380.998125 46.014062 \r\nL 380.998125 -21.935938 \r\n\" style=\"fill:#03051a;\"/>\r\n    <path clip-path=\"url(#p2a1018361d)\" d=\"M 440.518125 -21.935938 \r\nL 500.038125 -21.935938 \r\nL 500.038125 46.014062 \r\nL 440.518125 46.014062 \r\nL 440.518125 -21.935938 \r\n\" style=\"fill:#03051a;\"/>\r\n    <path clip-path=\"url(#p2a1018361d)\" d=\"M 500.038125 -21.935938 \r\nL 559.558125 -21.935938 \r\nL 559.558125 46.014062 \r\nL 500.038125 46.014062 \r\nL 500.038125 -21.935938 \r\n\" style=\"fill:#03051a;\"/>\r\n    <path clip-path=\"url(#p2a1018361d)\" d=\"M 23.878125 46.014062 \r\nL 83.398125 46.014062 \r\nL 83.398125 113.964062 \r\nL 23.878125 113.964062 \r\nL 23.878125 46.014062 \r\n\" style=\"fill:#03051a;\"/>\r\n    <path clip-path=\"url(#p2a1018361d)\" d=\"M 83.398125 46.014062 \r\nL 142.918125 46.014062 \r\nL 142.918125 113.964062 \r\nL 83.398125 113.964062 \r\nL 83.398125 46.014062 \r\n\" style=\"fill:#faebdd;\"/>\r\n    <path clip-path=\"url(#p2a1018361d)\" d=\"M 142.918125 46.014062 \r\nL 202.438125 46.014062 \r\nL 202.438125 113.964062 \r\nL 142.918125 113.964062 \r\nL 142.918125 46.014062 \r\n\" style=\"fill:#03051a;\"/>\r\n    <path clip-path=\"url(#p2a1018361d)\" d=\"M 202.438125 46.014062 \r\nL 261.958125 46.014062 \r\nL 261.958125 113.964062 \r\nL 202.438125 113.964062 \r\nL 202.438125 46.014062 \r\n\" style=\"fill:#03051a;\"/>\r\n    <path clip-path=\"url(#p2a1018361d)\" d=\"M 261.958125 46.014062 \r\nL 321.478125 46.014062 \r\nL 321.478125 113.964062 \r\nL 261.958125 113.964062 \r\nL 261.958125 46.014062 \r\n\" style=\"fill:#03051a;\"/>\r\n    <path clip-path=\"url(#p2a1018361d)\" d=\"M 321.478125 46.014062 \r\nL 380.998125 46.014062 \r\nL 380.998125 113.964062 \r\nL 321.478125 113.964062 \r\nL 321.478125 46.014062 \r\n\" style=\"fill:#03051a;\"/>\r\n    <path clip-path=\"url(#p2a1018361d)\" d=\"M 380.998125 46.014062 \r\nL 440.518125 46.014062 \r\nL 440.518125 113.964062 \r\nL 380.998125 113.964062 \r\nL 380.998125 46.014062 \r\n\" style=\"fill:#03051a;\"/>\r\n    <path clip-path=\"url(#p2a1018361d)\" d=\"M 440.518125 46.014062 \r\nL 500.038125 46.014062 \r\nL 500.038125 113.964062 \r\nL 440.518125 113.964062 \r\nL 440.518125 46.014062 \r\n\" style=\"fill:#03051a;\"/>\r\n    <path clip-path=\"url(#p2a1018361d)\" d=\"M 500.038125 46.014062 \r\nL 559.558125 46.014062 \r\nL 559.558125 113.964062 \r\nL 500.038125 113.964062 \r\nL 500.038125 46.014062 \r\n\" style=\"fill:#03051a;\"/>\r\n    <path clip-path=\"url(#p2a1018361d)\" d=\"M 23.878125 113.964062 \r\nL 83.398125 113.964062 \r\nL 83.398125 181.914062 \r\nL 23.878125 181.914062 \r\nL 23.878125 113.964062 \r\n\" style=\"fill:#03051a;\"/>\r\n    <path clip-path=\"url(#p2a1018361d)\" d=\"M 83.398125 113.964062 \r\nL 142.918125 113.964062 \r\nL 142.918125 181.914062 \r\nL 83.398125 181.914062 \r\nL 83.398125 113.964062 \r\n\" style=\"fill:#03051a;\"/>\r\n    <path clip-path=\"url(#p2a1018361d)\" d=\"M 142.918125 113.964062 \r\nL 202.438125 113.964062 \r\nL 202.438125 181.914062 \r\nL 142.918125 181.914062 \r\nL 142.918125 113.964062 \r\n\" style=\"fill:#8b1d5b;\"/>\r\n    <path clip-path=\"url(#p2a1018361d)\" d=\"M 202.438125 113.964062 \r\nL 261.958125 113.964062 \r\nL 261.958125 181.914062 \r\nL 202.438125 181.914062 \r\nL 202.438125 113.964062 \r\n\" style=\"fill:#03051a;\"/>\r\n    <path clip-path=\"url(#p2a1018361d)\" d=\"M 261.958125 113.964062 \r\nL 321.478125 113.964062 \r\nL 321.478125 181.914062 \r\nL 261.958125 181.914062 \r\nL 261.958125 113.964062 \r\n\" style=\"fill:#110c24;\"/>\r\n    <path clip-path=\"url(#p2a1018361d)\" d=\"M 321.478125 113.964062 \r\nL 380.998125 113.964062 \r\nL 380.998125 181.914062 \r\nL 321.478125 181.914062 \r\nL 321.478125 113.964062 \r\n\" style=\"fill:#03051a;\"/>\r\n    <path clip-path=\"url(#p2a1018361d)\" d=\"M 380.998125 113.964062 \r\nL 440.518125 113.964062 \r\nL 440.518125 181.914062 \r\nL 380.998125 181.914062 \r\nL 380.998125 113.964062 \r\n\" style=\"fill:#110c24;\"/>\r\n    <path clip-path=\"url(#p2a1018361d)\" d=\"M 440.518125 113.964062 \r\nL 500.038125 113.964062 \r\nL 500.038125 181.914062 \r\nL 440.518125 181.914062 \r\nL 440.518125 113.964062 \r\n\" style=\"fill:#110c24;\"/>\r\n    <path clip-path=\"url(#p2a1018361d)\" d=\"M 500.038125 113.964062 \r\nL 559.558125 113.964062 \r\nL 559.558125 181.914062 \r\nL 500.038125 181.914062 \r\nL 500.038125 113.964062 \r\n\" style=\"fill:#03051a;\"/>\r\n    <path clip-path=\"url(#p2a1018361d)\" d=\"M 23.878125 181.914062 \r\nL 83.398125 181.914062 \r\nL 83.398125 249.864062 \r\nL 23.878125 249.864062 \r\nL 23.878125 181.914062 \r\n\" style=\"fill:#03051a;\"/>\r\n    <path clip-path=\"url(#p2a1018361d)\" d=\"M 83.398125 181.914062 \r\nL 142.918125 181.914062 \r\nL 142.918125 249.864062 \r\nL 83.398125 249.864062 \r\nL 83.398125 181.914062 \r\n\" style=\"fill:#03051a;\"/>\r\n    <path clip-path=\"url(#p2a1018361d)\" d=\"M 142.918125 181.914062 \r\nL 202.438125 181.914062 \r\nL 202.438125 249.864062 \r\nL 142.918125 249.864062 \r\nL 142.918125 181.914062 \r\n\" style=\"fill:#31183b;\"/>\r\n    <path clip-path=\"url(#p2a1018361d)\" d=\"M 202.438125 181.914062 \r\nL 261.958125 181.914062 \r\nL 261.958125 249.864062 \r\nL 202.438125 249.864062 \r\nL 202.438125 181.914062 \r\n\" style=\"fill:#c21753;\"/>\r\n    <path clip-path=\"url(#p2a1018361d)\" d=\"M 261.958125 181.914062 \r\nL 321.478125 181.914062 \r\nL 321.478125 249.864062 \r\nL 261.958125 249.864062 \r\nL 261.958125 181.914062 \r\n\" style=\"fill:#03051a;\"/>\r\n    <path clip-path=\"url(#p2a1018361d)\" d=\"M 321.478125 181.914062 \r\nL 380.998125 181.914062 \r\nL 380.998125 249.864062 \r\nL 321.478125 249.864062 \r\nL 321.478125 181.914062 \r\n\" style=\"fill:#03051a;\"/>\r\n    <path clip-path=\"url(#p2a1018361d)\" d=\"M 380.998125 181.914062 \r\nL 440.518125 181.914062 \r\nL 440.518125 249.864062 \r\nL 380.998125 249.864062 \r\nL 380.998125 181.914062 \r\n\" style=\"fill:#03051a;\"/>\r\n    <path clip-path=\"url(#p2a1018361d)\" d=\"M 440.518125 181.914062 \r\nL 500.038125 181.914062 \r\nL 500.038125 249.864062 \r\nL 440.518125 249.864062 \r\nL 440.518125 181.914062 \r\n\" style=\"fill:#03051a;\"/>\r\n    <path clip-path=\"url(#p2a1018361d)\" d=\"M 500.038125 181.914062 \r\nL 559.558125 181.914062 \r\nL 559.558125 249.864062 \r\nL 500.038125 249.864062 \r\nL 500.038125 181.914062 \r\n\" style=\"fill:#03051a;\"/>\r\n    <path clip-path=\"url(#p2a1018361d)\" d=\"M 23.878125 249.864062 \r\nL 83.398125 249.864062 \r\nL 83.398125 317.814062 \r\nL 23.878125 317.814062 \r\nL 23.878125 249.864062 \r\n\" style=\"fill:#03051a;\"/>\r\n    <path clip-path=\"url(#p2a1018361d)\" d=\"M 83.398125 249.864062 \r\nL 142.918125 249.864062 \r\nL 142.918125 317.814062 \r\nL 83.398125 317.814062 \r\nL 83.398125 249.864062 \r\n\" style=\"fill:#03051a;\"/>\r\n    <path clip-path=\"url(#p2a1018361d)\" d=\"M 142.918125 249.864062 \r\nL 202.438125 249.864062 \r\nL 202.438125 317.814062 \r\nL 142.918125 317.814062 \r\nL 142.918125 249.864062 \r\n\" style=\"fill:#31183b;\"/>\r\n    <path clip-path=\"url(#p2a1018361d)\" d=\"M 202.438125 249.864062 \r\nL 261.958125 249.864062 \r\nL 261.958125 317.814062 \r\nL 202.438125 317.814062 \r\nL 202.438125 249.864062 \r\n\" style=\"fill:#531e4d;\"/>\r\n    <path clip-path=\"url(#p2a1018361d)\" d=\"M 261.958125 249.864062 \r\nL 321.478125 249.864062 \r\nL 321.478125 317.814062 \r\nL 261.958125 317.814062 \r\nL 261.958125 249.864062 \r\n\" style=\"fill:#e9423e;\"/>\r\n    <path clip-path=\"url(#p2a1018361d)\" d=\"M 321.478125 249.864062 \r\nL 380.998125 249.864062 \r\nL 380.998125 317.814062 \r\nL 321.478125 317.814062 \r\nL 321.478125 249.864062 \r\n\" style=\"fill:#03051a;\"/>\r\n    <path clip-path=\"url(#p2a1018361d)\" d=\"M 380.998125 249.864062 \r\nL 440.518125 249.864062 \r\nL 440.518125 317.814062 \r\nL 380.998125 317.814062 \r\nL 380.998125 249.864062 \r\n\" style=\"fill:#03051a;\"/>\r\n    <path clip-path=\"url(#p2a1018361d)\" d=\"M 440.518125 249.864062 \r\nL 500.038125 249.864062 \r\nL 500.038125 317.814062 \r\nL 440.518125 317.814062 \r\nL 440.518125 249.864062 \r\n\" style=\"fill:#03051a;\"/>\r\n    <path clip-path=\"url(#p2a1018361d)\" d=\"M 500.038125 249.864062 \r\nL 559.558125 249.864062 \r\nL 559.558125 317.814062 \r\nL 500.038125 317.814062 \r\nL 500.038125 249.864062 \r\n\" style=\"fill:#03051a;\"/>\r\n    <path clip-path=\"url(#p2a1018361d)\" d=\"M 23.878125 317.814062 \r\nL 83.398125 317.814062 \r\nL 83.398125 385.764063 \r\nL 23.878125 385.764063 \r\nL 23.878125 317.814062 \r\n\" style=\"fill:#03051a;\"/>\r\n    <path clip-path=\"url(#p2a1018361d)\" d=\"M 83.398125 317.814062 \r\nL 142.918125 317.814062 \r\nL 142.918125 385.764063 \r\nL 83.398125 385.764063 \r\nL 83.398125 317.814062 \r\n\" style=\"fill:#03051a;\"/>\r\n    <path clip-path=\"url(#p2a1018361d)\" d=\"M 142.918125 317.814062 \r\nL 202.438125 317.814062 \r\nL 202.438125 385.764063 \r\nL 142.918125 385.764063 \r\nL 142.918125 317.814062 \r\n\" style=\"fill:#110c24;\"/>\r\n    <path clip-path=\"url(#p2a1018361d)\" d=\"M 202.438125 317.814062 \r\nL 261.958125 317.814062 \r\nL 261.958125 385.764063 \r\nL 202.438125 385.764063 \r\nL 202.438125 317.814062 \r\n\" style=\"fill:#03051a;\"/>\r\n    <path clip-path=\"url(#p2a1018361d)\" d=\"M 261.958125 317.814062 \r\nL 321.478125 317.814062 \r\nL 321.478125 385.764063 \r\nL 261.958125 385.764063 \r\nL 261.958125 317.814062 \r\n\" style=\"fill:#03051a;\"/>\r\n    <path clip-path=\"url(#p2a1018361d)\" d=\"M 321.478125 317.814062 \r\nL 380.998125 317.814062 \r\nL 380.998125 385.764063 \r\nL 321.478125 385.764063 \r\nL 321.478125 317.814062 \r\n\" style=\"fill:#f6a880;\"/>\r\n    <path clip-path=\"url(#p2a1018361d)\" d=\"M 380.998125 317.814062 \r\nL 440.518125 317.814062 \r\nL 440.518125 385.764063 \r\nL 380.998125 385.764063 \r\nL 380.998125 317.814062 \r\n\" style=\"fill:#03051a;\"/>\r\n    <path clip-path=\"url(#p2a1018361d)\" d=\"M 440.518125 317.814062 \r\nL 500.038125 317.814062 \r\nL 500.038125 385.764063 \r\nL 440.518125 385.764063 \r\nL 440.518125 317.814062 \r\n\" style=\"fill:#211330;\"/>\r\n    <path clip-path=\"url(#p2a1018361d)\" d=\"M 500.038125 317.814062 \r\nL 559.558125 317.814062 \r\nL 559.558125 385.764063 \r\nL 500.038125 385.764063 \r\nL 500.038125 317.814062 \r\n\" style=\"fill:#03051a;\"/>\r\n    <path clip-path=\"url(#p2a1018361d)\" d=\"M 23.878125 385.764063 \r\nL 83.398125 385.764063 \r\nL 83.398125 453.714063 \r\nL 23.878125 453.714063 \r\nL 23.878125 385.764063 \r\n\" style=\"fill:#03051a;\"/>\r\n    <path clip-path=\"url(#p2a1018361d)\" d=\"M 83.398125 385.764063 \r\nL 142.918125 385.764063 \r\nL 142.918125 453.714063 \r\nL 83.398125 453.714063 \r\nL 83.398125 385.764063 \r\n\" style=\"fill:#03051a;\"/>\r\n    <path clip-path=\"url(#p2a1018361d)\" d=\"M 142.918125 385.764063 \r\nL 202.438125 385.764063 \r\nL 202.438125 453.714063 \r\nL 142.918125 453.714063 \r\nL 142.918125 385.764063 \r\n\" style=\"fill:#03051a;\"/>\r\n    <path clip-path=\"url(#p2a1018361d)\" d=\"M 202.438125 385.764063 \r\nL 261.958125 385.764063 \r\nL 261.958125 453.714063 \r\nL 202.438125 453.714063 \r\nL 202.438125 385.764063 \r\n\" style=\"fill:#03051a;\"/>\r\n    <path clip-path=\"url(#p2a1018361d)\" d=\"M 261.958125 385.764063 \r\nL 321.478125 385.764063 \r\nL 321.478125 453.714063 \r\nL 261.958125 453.714063 \r\nL 261.958125 385.764063 \r\n\" style=\"fill:#03051a;\"/>\r\n    <path clip-path=\"url(#p2a1018361d)\" d=\"M 321.478125 385.764063 \r\nL 380.998125 385.764063 \r\nL 380.998125 453.714063 \r\nL 321.478125 453.714063 \r\nL 321.478125 385.764063 \r\n\" style=\"fill:#03051a;\"/>\r\n    <path clip-path=\"url(#p2a1018361d)\" d=\"M 380.998125 385.764063 \r\nL 440.518125 385.764063 \r\nL 440.518125 453.714063 \r\nL 380.998125 453.714063 \r\nL 380.998125 385.764063 \r\n\" style=\"fill:#f6b995;\"/>\r\n    <path clip-path=\"url(#p2a1018361d)\" d=\"M 440.518125 385.764063 \r\nL 500.038125 385.764063 \r\nL 500.038125 453.714063 \r\nL 440.518125 453.714063 \r\nL 440.518125 385.764063 \r\n\" style=\"fill:#03051a;\"/>\r\n    <path clip-path=\"url(#p2a1018361d)\" d=\"M 500.038125 385.764063 \r\nL 559.558125 385.764063 \r\nL 559.558125 453.714063 \r\nL 500.038125 453.714063 \r\nL 500.038125 385.764063 \r\n\" style=\"fill:#110c24;\"/>\r\n    <path clip-path=\"url(#p2a1018361d)\" d=\"M 23.878125 453.714063 \r\nL 83.398125 453.714063 \r\nL 83.398125 521.664062 \r\nL 23.878125 521.664062 \r\nL 23.878125 453.714063 \r\n\" style=\"fill:#03051a;\"/>\r\n    <path clip-path=\"url(#p2a1018361d)\" d=\"M 83.398125 453.714063 \r\nL 142.918125 453.714063 \r\nL 142.918125 521.664062 \r\nL 83.398125 521.664062 \r\nL 83.398125 453.714063 \r\n\" style=\"fill:#110c24;\"/>\r\n    <path clip-path=\"url(#p2a1018361d)\" d=\"M 142.918125 453.714063 \r\nL 202.438125 453.714063 \r\nL 202.438125 521.664062 \r\nL 142.918125 521.664062 \r\nL 142.918125 453.714063 \r\n\" style=\"fill:#110c24;\"/>\r\n    <path clip-path=\"url(#p2a1018361d)\" d=\"M 202.438125 453.714063 \r\nL 261.958125 453.714063 \r\nL 261.958125 521.664062 \r\nL 202.438125 521.664062 \r\nL 202.438125 453.714063 \r\n\" style=\"fill:#03051a;\"/>\r\n    <path clip-path=\"url(#p2a1018361d)\" d=\"M 261.958125 453.714063 \r\nL 321.478125 453.714063 \r\nL 321.478125 521.664062 \r\nL 261.958125 521.664062 \r\nL 261.958125 453.714063 \r\n\" style=\"fill:#03051a;\"/>\r\n    <path clip-path=\"url(#p2a1018361d)\" d=\"M 321.478125 453.714063 \r\nL 380.998125 453.714063 \r\nL 380.998125 521.664062 \r\nL 321.478125 521.664062 \r\nL 321.478125 453.714063 \r\n\" style=\"fill:#03051a;\"/>\r\n    <path clip-path=\"url(#p2a1018361d)\" d=\"M 380.998125 453.714063 \r\nL 440.518125 453.714063 \r\nL 440.518125 521.664062 \r\nL 380.998125 521.664062 \r\nL 380.998125 453.714063 \r\n\" style=\"fill:#110c24;\"/>\r\n    <path clip-path=\"url(#p2a1018361d)\" d=\"M 440.518125 453.714063 \r\nL 500.038125 453.714063 \r\nL 500.038125 521.664062 \r\nL 440.518125 521.664062 \r\nL 440.518125 453.714063 \r\n\" style=\"fill:#d2204c;\"/>\r\n    <path clip-path=\"url(#p2a1018361d)\" d=\"M 500.038125 453.714063 \r\nL 559.558125 453.714063 \r\nL 559.558125 521.664062 \r\nL 500.038125 521.664062 \r\nL 500.038125 453.714063 \r\n\" style=\"fill:#110c24;\"/>\r\n    <path clip-path=\"url(#p2a1018361d)\" d=\"M 23.878125 521.664062 \r\nL 83.398125 521.664062 \r\nL 83.398125 589.614063 \r\nL 23.878125 589.614063 \r\nL 23.878125 521.664062 \r\n\" style=\"fill:#03051a;\"/>\r\n    <path clip-path=\"url(#p2a1018361d)\" d=\"M 83.398125 521.664062 \r\nL 142.918125 521.664062 \r\nL 142.918125 589.614063 \r\nL 83.398125 589.614063 \r\nL 83.398125 521.664062 \r\n\" style=\"fill:#03051a;\"/>\r\n    <path clip-path=\"url(#p2a1018361d)\" d=\"M 142.918125 521.664062 \r\nL 202.438125 521.664062 \r\nL 202.438125 589.614063 \r\nL 142.918125 589.614063 \r\nL 142.918125 521.664062 \r\n\" style=\"fill:#03051a;\"/>\r\n    <path clip-path=\"url(#p2a1018361d)\" d=\"M 202.438125 521.664062 \r\nL 261.958125 521.664062 \r\nL 261.958125 589.614063 \r\nL 202.438125 589.614063 \r\nL 202.438125 521.664062 \r\n\" style=\"fill:#03051a;\"/>\r\n    <path clip-path=\"url(#p2a1018361d)\" d=\"M 261.958125 521.664062 \r\nL 321.478125 521.664062 \r\nL 321.478125 589.614063 \r\nL 261.958125 589.614063 \r\nL 261.958125 521.664062 \r\n\" style=\"fill:#03051a;\"/>\r\n    <path clip-path=\"url(#p2a1018361d)\" d=\"M 321.478125 521.664062 \r\nL 380.998125 521.664062 \r\nL 380.998125 589.614063 \r\nL 321.478125 589.614063 \r\nL 321.478125 521.664062 \r\n\" style=\"fill:#110c24;\"/>\r\n    <path clip-path=\"url(#p2a1018361d)\" d=\"M 380.998125 521.664062 \r\nL 440.518125 521.664062 \r\nL 440.518125 589.614063 \r\nL 380.998125 589.614063 \r\nL 380.998125 521.664062 \r\n\" style=\"fill:#110c24;\"/>\r\n    <path clip-path=\"url(#p2a1018361d)\" d=\"M 440.518125 521.664062 \r\nL 500.038125 521.664062 \r\nL 500.038125 589.614063 \r\nL 440.518125 589.614063 \r\nL 440.518125 521.664062 \r\n\" style=\"fill:#03051a;\"/>\r\n    <path clip-path=\"url(#p2a1018361d)\" d=\"M 500.038125 521.664062 \r\nL 559.558125 521.664062 \r\nL 559.558125 589.614063 \r\nL 500.038125 589.614063 \r\nL 500.038125 521.664062 \r\n\" style=\"fill:#ef5840;\"/>\r\n   </g>\r\n   <g id=\"matplotlib.axis_1\">\r\n    <g id=\"xtick_1\">\r\n     <g id=\"line2d_1\">\r\n      <defs>\r\n       <path d=\"M 0 0 \r\nL 0 3.5 \r\n\" id=\"m4bcb0a77b6\" style=\"stroke:#000000;stroke-width:0.8;\"/>\r\n      </defs>\r\n      <g>\r\n       <use style=\"stroke:#000000;stroke-width:0.8;\" x=\"53.638125\" xlink:href=\"#m4bcb0a77b6\" y=\"555.639063\"/>\r\n      </g>\r\n     </g>\r\n     <g id=\"text_1\">\r\n      <!-- 0 -->\r\n      <defs>\r\n       <path d=\"M 31.78125 66.40625 \r\nQ 24.171875 66.40625 20.328125 58.90625 \r\nQ 16.5 51.421875 16.5 36.375 \r\nQ 16.5 21.390625 20.328125 13.890625 \r\nQ 24.171875 6.390625 31.78125 6.390625 \r\nQ 39.453125 6.390625 43.28125 13.890625 \r\nQ 47.125 21.390625 47.125 36.375 \r\nQ 47.125 51.421875 43.28125 58.90625 \r\nQ 39.453125 66.40625 31.78125 66.40625 \r\nz\r\nM 31.78125 74.21875 \r\nQ 44.046875 74.21875 50.515625 64.515625 \r\nQ 56.984375 54.828125 56.984375 36.375 \r\nQ 56.984375 17.96875 50.515625 8.265625 \r\nQ 44.046875 -1.421875 31.78125 -1.421875 \r\nQ 19.53125 -1.421875 13.0625 8.265625 \r\nQ 6.59375 17.96875 6.59375 36.375 \r\nQ 6.59375 54.828125 13.0625 64.515625 \r\nQ 19.53125 74.21875 31.78125 74.21875 \r\nz\r\n\" id=\"DejaVuSans-48\"/>\r\n      </defs>\r\n      <g transform=\"translate(50.456875 570.2375)scale(0.1 -0.1)\">\r\n       <use xlink:href=\"#DejaVuSans-48\"/>\r\n      </g>\r\n     </g>\r\n    </g>\r\n    <g id=\"xtick_2\">\r\n     <g id=\"line2d_2\">\r\n      <g>\r\n       <use style=\"stroke:#000000;stroke-width:0.8;\" x=\"113.158125\" xlink:href=\"#m4bcb0a77b6\" y=\"555.639063\"/>\r\n      </g>\r\n     </g>\r\n     <g id=\"text_2\">\r\n      <!-- 1 -->\r\n      <defs>\r\n       <path d=\"M 12.40625 8.296875 \r\nL 28.515625 8.296875 \r\nL 28.515625 63.921875 \r\nL 10.984375 60.40625 \r\nL 10.984375 69.390625 \r\nL 28.421875 72.90625 \r\nL 38.28125 72.90625 \r\nL 38.28125 8.296875 \r\nL 54.390625 8.296875 \r\nL 54.390625 0 \r\nL 12.40625 0 \r\nz\r\n\" id=\"DejaVuSans-49\"/>\r\n      </defs>\r\n      <g transform=\"translate(109.976875 570.2375)scale(0.1 -0.1)\">\r\n       <use xlink:href=\"#DejaVuSans-49\"/>\r\n      </g>\r\n     </g>\r\n    </g>\r\n    <g id=\"xtick_3\">\r\n     <g id=\"line2d_3\">\r\n      <g>\r\n       <use style=\"stroke:#000000;stroke-width:0.8;\" x=\"172.678125\" xlink:href=\"#m4bcb0a77b6\" y=\"555.639063\"/>\r\n      </g>\r\n     </g>\r\n     <g id=\"text_3\">\r\n      <!-- 2 -->\r\n      <defs>\r\n       <path d=\"M 19.1875 8.296875 \r\nL 53.609375 8.296875 \r\nL 53.609375 0 \r\nL 7.328125 0 \r\nL 7.328125 8.296875 \r\nQ 12.9375 14.109375 22.625 23.890625 \r\nQ 32.328125 33.6875 34.8125 36.53125 \r\nQ 39.546875 41.84375 41.421875 45.53125 \r\nQ 43.3125 49.21875 43.3125 52.78125 \r\nQ 43.3125 58.59375 39.234375 62.25 \r\nQ 35.15625 65.921875 28.609375 65.921875 \r\nQ 23.96875 65.921875 18.8125 64.3125 \r\nQ 13.671875 62.703125 7.8125 59.421875 \r\nL 7.8125 69.390625 \r\nQ 13.765625 71.78125 18.9375 73 \r\nQ 24.125 74.21875 28.421875 74.21875 \r\nQ 39.75 74.21875 46.484375 68.546875 \r\nQ 53.21875 62.890625 53.21875 53.421875 \r\nQ 53.21875 48.921875 51.53125 44.890625 \r\nQ 49.859375 40.875 45.40625 35.40625 \r\nQ 44.1875 33.984375 37.640625 27.21875 \r\nQ 31.109375 20.453125 19.1875 8.296875 \r\nz\r\n\" id=\"DejaVuSans-50\"/>\r\n      </defs>\r\n      <g transform=\"translate(169.496875 570.2375)scale(0.1 -0.1)\">\r\n       <use xlink:href=\"#DejaVuSans-50\"/>\r\n      </g>\r\n     </g>\r\n    </g>\r\n    <g id=\"xtick_4\">\r\n     <g id=\"line2d_4\">\r\n      <g>\r\n       <use style=\"stroke:#000000;stroke-width:0.8;\" x=\"232.198125\" xlink:href=\"#m4bcb0a77b6\" y=\"555.639063\"/>\r\n      </g>\r\n     </g>\r\n     <g id=\"text_4\">\r\n      <!-- 3 -->\r\n      <defs>\r\n       <path d=\"M 40.578125 39.3125 \r\nQ 47.65625 37.796875 51.625 33 \r\nQ 55.609375 28.21875 55.609375 21.1875 \r\nQ 55.609375 10.40625 48.1875 4.484375 \r\nQ 40.765625 -1.421875 27.09375 -1.421875 \r\nQ 22.515625 -1.421875 17.65625 -0.515625 \r\nQ 12.796875 0.390625 7.625 2.203125 \r\nL 7.625 11.71875 \r\nQ 11.71875 9.328125 16.59375 8.109375 \r\nQ 21.484375 6.890625 26.8125 6.890625 \r\nQ 36.078125 6.890625 40.9375 10.546875 \r\nQ 45.796875 14.203125 45.796875 21.1875 \r\nQ 45.796875 27.640625 41.28125 31.265625 \r\nQ 36.765625 34.90625 28.71875 34.90625 \r\nL 20.21875 34.90625 \r\nL 20.21875 43.015625 \r\nL 29.109375 43.015625 \r\nQ 36.375 43.015625 40.234375 45.921875 \r\nQ 44.09375 48.828125 44.09375 54.296875 \r\nQ 44.09375 59.90625 40.109375 62.90625 \r\nQ 36.140625 65.921875 28.71875 65.921875 \r\nQ 24.65625 65.921875 20.015625 65.03125 \r\nQ 15.375 64.15625 9.8125 62.3125 \r\nL 9.8125 71.09375 \r\nQ 15.4375 72.65625 20.34375 73.4375 \r\nQ 25.25 74.21875 29.59375 74.21875 \r\nQ 40.828125 74.21875 47.359375 69.109375 \r\nQ 53.90625 64.015625 53.90625 55.328125 \r\nQ 53.90625 49.265625 50.4375 45.09375 \r\nQ 46.96875 40.921875 40.578125 39.3125 \r\nz\r\n\" id=\"DejaVuSans-51\"/>\r\n      </defs>\r\n      <g transform=\"translate(229.016875 570.2375)scale(0.1 -0.1)\">\r\n       <use xlink:href=\"#DejaVuSans-51\"/>\r\n      </g>\r\n     </g>\r\n    </g>\r\n    <g id=\"xtick_5\">\r\n     <g id=\"line2d_5\">\r\n      <g>\r\n       <use style=\"stroke:#000000;stroke-width:0.8;\" x=\"291.718125\" xlink:href=\"#m4bcb0a77b6\" y=\"555.639063\"/>\r\n      </g>\r\n     </g>\r\n     <g id=\"text_5\">\r\n      <!-- 4 -->\r\n      <defs>\r\n       <path d=\"M 37.796875 64.3125 \r\nL 12.890625 25.390625 \r\nL 37.796875 25.390625 \r\nz\r\nM 35.203125 72.90625 \r\nL 47.609375 72.90625 \r\nL 47.609375 25.390625 \r\nL 58.015625 25.390625 \r\nL 58.015625 17.1875 \r\nL 47.609375 17.1875 \r\nL 47.609375 0 \r\nL 37.796875 0 \r\nL 37.796875 17.1875 \r\nL 4.890625 17.1875 \r\nL 4.890625 26.703125 \r\nz\r\n\" id=\"DejaVuSans-52\"/>\r\n      </defs>\r\n      <g transform=\"translate(288.536875 570.2375)scale(0.1 -0.1)\">\r\n       <use xlink:href=\"#DejaVuSans-52\"/>\r\n      </g>\r\n     </g>\r\n    </g>\r\n    <g id=\"xtick_6\">\r\n     <g id=\"line2d_6\">\r\n      <g>\r\n       <use style=\"stroke:#000000;stroke-width:0.8;\" x=\"351.238125\" xlink:href=\"#m4bcb0a77b6\" y=\"555.639063\"/>\r\n      </g>\r\n     </g>\r\n     <g id=\"text_6\">\r\n      <!-- 5 -->\r\n      <defs>\r\n       <path d=\"M 10.796875 72.90625 \r\nL 49.515625 72.90625 \r\nL 49.515625 64.59375 \r\nL 19.828125 64.59375 \r\nL 19.828125 46.734375 \r\nQ 21.96875 47.46875 24.109375 47.828125 \r\nQ 26.265625 48.1875 28.421875 48.1875 \r\nQ 40.625 48.1875 47.75 41.5 \r\nQ 54.890625 34.8125 54.890625 23.390625 \r\nQ 54.890625 11.625 47.5625 5.09375 \r\nQ 40.234375 -1.421875 26.90625 -1.421875 \r\nQ 22.3125 -1.421875 17.546875 -0.640625 \r\nQ 12.796875 0.140625 7.71875 1.703125 \r\nL 7.71875 11.625 \r\nQ 12.109375 9.234375 16.796875 8.0625 \r\nQ 21.484375 6.890625 26.703125 6.890625 \r\nQ 35.15625 6.890625 40.078125 11.328125 \r\nQ 45.015625 15.765625 45.015625 23.390625 \r\nQ 45.015625 31 40.078125 35.4375 \r\nQ 35.15625 39.890625 26.703125 39.890625 \r\nQ 22.75 39.890625 18.8125 39.015625 \r\nQ 14.890625 38.140625 10.796875 36.28125 \r\nz\r\n\" id=\"DejaVuSans-53\"/>\r\n      </defs>\r\n      <g transform=\"translate(348.056875 570.2375)scale(0.1 -0.1)\">\r\n       <use xlink:href=\"#DejaVuSans-53\"/>\r\n      </g>\r\n     </g>\r\n    </g>\r\n    <g id=\"xtick_7\">\r\n     <g id=\"line2d_7\">\r\n      <g>\r\n       <use style=\"stroke:#000000;stroke-width:0.8;\" x=\"410.758125\" xlink:href=\"#m4bcb0a77b6\" y=\"555.639063\"/>\r\n      </g>\r\n     </g>\r\n     <g id=\"text_7\">\r\n      <!-- 6 -->\r\n      <defs>\r\n       <path d=\"M 33.015625 40.375 \r\nQ 26.375 40.375 22.484375 35.828125 \r\nQ 18.609375 31.296875 18.609375 23.390625 \r\nQ 18.609375 15.53125 22.484375 10.953125 \r\nQ 26.375 6.390625 33.015625 6.390625 \r\nQ 39.65625 6.390625 43.53125 10.953125 \r\nQ 47.40625 15.53125 47.40625 23.390625 \r\nQ 47.40625 31.296875 43.53125 35.828125 \r\nQ 39.65625 40.375 33.015625 40.375 \r\nz\r\nM 52.59375 71.296875 \r\nL 52.59375 62.3125 \r\nQ 48.875 64.0625 45.09375 64.984375 \r\nQ 41.3125 65.921875 37.59375 65.921875 \r\nQ 27.828125 65.921875 22.671875 59.328125 \r\nQ 17.53125 52.734375 16.796875 39.40625 \r\nQ 19.671875 43.65625 24.015625 45.921875 \r\nQ 28.375 48.1875 33.59375 48.1875 \r\nQ 44.578125 48.1875 50.953125 41.515625 \r\nQ 57.328125 34.859375 57.328125 23.390625 \r\nQ 57.328125 12.15625 50.6875 5.359375 \r\nQ 44.046875 -1.421875 33.015625 -1.421875 \r\nQ 20.359375 -1.421875 13.671875 8.265625 \r\nQ 6.984375 17.96875 6.984375 36.375 \r\nQ 6.984375 53.65625 15.1875 63.9375 \r\nQ 23.390625 74.21875 37.203125 74.21875 \r\nQ 40.921875 74.21875 44.703125 73.484375 \r\nQ 48.484375 72.75 52.59375 71.296875 \r\nz\r\n\" id=\"DejaVuSans-54\"/>\r\n      </defs>\r\n      <g transform=\"translate(407.576875 570.2375)scale(0.1 -0.1)\">\r\n       <use xlink:href=\"#DejaVuSans-54\"/>\r\n      </g>\r\n     </g>\r\n    </g>\r\n    <g id=\"xtick_8\">\r\n     <g id=\"line2d_8\">\r\n      <g>\r\n       <use style=\"stroke:#000000;stroke-width:0.8;\" x=\"470.278125\" xlink:href=\"#m4bcb0a77b6\" y=\"555.639063\"/>\r\n      </g>\r\n     </g>\r\n     <g id=\"text_8\">\r\n      <!-- 7 -->\r\n      <defs>\r\n       <path d=\"M 8.203125 72.90625 \r\nL 55.078125 72.90625 \r\nL 55.078125 68.703125 \r\nL 28.609375 0 \r\nL 18.3125 0 \r\nL 43.21875 64.59375 \r\nL 8.203125 64.59375 \r\nz\r\n\" id=\"DejaVuSans-55\"/>\r\n      </defs>\r\n      <g transform=\"translate(467.096875 570.2375)scale(0.1 -0.1)\">\r\n       <use xlink:href=\"#DejaVuSans-55\"/>\r\n      </g>\r\n     </g>\r\n    </g>\r\n    <g id=\"xtick_9\">\r\n     <g id=\"line2d_9\">\r\n      <g>\r\n       <use style=\"stroke:#000000;stroke-width:0.8;\" x=\"529.798125\" xlink:href=\"#m4bcb0a77b6\" y=\"555.639063\"/>\r\n      </g>\r\n     </g>\r\n     <g id=\"text_9\">\r\n      <!-- 8 -->\r\n      <defs>\r\n       <path d=\"M 31.78125 34.625 \r\nQ 24.75 34.625 20.71875 30.859375 \r\nQ 16.703125 27.09375 16.703125 20.515625 \r\nQ 16.703125 13.921875 20.71875 10.15625 \r\nQ 24.75 6.390625 31.78125 6.390625 \r\nQ 38.8125 6.390625 42.859375 10.171875 \r\nQ 46.921875 13.96875 46.921875 20.515625 \r\nQ 46.921875 27.09375 42.890625 30.859375 \r\nQ 38.875 34.625 31.78125 34.625 \r\nz\r\nM 21.921875 38.8125 \r\nQ 15.578125 40.375 12.03125 44.71875 \r\nQ 8.5 49.078125 8.5 55.328125 \r\nQ 8.5 64.0625 14.71875 69.140625 \r\nQ 20.953125 74.21875 31.78125 74.21875 \r\nQ 42.671875 74.21875 48.875 69.140625 \r\nQ 55.078125 64.0625 55.078125 55.328125 \r\nQ 55.078125 49.078125 51.53125 44.71875 \r\nQ 48 40.375 41.703125 38.8125 \r\nQ 48.828125 37.15625 52.796875 32.3125 \r\nQ 56.78125 27.484375 56.78125 20.515625 \r\nQ 56.78125 9.90625 50.3125 4.234375 \r\nQ 43.84375 -1.421875 31.78125 -1.421875 \r\nQ 19.734375 -1.421875 13.25 4.234375 \r\nQ 6.78125 9.90625 6.78125 20.515625 \r\nQ 6.78125 27.484375 10.78125 32.3125 \r\nQ 14.796875 37.15625 21.921875 38.8125 \r\nz\r\nM 18.3125 54.390625 \r\nQ 18.3125 48.734375 21.84375 45.5625 \r\nQ 25.390625 42.390625 31.78125 42.390625 \r\nQ 38.140625 42.390625 41.71875 45.5625 \r\nQ 45.3125 48.734375 45.3125 54.390625 \r\nQ 45.3125 60.0625 41.71875 63.234375 \r\nQ 38.140625 66.40625 31.78125 66.40625 \r\nQ 25.390625 66.40625 21.84375 63.234375 \r\nQ 18.3125 60.0625 18.3125 54.390625 \r\nz\r\n\" id=\"DejaVuSans-56\"/>\r\n      </defs>\r\n      <g transform=\"translate(526.616875 570.2375)scale(0.1 -0.1)\">\r\n       <use xlink:href=\"#DejaVuSans-56\"/>\r\n      </g>\r\n     </g>\r\n    </g>\r\n   </g>\r\n   <g id=\"matplotlib.axis_2\">\r\n    <g id=\"ytick_1\">\r\n     <g id=\"line2d_10\">\r\n      <defs>\r\n       <path d=\"M 0 0 \r\nL -3.5 0 \r\n\" id=\"md705c80bfc\" style=\"stroke:#000000;stroke-width:0.8;\"/>\r\n      </defs>\r\n      <g>\r\n       <use style=\"stroke:#000000;stroke-width:0.8;\" x=\"23.878125\" xlink:href=\"#md705c80bfc\" y=\"12.039062\"/>\r\n      </g>\r\n     </g>\r\n     <g id=\"text_10\">\r\n      <!-- 0 -->\r\n      <g transform=\"translate(14.798438 14.602344)rotate(-90)scale(0.1 -0.1)\">\r\n       <use xlink:href=\"#DejaVuSans-48\"/>\r\n      </g>\r\n     </g>\r\n    </g>\r\n    <g id=\"ytick_2\">\r\n     <g id=\"line2d_11\">\r\n      <g>\r\n       <use style=\"stroke:#000000;stroke-width:0.8;\" x=\"23.878125\" xlink:href=\"#md705c80bfc\" y=\"79.989062\"/>\r\n      </g>\r\n     </g>\r\n     <g id=\"text_11\">\r\n      <!-- 1 -->\r\n      <g transform=\"translate(14.798438 82.552344)rotate(-90)scale(0.1 -0.1)\">\r\n       <use xlink:href=\"#DejaVuSans-49\"/>\r\n      </g>\r\n     </g>\r\n    </g>\r\n    <g id=\"ytick_3\">\r\n     <g id=\"line2d_12\">\r\n      <g>\r\n       <use style=\"stroke:#000000;stroke-width:0.8;\" x=\"23.878125\" xlink:href=\"#md705c80bfc\" y=\"147.939062\"/>\r\n      </g>\r\n     </g>\r\n     <g id=\"text_12\">\r\n      <!-- 2 -->\r\n      <g transform=\"translate(14.798438 150.502344)rotate(-90)scale(0.1 -0.1)\">\r\n       <use xlink:href=\"#DejaVuSans-50\"/>\r\n      </g>\r\n     </g>\r\n    </g>\r\n    <g id=\"ytick_4\">\r\n     <g id=\"line2d_13\">\r\n      <g>\r\n       <use style=\"stroke:#000000;stroke-width:0.8;\" x=\"23.878125\" xlink:href=\"#md705c80bfc\" y=\"215.889062\"/>\r\n      </g>\r\n     </g>\r\n     <g id=\"text_13\">\r\n      <!-- 3 -->\r\n      <g transform=\"translate(14.798438 218.452344)rotate(-90)scale(0.1 -0.1)\">\r\n       <use xlink:href=\"#DejaVuSans-51\"/>\r\n      </g>\r\n     </g>\r\n    </g>\r\n    <g id=\"ytick_5\">\r\n     <g id=\"line2d_14\">\r\n      <g>\r\n       <use style=\"stroke:#000000;stroke-width:0.8;\" x=\"23.878125\" xlink:href=\"#md705c80bfc\" y=\"283.839063\"/>\r\n      </g>\r\n     </g>\r\n     <g id=\"text_14\">\r\n      <!-- 4 -->\r\n      <g transform=\"translate(14.798438 286.402344)rotate(-90)scale(0.1 -0.1)\">\r\n       <use xlink:href=\"#DejaVuSans-52\"/>\r\n      </g>\r\n     </g>\r\n    </g>\r\n    <g id=\"ytick_6\">\r\n     <g id=\"line2d_15\">\r\n      <g>\r\n       <use style=\"stroke:#000000;stroke-width:0.8;\" x=\"23.878125\" xlink:href=\"#md705c80bfc\" y=\"351.789062\"/>\r\n      </g>\r\n     </g>\r\n     <g id=\"text_15\">\r\n      <!-- 5 -->\r\n      <g transform=\"translate(14.798438 354.352344)rotate(-90)scale(0.1 -0.1)\">\r\n       <use xlink:href=\"#DejaVuSans-53\"/>\r\n      </g>\r\n     </g>\r\n    </g>\r\n    <g id=\"ytick_7\">\r\n     <g id=\"line2d_16\">\r\n      <g>\r\n       <use style=\"stroke:#000000;stroke-width:0.8;\" x=\"23.878125\" xlink:href=\"#md705c80bfc\" y=\"419.739062\"/>\r\n      </g>\r\n     </g>\r\n     <g id=\"text_16\">\r\n      <!-- 6 -->\r\n      <g transform=\"translate(14.798438 422.302344)rotate(-90)scale(0.1 -0.1)\">\r\n       <use xlink:href=\"#DejaVuSans-54\"/>\r\n      </g>\r\n     </g>\r\n    </g>\r\n    <g id=\"ytick_8\">\r\n     <g id=\"line2d_17\">\r\n      <g>\r\n       <use style=\"stroke:#000000;stroke-width:0.8;\" x=\"23.878125\" xlink:href=\"#md705c80bfc\" y=\"487.689062\"/>\r\n      </g>\r\n     </g>\r\n     <g id=\"text_17\">\r\n      <!-- 7 -->\r\n      <g transform=\"translate(14.798438 490.252344)rotate(-90)scale(0.1 -0.1)\">\r\n       <use xlink:href=\"#DejaVuSans-55\"/>\r\n      </g>\r\n     </g>\r\n    </g>\r\n    <g id=\"ytick_9\">\r\n     <g id=\"line2d_18\">\r\n      <g>\r\n       <use style=\"stroke:#000000;stroke-width:0.8;\" x=\"23.878125\" xlink:href=\"#md705c80bfc\" y=\"555.639063\"/>\r\n      </g>\r\n     </g>\r\n     <g id=\"text_18\">\r\n      <!-- 8 -->\r\n      <g transform=\"translate(14.798438 558.202344)rotate(-90)scale(0.1 -0.1)\">\r\n       <use xlink:href=\"#DejaVuSans-56\"/>\r\n      </g>\r\n     </g>\r\n    </g>\r\n   </g>\r\n   <g id=\"text_19\">\r\n    <!-- 20 -->\r\n    <g style=\"fill:#262626;\" transform=\"translate(47.275625 14.798437)scale(0.1 -0.1)\">\r\n     <use xlink:href=\"#DejaVuSans-50\"/>\r\n     <use x=\"63.623047\" xlink:href=\"#DejaVuSans-48\"/>\r\n    </g>\r\n   </g>\r\n   <g id=\"text_20\">\r\n    <!-- 0 -->\r\n    <g style=\"fill:#ffffff;\" transform=\"translate(109.976875 14.798437)scale(0.1 -0.1)\">\r\n     <use xlink:href=\"#DejaVuSans-48\"/>\r\n    </g>\r\n   </g>\r\n   <g id=\"text_21\">\r\n    <!-- 0 -->\r\n    <g style=\"fill:#ffffff;\" transform=\"translate(169.496875 14.798437)scale(0.1 -0.1)\">\r\n     <use xlink:href=\"#DejaVuSans-48\"/>\r\n    </g>\r\n   </g>\r\n   <g id=\"text_22\">\r\n    <!-- 0 -->\r\n    <g style=\"fill:#ffffff;\" transform=\"translate(229.016875 14.798437)scale(0.1 -0.1)\">\r\n     <use xlink:href=\"#DejaVuSans-48\"/>\r\n    </g>\r\n   </g>\r\n   <g id=\"text_23\">\r\n    <!-- 0 -->\r\n    <g style=\"fill:#ffffff;\" transform=\"translate(288.536875 14.798437)scale(0.1 -0.1)\">\r\n     <use xlink:href=\"#DejaVuSans-48\"/>\r\n    </g>\r\n   </g>\r\n   <g id=\"text_24\">\r\n    <!-- 0 -->\r\n    <g style=\"fill:#ffffff;\" transform=\"translate(348.056875 14.798437)scale(0.1 -0.1)\">\r\n     <use xlink:href=\"#DejaVuSans-48\"/>\r\n    </g>\r\n   </g>\r\n   <g id=\"text_25\">\r\n    <!-- 0 -->\r\n    <g style=\"fill:#ffffff;\" transform=\"translate(407.576875 14.798437)scale(0.1 -0.1)\">\r\n     <use xlink:href=\"#DejaVuSans-48\"/>\r\n    </g>\r\n   </g>\r\n   <g id=\"text_26\">\r\n    <!-- 0 -->\r\n    <g style=\"fill:#ffffff;\" transform=\"translate(467.096875 14.798437)scale(0.1 -0.1)\">\r\n     <use xlink:href=\"#DejaVuSans-48\"/>\r\n    </g>\r\n   </g>\r\n   <g id=\"text_27\">\r\n    <!-- 0 -->\r\n    <g style=\"fill:#ffffff;\" transform=\"translate(526.616875 14.798437)scale(0.1 -0.1)\">\r\n     <use xlink:href=\"#DejaVuSans-48\"/>\r\n    </g>\r\n   </g>\r\n   <g id=\"text_28\">\r\n    <!-- 0 -->\r\n    <g style=\"fill:#ffffff;\" transform=\"translate(50.456875 82.748437)scale(0.1 -0.1)\">\r\n     <use xlink:href=\"#DejaVuSans-48\"/>\r\n    </g>\r\n   </g>\r\n   <g id=\"text_29\">\r\n    <!-- 23 -->\r\n    <g style=\"fill:#262626;\" transform=\"translate(106.795625 82.748437)scale(0.1 -0.1)\">\r\n     <use xlink:href=\"#DejaVuSans-50\"/>\r\n     <use x=\"63.623047\" xlink:href=\"#DejaVuSans-51\"/>\r\n    </g>\r\n   </g>\r\n   <g id=\"text_30\">\r\n    <!-- 0 -->\r\n    <g style=\"fill:#ffffff;\" transform=\"translate(169.496875 82.748437)scale(0.1 -0.1)\">\r\n     <use xlink:href=\"#DejaVuSans-48\"/>\r\n    </g>\r\n   </g>\r\n   <g id=\"text_31\">\r\n    <!-- 0 -->\r\n    <g style=\"fill:#ffffff;\" transform=\"translate(229.016875 82.748437)scale(0.1 -0.1)\">\r\n     <use xlink:href=\"#DejaVuSans-48\"/>\r\n    </g>\r\n   </g>\r\n   <g id=\"text_32\">\r\n    <!-- 0 -->\r\n    <g style=\"fill:#ffffff;\" transform=\"translate(288.536875 82.748437)scale(0.1 -0.1)\">\r\n     <use xlink:href=\"#DejaVuSans-48\"/>\r\n    </g>\r\n   </g>\r\n   <g id=\"text_33\">\r\n    <!-- 0 -->\r\n    <g style=\"fill:#ffffff;\" transform=\"translate(348.056875 82.748437)scale(0.1 -0.1)\">\r\n     <use xlink:href=\"#DejaVuSans-48\"/>\r\n    </g>\r\n   </g>\r\n   <g id=\"text_34\">\r\n    <!-- 0 -->\r\n    <g style=\"fill:#ffffff;\" transform=\"translate(407.576875 82.748437)scale(0.1 -0.1)\">\r\n     <use xlink:href=\"#DejaVuSans-48\"/>\r\n    </g>\r\n   </g>\r\n   <g id=\"text_35\">\r\n    <!-- 0 -->\r\n    <g style=\"fill:#ffffff;\" transform=\"translate(467.096875 82.748437)scale(0.1 -0.1)\">\r\n     <use xlink:href=\"#DejaVuSans-48\"/>\r\n    </g>\r\n   </g>\r\n   <g id=\"text_36\">\r\n    <!-- 0 -->\r\n    <g style=\"fill:#ffffff;\" transform=\"translate(526.616875 82.748437)scale(0.1 -0.1)\">\r\n     <use xlink:href=\"#DejaVuSans-48\"/>\r\n    </g>\r\n   </g>\r\n   <g id=\"text_37\">\r\n    <!-- 0 -->\r\n    <g style=\"fill:#ffffff;\" transform=\"translate(50.456875 150.698437)scale(0.1 -0.1)\">\r\n     <use xlink:href=\"#DejaVuSans-48\"/>\r\n    </g>\r\n   </g>\r\n   <g id=\"text_38\">\r\n    <!-- 0 -->\r\n    <g style=\"fill:#ffffff;\" transform=\"translate(109.976875 150.698437)scale(0.1 -0.1)\">\r\n     <use xlink:href=\"#DejaVuSans-48\"/>\r\n    </g>\r\n   </g>\r\n   <g id=\"text_39\">\r\n    <!-- 8 -->\r\n    <g style=\"fill:#ffffff;\" transform=\"translate(169.496875 150.698437)scale(0.1 -0.1)\">\r\n     <use xlink:href=\"#DejaVuSans-56\"/>\r\n    </g>\r\n   </g>\r\n   <g id=\"text_40\">\r\n    <!-- 0 -->\r\n    <g style=\"fill:#ffffff;\" transform=\"translate(229.016875 150.698437)scale(0.1 -0.1)\">\r\n     <use xlink:href=\"#DejaVuSans-48\"/>\r\n    </g>\r\n   </g>\r\n   <g id=\"text_41\">\r\n    <!-- 1 -->\r\n    <g style=\"fill:#ffffff;\" transform=\"translate(288.536875 150.698437)scale(0.1 -0.1)\">\r\n     <use xlink:href=\"#DejaVuSans-49\"/>\r\n    </g>\r\n   </g>\r\n   <g id=\"text_42\">\r\n    <!-- 0 -->\r\n    <g style=\"fill:#ffffff;\" transform=\"translate(348.056875 150.698437)scale(0.1 -0.1)\">\r\n     <use xlink:href=\"#DejaVuSans-48\"/>\r\n    </g>\r\n   </g>\r\n   <g id=\"text_43\">\r\n    <!-- 1 -->\r\n    <g style=\"fill:#ffffff;\" transform=\"translate(407.576875 150.698437)scale(0.1 -0.1)\">\r\n     <use xlink:href=\"#DejaVuSans-49\"/>\r\n    </g>\r\n   </g>\r\n   <g id=\"text_44\">\r\n    <!-- 1 -->\r\n    <g style=\"fill:#ffffff;\" transform=\"translate(467.096875 150.698437)scale(0.1 -0.1)\">\r\n     <use xlink:href=\"#DejaVuSans-49\"/>\r\n    </g>\r\n   </g>\r\n   <g id=\"text_45\">\r\n    <!-- 0 -->\r\n    <g style=\"fill:#ffffff;\" transform=\"translate(526.616875 150.698437)scale(0.1 -0.1)\">\r\n     <use xlink:href=\"#DejaVuSans-48\"/>\r\n    </g>\r\n   </g>\r\n   <g id=\"text_46\">\r\n    <!-- 0 -->\r\n    <g style=\"fill:#ffffff;\" transform=\"translate(50.456875 218.648438)scale(0.1 -0.1)\">\r\n     <use xlink:href=\"#DejaVuSans-48\"/>\r\n    </g>\r\n   </g>\r\n   <g id=\"text_47\">\r\n    <!-- 0 -->\r\n    <g style=\"fill:#ffffff;\" transform=\"translate(109.976875 218.648438)scale(0.1 -0.1)\">\r\n     <use xlink:href=\"#DejaVuSans-48\"/>\r\n    </g>\r\n   </g>\r\n   <g id=\"text_48\">\r\n    <!-- 3 -->\r\n    <g style=\"fill:#ffffff;\" transform=\"translate(169.496875 218.648438)scale(0.1 -0.1)\">\r\n     <use xlink:href=\"#DejaVuSans-51\"/>\r\n    </g>\r\n   </g>\r\n   <g id=\"text_49\">\r\n    <!-- 11 -->\r\n    <g style=\"fill:#ffffff;\" transform=\"translate(225.835625 218.648438)scale(0.1 -0.1)\">\r\n     <use xlink:href=\"#DejaVuSans-49\"/>\r\n     <use x=\"63.623047\" xlink:href=\"#DejaVuSans-49\"/>\r\n    </g>\r\n   </g>\r\n   <g id=\"text_50\">\r\n    <!-- 0 -->\r\n    <g style=\"fill:#ffffff;\" transform=\"translate(288.536875 218.648438)scale(0.1 -0.1)\">\r\n     <use xlink:href=\"#DejaVuSans-48\"/>\r\n    </g>\r\n   </g>\r\n   <g id=\"text_51\">\r\n    <!-- 0 -->\r\n    <g style=\"fill:#ffffff;\" transform=\"translate(348.056875 218.648438)scale(0.1 -0.1)\">\r\n     <use xlink:href=\"#DejaVuSans-48\"/>\r\n    </g>\r\n   </g>\r\n   <g id=\"text_52\">\r\n    <!-- 0 -->\r\n    <g style=\"fill:#ffffff;\" transform=\"translate(407.576875 218.648438)scale(0.1 -0.1)\">\r\n     <use xlink:href=\"#DejaVuSans-48\"/>\r\n    </g>\r\n   </g>\r\n   <g id=\"text_53\">\r\n    <!-- 0 -->\r\n    <g style=\"fill:#ffffff;\" transform=\"translate(467.096875 218.648438)scale(0.1 -0.1)\">\r\n     <use xlink:href=\"#DejaVuSans-48\"/>\r\n    </g>\r\n   </g>\r\n   <g id=\"text_54\">\r\n    <!-- 0 -->\r\n    <g style=\"fill:#ffffff;\" transform=\"translate(526.616875 218.648438)scale(0.1 -0.1)\">\r\n     <use xlink:href=\"#DejaVuSans-48\"/>\r\n    </g>\r\n   </g>\r\n   <g id=\"text_55\">\r\n    <!-- 0 -->\r\n    <g style=\"fill:#ffffff;\" transform=\"translate(50.456875 286.598437)scale(0.1 -0.1)\">\r\n     <use xlink:href=\"#DejaVuSans-48\"/>\r\n    </g>\r\n   </g>\r\n   <g id=\"text_56\">\r\n    <!-- 0 -->\r\n    <g style=\"fill:#ffffff;\" transform=\"translate(109.976875 286.598437)scale(0.1 -0.1)\">\r\n     <use xlink:href=\"#DejaVuSans-48\"/>\r\n    </g>\r\n   </g>\r\n   <g id=\"text_57\">\r\n    <!-- 3 -->\r\n    <g style=\"fill:#ffffff;\" transform=\"translate(169.496875 286.598437)scale(0.1 -0.1)\">\r\n     <use xlink:href=\"#DejaVuSans-51\"/>\r\n    </g>\r\n   </g>\r\n   <g id=\"text_58\">\r\n    <!-- 5 -->\r\n    <g style=\"fill:#ffffff;\" transform=\"translate(229.016875 286.598437)scale(0.1 -0.1)\">\r\n     <use xlink:href=\"#DejaVuSans-53\"/>\r\n    </g>\r\n   </g>\r\n   <g id=\"text_59\">\r\n    <!-- 14 -->\r\n    <g style=\"fill:#ffffff;\" transform=\"translate(285.355625 286.598437)scale(0.1 -0.1)\">\r\n     <use xlink:href=\"#DejaVuSans-49\"/>\r\n     <use x=\"63.623047\" xlink:href=\"#DejaVuSans-52\"/>\r\n    </g>\r\n   </g>\r\n   <g id=\"text_60\">\r\n    <!-- 0 -->\r\n    <g style=\"fill:#ffffff;\" transform=\"translate(348.056875 286.598437)scale(0.1 -0.1)\">\r\n     <use xlink:href=\"#DejaVuSans-48\"/>\r\n    </g>\r\n   </g>\r\n   <g id=\"text_61\">\r\n    <!-- 0 -->\r\n    <g style=\"fill:#ffffff;\" transform=\"translate(407.576875 286.598437)scale(0.1 -0.1)\">\r\n     <use xlink:href=\"#DejaVuSans-48\"/>\r\n    </g>\r\n   </g>\r\n   <g id=\"text_62\">\r\n    <!-- 0 -->\r\n    <g style=\"fill:#ffffff;\" transform=\"translate(467.096875 286.598437)scale(0.1 -0.1)\">\r\n     <use xlink:href=\"#DejaVuSans-48\"/>\r\n    </g>\r\n   </g>\r\n   <g id=\"text_63\">\r\n    <!-- 0 -->\r\n    <g style=\"fill:#ffffff;\" transform=\"translate(526.616875 286.598437)scale(0.1 -0.1)\">\r\n     <use xlink:href=\"#DejaVuSans-48\"/>\r\n    </g>\r\n   </g>\r\n   <g id=\"text_64\">\r\n    <!-- 0 -->\r\n    <g style=\"fill:#ffffff;\" transform=\"translate(50.456875 354.548437)scale(0.1 -0.1)\">\r\n     <use xlink:href=\"#DejaVuSans-48\"/>\r\n    </g>\r\n   </g>\r\n   <g id=\"text_65\">\r\n    <!-- 0 -->\r\n    <g style=\"fill:#ffffff;\" transform=\"translate(109.976875 354.548437)scale(0.1 -0.1)\">\r\n     <use xlink:href=\"#DejaVuSans-48\"/>\r\n    </g>\r\n   </g>\r\n   <g id=\"text_66\">\r\n    <!-- 1 -->\r\n    <g style=\"fill:#ffffff;\" transform=\"translate(169.496875 354.548437)scale(0.1 -0.1)\">\r\n     <use xlink:href=\"#DejaVuSans-49\"/>\r\n    </g>\r\n   </g>\r\n   <g id=\"text_67\">\r\n    <!-- 0 -->\r\n    <g style=\"fill:#ffffff;\" transform=\"translate(229.016875 354.548437)scale(0.1 -0.1)\">\r\n     <use xlink:href=\"#DejaVuSans-48\"/>\r\n    </g>\r\n   </g>\r\n   <g id=\"text_68\">\r\n    <!-- 0 -->\r\n    <g style=\"fill:#ffffff;\" transform=\"translate(288.536875 354.548437)scale(0.1 -0.1)\">\r\n     <use xlink:href=\"#DejaVuSans-48\"/>\r\n    </g>\r\n   </g>\r\n   <g id=\"text_69\">\r\n    <!-- 19 -->\r\n    <defs>\r\n     <path d=\"M 10.984375 1.515625 \r\nL 10.984375 10.5 \r\nQ 14.703125 8.734375 18.5 7.8125 \r\nQ 22.3125 6.890625 25.984375 6.890625 \r\nQ 35.75 6.890625 40.890625 13.453125 \r\nQ 46.046875 20.015625 46.78125 33.40625 \r\nQ 43.953125 29.203125 39.59375 26.953125 \r\nQ 35.25 24.703125 29.984375 24.703125 \r\nQ 19.046875 24.703125 12.671875 31.3125 \r\nQ 6.296875 37.9375 6.296875 49.421875 \r\nQ 6.296875 60.640625 12.9375 67.421875 \r\nQ 19.578125 74.21875 30.609375 74.21875 \r\nQ 43.265625 74.21875 49.921875 64.515625 \r\nQ 56.59375 54.828125 56.59375 36.375 \r\nQ 56.59375 19.140625 48.40625 8.859375 \r\nQ 40.234375 -1.421875 26.421875 -1.421875 \r\nQ 22.703125 -1.421875 18.890625 -0.6875 \r\nQ 15.09375 0.046875 10.984375 1.515625 \r\nz\r\nM 30.609375 32.421875 \r\nQ 37.25 32.421875 41.125 36.953125 \r\nQ 45.015625 41.5 45.015625 49.421875 \r\nQ 45.015625 57.28125 41.125 61.84375 \r\nQ 37.25 66.40625 30.609375 66.40625 \r\nQ 23.96875 66.40625 20.09375 61.84375 \r\nQ 16.21875 57.28125 16.21875 49.421875 \r\nQ 16.21875 41.5 20.09375 36.953125 \r\nQ 23.96875 32.421875 30.609375 32.421875 \r\nz\r\n\" id=\"DejaVuSans-57\"/>\r\n    </defs>\r\n    <g style=\"fill:#262626;\" transform=\"translate(344.875625 354.548437)scale(0.1 -0.1)\">\r\n     <use xlink:href=\"#DejaVuSans-49\"/>\r\n     <use x=\"63.623047\" xlink:href=\"#DejaVuSans-57\"/>\r\n    </g>\r\n   </g>\r\n   <g id=\"text_70\">\r\n    <!-- 0 -->\r\n    <g style=\"fill:#ffffff;\" transform=\"translate(407.576875 354.548437)scale(0.1 -0.1)\">\r\n     <use xlink:href=\"#DejaVuSans-48\"/>\r\n    </g>\r\n   </g>\r\n   <g id=\"text_71\">\r\n    <!-- 2 -->\r\n    <g style=\"fill:#ffffff;\" transform=\"translate(467.096875 354.548437)scale(0.1 -0.1)\">\r\n     <use xlink:href=\"#DejaVuSans-50\"/>\r\n    </g>\r\n   </g>\r\n   <g id=\"text_72\">\r\n    <!-- 0 -->\r\n    <g style=\"fill:#ffffff;\" transform=\"translate(526.616875 354.548437)scale(0.1 -0.1)\">\r\n     <use xlink:href=\"#DejaVuSans-48\"/>\r\n    </g>\r\n   </g>\r\n   <g id=\"text_73\">\r\n    <!-- 0 -->\r\n    <g style=\"fill:#ffffff;\" transform=\"translate(50.456875 422.498438)scale(0.1 -0.1)\">\r\n     <use xlink:href=\"#DejaVuSans-48\"/>\r\n    </g>\r\n   </g>\r\n   <g id=\"text_74\">\r\n    <!-- 0 -->\r\n    <g style=\"fill:#ffffff;\" transform=\"translate(109.976875 422.498438)scale(0.1 -0.1)\">\r\n     <use xlink:href=\"#DejaVuSans-48\"/>\r\n    </g>\r\n   </g>\r\n   <g id=\"text_75\">\r\n    <!-- 0 -->\r\n    <g style=\"fill:#ffffff;\" transform=\"translate(169.496875 422.498438)scale(0.1 -0.1)\">\r\n     <use xlink:href=\"#DejaVuSans-48\"/>\r\n    </g>\r\n   </g>\r\n   <g id=\"text_76\">\r\n    <!-- 0 -->\r\n    <g style=\"fill:#ffffff;\" transform=\"translate(229.016875 422.498438)scale(0.1 -0.1)\">\r\n     <use xlink:href=\"#DejaVuSans-48\"/>\r\n    </g>\r\n   </g>\r\n   <g id=\"text_77\">\r\n    <!-- 0 -->\r\n    <g style=\"fill:#ffffff;\" transform=\"translate(288.536875 422.498438)scale(0.1 -0.1)\">\r\n     <use xlink:href=\"#DejaVuSans-48\"/>\r\n    </g>\r\n   </g>\r\n   <g id=\"text_78\">\r\n    <!-- 0 -->\r\n    <g style=\"fill:#ffffff;\" transform=\"translate(348.056875 422.498438)scale(0.1 -0.1)\">\r\n     <use xlink:href=\"#DejaVuSans-48\"/>\r\n    </g>\r\n   </g>\r\n   <g id=\"text_79\">\r\n    <!-- 20 -->\r\n    <g style=\"fill:#262626;\" transform=\"translate(404.395625 422.498438)scale(0.1 -0.1)\">\r\n     <use xlink:href=\"#DejaVuSans-50\"/>\r\n     <use x=\"63.623047\" xlink:href=\"#DejaVuSans-48\"/>\r\n    </g>\r\n   </g>\r\n   <g id=\"text_80\">\r\n    <!-- 0 -->\r\n    <g style=\"fill:#ffffff;\" transform=\"translate(467.096875 422.498438)scale(0.1 -0.1)\">\r\n     <use xlink:href=\"#DejaVuSans-48\"/>\r\n    </g>\r\n   </g>\r\n   <g id=\"text_81\">\r\n    <!-- 1 -->\r\n    <g style=\"fill:#ffffff;\" transform=\"translate(526.616875 422.498438)scale(0.1 -0.1)\">\r\n     <use xlink:href=\"#DejaVuSans-49\"/>\r\n    </g>\r\n   </g>\r\n   <g id=\"text_82\">\r\n    <!-- 0 -->\r\n    <g style=\"fill:#ffffff;\" transform=\"translate(50.456875 490.448437)scale(0.1 -0.1)\">\r\n     <use xlink:href=\"#DejaVuSans-48\"/>\r\n    </g>\r\n   </g>\r\n   <g id=\"text_83\">\r\n    <!-- 1 -->\r\n    <g style=\"fill:#ffffff;\" transform=\"translate(109.976875 490.448437)scale(0.1 -0.1)\">\r\n     <use xlink:href=\"#DejaVuSans-49\"/>\r\n    </g>\r\n   </g>\r\n   <g id=\"text_84\">\r\n    <!-- 1 -->\r\n    <g style=\"fill:#ffffff;\" transform=\"translate(169.496875 490.448437)scale(0.1 -0.1)\">\r\n     <use xlink:href=\"#DejaVuSans-49\"/>\r\n    </g>\r\n   </g>\r\n   <g id=\"text_85\">\r\n    <!-- 0 -->\r\n    <g style=\"fill:#ffffff;\" transform=\"translate(229.016875 490.448437)scale(0.1 -0.1)\">\r\n     <use xlink:href=\"#DejaVuSans-48\"/>\r\n    </g>\r\n   </g>\r\n   <g id=\"text_86\">\r\n    <!-- 0 -->\r\n    <g style=\"fill:#ffffff;\" transform=\"translate(288.536875 490.448437)scale(0.1 -0.1)\">\r\n     <use xlink:href=\"#DejaVuSans-48\"/>\r\n    </g>\r\n   </g>\r\n   <g id=\"text_87\">\r\n    <!-- 0 -->\r\n    <g style=\"fill:#ffffff;\" transform=\"translate(348.056875 490.448437)scale(0.1 -0.1)\">\r\n     <use xlink:href=\"#DejaVuSans-48\"/>\r\n    </g>\r\n   </g>\r\n   <g id=\"text_88\">\r\n    <!-- 1 -->\r\n    <g style=\"fill:#ffffff;\" transform=\"translate(407.576875 490.448437)scale(0.1 -0.1)\">\r\n     <use xlink:href=\"#DejaVuSans-49\"/>\r\n    </g>\r\n   </g>\r\n   <g id=\"text_89\">\r\n    <!-- 12 -->\r\n    <g style=\"fill:#ffffff;\" transform=\"translate(463.915625 490.448437)scale(0.1 -0.1)\">\r\n     <use xlink:href=\"#DejaVuSans-49\"/>\r\n     <use x=\"63.623047\" xlink:href=\"#DejaVuSans-50\"/>\r\n    </g>\r\n   </g>\r\n   <g id=\"text_90\">\r\n    <!-- 1 -->\r\n    <g style=\"fill:#ffffff;\" transform=\"translate(526.616875 490.448437)scale(0.1 -0.1)\">\r\n     <use xlink:href=\"#DejaVuSans-49\"/>\r\n    </g>\r\n   </g>\r\n   <g id=\"text_91\">\r\n    <!-- 0 -->\r\n    <g style=\"fill:#ffffff;\" transform=\"translate(50.456875 558.398438)scale(0.1 -0.1)\">\r\n     <use xlink:href=\"#DejaVuSans-48\"/>\r\n    </g>\r\n   </g>\r\n   <g id=\"text_92\">\r\n    <!-- 0 -->\r\n    <g style=\"fill:#ffffff;\" transform=\"translate(109.976875 558.398438)scale(0.1 -0.1)\">\r\n     <use xlink:href=\"#DejaVuSans-48\"/>\r\n    </g>\r\n   </g>\r\n   <g id=\"text_93\">\r\n    <!-- 0 -->\r\n    <g style=\"fill:#ffffff;\" transform=\"translate(169.496875 558.398438)scale(0.1 -0.1)\">\r\n     <use xlink:href=\"#DejaVuSans-48\"/>\r\n    </g>\r\n   </g>\r\n   <g id=\"text_94\">\r\n    <!-- 0 -->\r\n    <g style=\"fill:#ffffff;\" transform=\"translate(229.016875 558.398438)scale(0.1 -0.1)\">\r\n     <use xlink:href=\"#DejaVuSans-48\"/>\r\n    </g>\r\n   </g>\r\n   <g id=\"text_95\">\r\n    <!-- 0 -->\r\n    <g style=\"fill:#ffffff;\" transform=\"translate(288.536875 558.398438)scale(0.1 -0.1)\">\r\n     <use xlink:href=\"#DejaVuSans-48\"/>\r\n    </g>\r\n   </g>\r\n   <g id=\"text_96\">\r\n    <!-- 1 -->\r\n    <g style=\"fill:#ffffff;\" transform=\"translate(348.056875 558.398438)scale(0.1 -0.1)\">\r\n     <use xlink:href=\"#DejaVuSans-49\"/>\r\n    </g>\r\n   </g>\r\n   <g id=\"text_97\">\r\n    <!-- 1 -->\r\n    <g style=\"fill:#ffffff;\" transform=\"translate(407.576875 558.398438)scale(0.1 -0.1)\">\r\n     <use xlink:href=\"#DejaVuSans-49\"/>\r\n    </g>\r\n   </g>\r\n   <g id=\"text_98\">\r\n    <!-- 0 -->\r\n    <g style=\"fill:#ffffff;\" transform=\"translate(467.096875 558.398438)scale(0.1 -0.1)\">\r\n     <use xlink:href=\"#DejaVuSans-48\"/>\r\n    </g>\r\n   </g>\r\n   <g id=\"text_99\">\r\n    <!-- 15 -->\r\n    <g style=\"fill:#ffffff;\" transform=\"translate(523.435625 558.398438)scale(0.1 -0.1)\">\r\n     <use xlink:href=\"#DejaVuSans-49\"/>\r\n     <use x=\"63.623047\" xlink:href=\"#DejaVuSans-53\"/>\r\n    </g>\r\n   </g>\r\n  </g>\r\n  <g id=\"axes_2\">\r\n   <g id=\"patch_3\">\r\n    <path clip-path=\"url(#pf755ce14fe)\" d=\"M 593.038125 555.639062 \r\nL 593.038125 553.515625 \r\nL 593.038125 14.1625 \r\nL 593.038125 12.039062 \r\nL 620.218125 12.039062 \r\nL 620.218125 14.1625 \r\nL 620.218125 553.515625 \r\nL 620.218125 555.639062 \r\nz\r\n\" style=\"fill:#ffffff;stroke:#ffffff;stroke-linejoin:miter;stroke-width:0.01;\"/>\r\n   </g>\r\n   <image height=\"543\" id=\"imagefcd340846d\" transform=\"scale(1 -1)translate(0 -543)\" width=\"27\" x=\"593\" xlink:href=\"data:image/png;base64,\r\niVBORw0KGgoAAAANSUhEUgAAABsAAAIfCAYAAACB2qdqAAAABHNCSVQICAgIfAhkiAAAAoFJREFUeJztnYFt2EAMxP4dd4nuv2eyBHGACXIBQT1K+rpFcn/+/f89I55VoXPOee+w2Lizu+utzhDee7SdaTN7tJ15bRRnZu1sLIhWfa0gDTVCc4YgzqxnAYH4eHrVb10RlBnCe++uXicGwXtivJklCIJXkDJDKDMEc2bazrTP7wRB8ArSukLIRgRxZt7OtP+HpxcxQicGoRODYM5M29myWnP2vWINNUJDjWC20bquxDaaN4i0s9RHSH2EPichiL/wtEEIyux7xRIEoeOJYD6e2sy8c9ZuJFAfzx2tKwSv+tmIkI0I2YggPp7P7GdCNdQQ6qHe0bpCyEaEtj6C18bURzB31lADZCOCuLOrnTNtZv0xInRiELIRIRsR1jbuQsvG7xUTryvxUP9qh3pYLBsROjEIaxulmbWuEMSdadUvM4SOJ8L7DF882fi9YuZ1Nfwni/VQWzsT//3Mm5m2M3Nmu2Li45n6BKmPkI0I48yGXzebMwRvZq0rBPW62hXLRgTvuurEINTZ94qlPkLHE0F9PHfFmjMEcWbHOmcJglBnCOOh1nZWZgRlhuDNbC2I9We6aAUpM4R1Z9bMspEgGxG8NiYIgrgz768k82Zm7mxXr8wQOp4IYkHO8HtSmSGIO7udGIA2CII3s96NCF5BGmqEjieCOLPmjKDjibBWXyqIOTNxZ1obxSfG2lmfbQlSH6HOEHrwILRBEMyZWTtrXSF4BTF31iIGKDOEMkMwH0+vIN7OrOqXGUKZIZQZgvh43vszK5YgCObOWlcAZYbwnke7G62ZNdQIXkF68CBkI0KZIfQsQPBm1lAjvNcqiDgz7VC3iBGaMwTvbkwQBPVQSxfxH4szL/1vdzcNAAAAAElFTkSuQmCC\" y=\"-12\"/>\r\n   <g id=\"matplotlib.axis_3\"/>\r\n   <g id=\"matplotlib.axis_4\">\r\n    <g id=\"ytick_10\">\r\n     <g id=\"line2d_19\">\r\n      <defs>\r\n       <path d=\"M 0 0 \r\nL 3.5 0 \r\n\" id=\"m043b7d68ad\" style=\"stroke:#000000;stroke-width:0.8;\"/>\r\n      </defs>\r\n      <g>\r\n       <use style=\"stroke:#000000;stroke-width:0.8;\" x=\"620.218125\" xlink:href=\"#m043b7d68ad\" y=\"555.639062\"/>\r\n      </g>\r\n     </g>\r\n     <g id=\"text_100\">\r\n      <!-- 0 -->\r\n      <g transform=\"translate(627.218125 559.438281)scale(0.1 -0.1)\">\r\n       <use xlink:href=\"#DejaVuSans-48\"/>\r\n      </g>\r\n     </g>\r\n    </g>\r\n    <g id=\"ytick_11\">\r\n     <g id=\"line2d_20\">\r\n      <g>\r\n       <use style=\"stroke:#000000;stroke-width:0.8;\" x=\"620.218125\" xlink:href=\"#m043b7d68ad\" y=\"437.465149\"/>\r\n      </g>\r\n     </g>\r\n     <g id=\"text_101\">\r\n      <!-- 5 -->\r\n      <g transform=\"translate(627.218125 441.264368)scale(0.1 -0.1)\">\r\n       <use xlink:href=\"#DejaVuSans-53\"/>\r\n      </g>\r\n     </g>\r\n    </g>\r\n    <g id=\"ytick_12\">\r\n     <g id=\"line2d_21\">\r\n      <g>\r\n       <use style=\"stroke:#000000;stroke-width:0.8;\" x=\"620.218125\" xlink:href=\"#m043b7d68ad\" y=\"319.291236\"/>\r\n      </g>\r\n     </g>\r\n     <g id=\"text_102\">\r\n      <!-- 10 -->\r\n      <g transform=\"translate(627.218125 323.090455)scale(0.1 -0.1)\">\r\n       <use xlink:href=\"#DejaVuSans-49\"/>\r\n       <use x=\"63.623047\" xlink:href=\"#DejaVuSans-48\"/>\r\n      </g>\r\n     </g>\r\n    </g>\r\n    <g id=\"ytick_13\">\r\n     <g id=\"line2d_22\">\r\n      <g>\r\n       <use style=\"stroke:#000000;stroke-width:0.8;\" x=\"620.218125\" xlink:href=\"#m043b7d68ad\" y=\"201.117323\"/>\r\n      </g>\r\n     </g>\r\n     <g id=\"text_103\">\r\n      <!-- 15 -->\r\n      <g transform=\"translate(627.218125 204.916542)scale(0.1 -0.1)\">\r\n       <use xlink:href=\"#DejaVuSans-49\"/>\r\n       <use x=\"63.623047\" xlink:href=\"#DejaVuSans-53\"/>\r\n      </g>\r\n     </g>\r\n    </g>\r\n    <g id=\"ytick_14\">\r\n     <g id=\"line2d_23\">\r\n      <g>\r\n       <use style=\"stroke:#000000;stroke-width:0.8;\" x=\"620.218125\" xlink:href=\"#m043b7d68ad\" y=\"82.94341\"/>\r\n      </g>\r\n     </g>\r\n     <g id=\"text_104\">\r\n      <!-- 20 -->\r\n      <g transform=\"translate(627.218125 86.742629)scale(0.1 -0.1)\">\r\n       <use xlink:href=\"#DejaVuSans-50\"/>\r\n       <use x=\"63.623047\" xlink:href=\"#DejaVuSans-48\"/>\r\n      </g>\r\n     </g>\r\n    </g>\r\n   </g>\r\n   <g id=\"patch_4\">\r\n    <path d=\"M 593.038125 555.639062 \r\nL 593.038125 553.515625 \r\nL 593.038125 14.1625 \r\nL 593.038125 12.039062 \r\nL 620.218125 12.039062 \r\nL 620.218125 14.1625 \r\nL 620.218125 553.515625 \r\nL 620.218125 555.639062 \r\nz\r\n\" style=\"fill:none;\"/>\r\n   </g>\r\n  </g>\r\n </g>\r\n <defs>\r\n  <clipPath id=\"p2a1018361d\">\r\n   <rect height=\"543.6\" width=\"535.68\" x=\"23.878125\" y=\"12.039062\"/>\r\n  </clipPath>\r\n  <clipPath id=\"pf755ce14fe\">\r\n   <rect height=\"543.6\" width=\"27.18\" x=\"593.038125\" y=\"12.039062\"/>\r\n  </clipPath>\r\n </defs>\r\n</svg>\r\n",
      "image/png": "[encoded data removed]"
     },
     "metadata": {
      "needs_background": "light"
     }
    }
   ],
   "source": [
    "plt.figure(figsize = (12, 10))\n",
    "sn.heatmap(confusion_matrix, annot=True)"
   ]
  },
  {
   "cell_type": "code",
   "execution_count": 39,
   "metadata": {},
   "outputs": [],
   "source": [
    "trainloader, testloader = load_neural_network_data(X_train, y_train, X_test, y_test)"
   ]
  },
  {
   "cell_type": "code",
   "execution_count": 29,
   "metadata": {},
   "outputs": [],
   "source": [
    "nn_model = neural_network_model_fpga(input_size=in_size, hidden_states= [256,128], output_size=out_size)\n",
    "loss = nn.CrossEntropyLoss()\n",
    "optimizer = torch.optim.Adam(nn_model.parameters(), lr=0.001)\n",
    "\n",
    "device = torch.device(\"cuda:0\" if torch.cuda.is_available() else \"cpu\")"
   ]
  },
  {
   "cell_type": "code",
   "execution_count": 31,
   "metadata": {
    "tags": []
   },
   "outputs": [
    {
     "output_type": "stream",
     "name": "stdout",
     "text": [
      "Training Results - Epoch: 1  Avg accuracy: 0.45 Avg loss: 1.67\n",
      "Validation Results - Epoch: 1  Avg accuracy: 0.43 Avg loss: 1.72\n",
      "Training Results - Epoch: 2  Avg accuracy: 0.49 Avg loss: 1.38\n",
      "Validation Results - Epoch: 2  Avg accuracy: 0.48 Avg loss: 1.47\n",
      "Training Results - Epoch: 3  Avg accuracy: 0.61 Avg loss: 1.06\n",
      "Validation Results - Epoch: 3  Avg accuracy: 0.60 Avg loss: 1.18\n",
      "Training Results - Epoch: 4  Avg accuracy: 0.69 Avg loss: 0.92\n",
      "Validation Results - Epoch: 4  Avg accuracy: 0.62 Avg loss: 1.10\n",
      "Training Results - Epoch: 5  Avg accuracy: 0.67 Avg loss: 0.91\n",
      "Validation Results - Epoch: 5  Avg accuracy: 0.63 Avg loss: 1.16\n",
      "Training Results - Epoch: 6  Avg accuracy: 0.72 Avg loss: 0.84\n",
      "Validation Results - Epoch: 6  Avg accuracy: 0.68 Avg loss: 0.98\n",
      "Training Results - Epoch: 7  Avg accuracy: 0.81 Avg loss: 0.63\n",
      "Validation Results - Epoch: 7  Avg accuracy: 0.72 Avg loss: 0.86\n",
      "Training Results - Epoch: 8  Avg accuracy: 0.84 Avg loss: 0.59\n",
      "Validation Results - Epoch: 8  Avg accuracy: 0.78 Avg loss: 0.75\n",
      "Training Results - Epoch: 9  Avg accuracy: 0.83 Avg loss: 0.57\n",
      "Validation Results - Epoch: 9  Avg accuracy: 0.74 Avg loss: 0.85\n",
      "Training Results - Epoch: 10  Avg accuracy: 0.88 Avg loss: 0.46\n",
      "Validation Results - Epoch: 10  Avg accuracy: 0.79 Avg loss: 0.73\n",
      "Training Results - Epoch: 11  Avg accuracy: 0.87 Avg loss: 0.46\n",
      "Validation Results - Epoch: 11  Avg accuracy: 0.77 Avg loss: 0.77\n",
      "Training Results - Epoch: 12  Avg accuracy: 0.88 Avg loss: 0.41\n",
      "Validation Results - Epoch: 12  Avg accuracy: 0.76 Avg loss: 0.68\n",
      "Training Results - Epoch: 13  Avg accuracy: 0.93 Avg loss: 0.29\n",
      "Validation Results - Epoch: 13  Avg accuracy: 0.81 Avg loss: 0.57\n",
      "Training Results - Epoch: 14  Avg accuracy: 0.93 Avg loss: 0.27\n",
      "Validation Results - Epoch: 14  Avg accuracy: 0.84 Avg loss: 0.51\n",
      "Training Results - Epoch: 15  Avg accuracy: 0.95 Avg loss: 0.23\n",
      "Validation Results - Epoch: 15  Avg accuracy: 0.83 Avg loss: 0.54\n",
      "Training Results - Epoch: 16  Avg accuracy: 0.90 Avg loss: 0.28\n",
      "Validation Results - Epoch: 16  Avg accuracy: 0.80 Avg loss: 0.64\n",
      "Training Results - Epoch: 17  Avg accuracy: 0.93 Avg loss: 0.23\n",
      "Validation Results - Epoch: 17  Avg accuracy: 0.86 Avg loss: 0.54\n"
     ]
    },
    {
     "output_type": "execute_result",
     "data": {
      "text/plain": [
       "State:\n",
       "\titeration: 357\n",
       "\tepoch: 17\n",
       "\tepoch_length: 21\n",
       "\tmax_epochs: 35\n",
       "\toutput: 0.3790728747844696\n",
       "\tbatch: <class 'list'>\n",
       "\tmetrics: <class 'dict'>\n",
       "\tdataloader: <class 'torch.utils.data.dataloader.DataLoader'>\n",
       "\tseed: <class 'NoneType'>\n",
       "\ttimes: <class 'dict'>"
      ]
     },
     "metadata": {},
     "execution_count": 31
    }
   ],
   "source": [
    "def score_function(engine):\n",
    "    val_loss = engine.state.metrics['crossentropy']\n",
    "    accuracy = engine.state.metrics['accuracy']\n",
    "    return accuracy\n",
    "\n",
    "trainer = create_supervised_trainer(nn_model, optimizer, loss)\n",
    "evaluator = create_supervised_evaluator(nn_model,\n",
    "                                        metrics={\n",
    "                                            'accuracy': Accuracy(),\n",
    "                                            'crossentropy': Loss(loss)\n",
    "                                            })\n",
    "\n",
    "handler = EarlyStopping(patience=5, score_function=score_function, trainer=trainer)\n",
    "# Note: the handler is attached to an *Evaluator* (runs one epoch on validation dataset).\n",
    "evaluator.add_event_handler(Events.COMPLETED, handler)\n",
    "\n",
    "@trainer.on(Events.EPOCH_COMPLETED)\n",
    "def log_training_results(trainer):\n",
    "    evaluator.run(trainloader)\n",
    "    metrics = evaluator.state.metrics\n",
    "    print(\"Training Results - Epoch: {}  Avg accuracy: {:.2f} Avg loss: {:.2f}\"\n",
    "          .format(trainer.state.epoch, metrics['accuracy'], metrics['crossentropy']))\n",
    "\n",
    "@trainer.on(Events.EPOCH_COMPLETED)\n",
    "def log_validation_results(trainer):\n",
    "    evaluator.run(testloader)\n",
    "    metrics = evaluator.state.metrics\n",
    "    print(\"Validation Results - Epoch: {}  Avg accuracy: {:.2f} Avg loss: {:.2f}\"\n",
    "          .format(trainer.state.epoch, metrics['accuracy'], metrics['crossentropy']))\n",
    "\n",
    "trainer.run(trainloader, max_epochs=35)"
   ]
  },
  {
   "cell_type": "code",
   "execution_count": 35,
   "metadata": {},
   "outputs": [],
   "source": [
    "torch.save(nn_model.state_dict(), \"NN_9moves_WY_85.pt\")"
   ]
  },
  {
   "cell_type": "code",
   "execution_count": 8,
   "metadata": {},
   "outputs": [
    {
     "output_type": "execute_result",
     "data": {
      "text/plain": [
       "Sequential(\n",
       "  (0): QuantStub()\n",
       "  (1): Linear(in_features=86, out_features=256, bias=True)\n",
       "  (2): ReLU()\n",
       "  (3): Linear(in_features=256, out_features=128, bias=True)\n",
       "  (4): ReLU()\n",
       "  (5): Linear(in_features=128, out_features=6, bias=True)\n",
       "  (6): LogSoftmax()\n",
       "  (7): DeQuantStub()\n",
       ")"
      ]
     },
     "metadata": {},
     "execution_count": 8
    }
   ],
   "source": [
    "nn_model = neural_network_model_fpga(input_size=in_size, hidden_states= [256,128], output_size=out_size)\n",
    "nn_model.load_state_dict(torch.load(\"NN_3moves_3posnew_90_best.pt\"))\n",
    "nn_model.eval()"
   ]
  },
  {
   "cell_type": "code",
   "execution_count": 20,
   "metadata": {},
   "outputs": [],
   "source": [
    "torch.set_printoptions(edgeitems=10000) \n",
    "np.set_printoptions(edgeitems=10000)"
   ]
  },
  {
   "source": [
    "## ML Model for position detection\n",
    "\n",
    "Run below when new data is added"
   ],
   "cell_type": "markdown",
   "metadata": {}
  },
  {
   "cell_type": "code",
   "execution_count": 18,
   "metadata": {},
   "outputs": [],
   "source": [
    "torch.save(position_model.state_dict(), \"Position_Shre.pt\")"
   ]
  }
 ]
}